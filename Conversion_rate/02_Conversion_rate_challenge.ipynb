{
  "cells": [
    {
      "cell_type": "markdown",
      "metadata": {
        "id": "KgKPg8qHZoAE"
      },
      "source": [
        "# Import libraries"
      ]
    },
    {
      "cell_type": "markdown",
      "metadata": {
        "id": "aRrmRfUzZoAZ"
      },
      "source": [
        "# START FROM HERE"
      ]
    },
    {
      "cell_type": "markdown",
      "metadata": {
        "id": "_Wrh3UHaZoAZ"
      },
      "source": [
        "## 1) IMPORTS"
      ]
    },
    {
      "cell_type": "markdown",
      "metadata": {
        "id": "J0WSofgtZoAZ"
      },
      "source": [
        "### 1.a) Importing libraries"
      ]
    },
    {
      "cell_type": "code",
      "execution_count": null,
      "metadata": {
        "id": "RZfR6AqJZoAZ"
      },
      "outputs": [],
      "source": [
        "### ====== Import python essential libraries ====== ###\n",
        "\n",
        "import pandas as pd\n",
        "import numpy as np\n",
        "\n",
        "### ====== import sklearn essentials ====== ###\n",
        "\n",
        "from sklearn.model_selection import train_test_split\n",
        "from sklearn.impute import SimpleImputer\n",
        "from sklearn.preprocessing import StandardScaler ,  OneHotEncoder, LabelEncoder\n",
        "from sklearn.compose import ColumnTransformer\n",
        "from sklearn.linear_model import LogisticRegression\n",
        "from sklearn.tree import DecisionTreeClassifier\n",
        "from sklearn.metrics import f1_score, confusion_matrix, accuracy_score, recall_score, precision_score\n",
        "from sklearn.pipeline import Pipeline\n",
        "from sklearn.model_selection import GridSearchCV\n",
        "\n",
        "### ====== Import the ensemble ====== ###\n",
        "\n",
        "from sklearn.ensemble import RandomForestClassifier\n",
        "from sklearn.ensemble import BaggingClassifier, AdaBoostClassifier, GradientBoostingClassifier, VotingClassifier, StackingClassifier\n",
        "from xgboost import XGBClassifier\n",
        "from sklearn.model_selection import GridSearchCV\n",
        "from sklearn.tree import DecisionTreeClassifier\n",
        "\n",
        "\n",
        "### ====== Import graphic libraries ====== ###\n",
        "\n",
        "import matplotlib.pyplot as plt\n",
        "\n"
      ]
    },
    {
      "cell_type": "markdown",
      "metadata": {
        "id": "ZdedloCeZoAa"
      },
      "source": [
        "### 1.b) Importing the data"
      ]
    },
    {
      "cell_type": "code",
      "execution_count": null,
      "metadata": {
        "id": "cuxFjvd6ZoAa"
      },
      "outputs": [],
      "source": [
        "df = pd.read_csv('conversion_data_train.csv')"
      ]
    },
    {
      "cell_type": "markdown",
      "metadata": {
        "id": "FqqANtTzZoAa"
      },
      "source": [
        "## 2) Data Preparations and Preprocessing"
      ]
    },
    {
      "cell_type": "markdown",
      "metadata": {
        "id": "P594VGn3ZoAb"
      },
      "source": [
        "### 2.a) EDA"
      ]
    },
    {
      "cell_type": "code",
      "execution_count": null,
      "metadata": {
        "colab": {
          "base_uri": "https://localhost:8080/"
        },
        "id": "lz6DivcGZoAb",
        "outputId": "be2dccb9-be5d-4366-c25c-74e61887068d"
      },
      "outputs": [
        {
          "name": "stdout",
          "output_type": "stream",
          "text": [
            "1) A sample of the dataset:\n",
            "   country  age  new_user  source  total_pages_visited  converted\n",
            "0    China   22         1  Direct                    2          0\n",
            "1       UK   21         1     Ads                    3          0\n",
            "2  Germany   20         0     Seo                   14          1\n",
            "3       US   23         1     Seo                    3          0\n",
            "4       US   28         1  Direct                    3          0\n",
            "\n",
            "2) Dataset description\n",
            "                 age       new_user  total_pages_visited      converted\n",
            "count  284580.000000  284580.000000        284580.000000  284580.000000\n",
            "mean       30.564203       0.685452             4.873252       0.032258\n",
            "std         8.266789       0.464336             3.341995       0.176685\n",
            "min        17.000000       0.000000             1.000000       0.000000\n",
            "25%        24.000000       0.000000             2.000000       0.000000\n",
            "50%        30.000000       1.000000             4.000000       0.000000\n",
            "75%        36.000000       1.000000             7.000000       0.000000\n",
            "max       123.000000       1.000000            29.000000       1.000000\n",
            "\n",
            "3) Percentage of missing values:\n",
            "country                0.0\n",
            "age                    0.0\n",
            "new_user               0.0\n",
            "source                 0.0\n",
            "total_pages_visited    0.0\n",
            "converted              0.0\n",
            "dtype: float64\n",
            "\n",
            "4) Dataset shape : (284580, 6)\n"
          ]
        }
      ],
      "source": [
        "print('1) A sample of the dataset:')\n",
        "print(df.head())\n",
        "print()\n",
        "\n",
        "print('2) Dataset description')\n",
        "print(df.describe())\n",
        "print()\n",
        "\n",
        "print('3) Percentage of missing values:')\n",
        "print(df.isna().sum()/df.shape[0]*100)\n",
        "print()\n",
        "\n",
        "print('4) Dataset shape :', df.shape)"
      ]
    },
    {
      "cell_type": "markdown",
      "metadata": {
        "id": "yj38KdWdZoAc"
      },
      "source": [
        "### 2.b) Outliers and shaping"
      ]
    },
    {
      "cell_type": "code",
      "execution_count": null,
      "metadata": {
        "colab": {
          "base_uri": "https://localhost:8080/"
        },
        "id": "njC_H_elZoAc",
        "outputId": "7c64103e-bf67-47a1-cafb-7796b2c5a85b"
      },
      "outputs": [
        {
          "name": "stdout",
          "output_type": "stream",
          "text": [
            " dataset rows reduced to  284373\n"
          ]
        }
      ],
      "source": [
        "mask = df['age'] <= 60\n",
        "df = df.loc[mask,:]\n",
        "print(' dataset rows reduced to ', df.shape[0])"
      ]
    },
    {
      "cell_type": "markdown",
      "metadata": {
        "id": "G7YqCnV_ZoAd"
      },
      "source": [
        "### 2c.) Preprocessing before the pipelines\n",
        "\n",
        "1. Seperating the X  features from Y the target\n",
        "2. Splitting the data to train and test"
      ]
    },
    {
      "cell_type": "code",
      "execution_count": null,
      "metadata": {
        "id": "SNtbHlFMZoAd"
      },
      "outputs": [],
      "source": [
        "features_list = [ 'total_pages_visited' ,'country', 'age', 'new_user', 'source']\n",
        "target = ['converted']\n",
        "\n",
        "mask = df[features_list]\n",
        "X = df.loc[:,features_list]\n",
        "Y= df['converted']"
      ]
    },
    {
      "cell_type": "code",
      "execution_count": null,
      "metadata": {
        "colab": {
          "base_uri": "https://localhost:8080/"
        },
        "id": "UCtoYyvWZoAe",
        "outputId": "f80b40bb-7835-4938-e672-53a8b38c1827"
      },
      "outputs": [
        {
          "name": "stdout",
          "output_type": "stream",
          "text": [
            "Features dataset sample:\n",
            "   total_pages_visited  country  age  new_user  source\n",
            "0                    2    China   22         1  Direct\n",
            "1                    3       UK   21         1     Ads\n",
            "2                   14  Germany   20         0     Seo\n",
            "3                    3       US   23         1     Seo\n",
            "4                    3       US   28         1  Direct\n",
            "Dataset shape:  (284373, 5)\n"
          ]
        }
      ],
      "source": [
        "print('Features dataset sample:')\n",
        "print(X.head())\n",
        "print('Dataset shape: ',X.shape)"
      ]
    },
    {
      "cell_type": "code",
      "execution_count": null,
      "metadata": {
        "colab": {
          "base_uri": "https://localhost:8080/"
        },
        "id": "pk-qA8JYZoAe",
        "outputId": "87e127b3-4ee9-4b76-b758-20296383fa25"
      },
      "outputs": [
        {
          "name": "stdout",
          "output_type": "stream",
          "text": [
            "Features dataset sample and shape:\n",
            "0    0\n",
            "1    0\n",
            "2    1\n",
            "3    0\n",
            "4    0\n",
            "Name: converted, dtype: int64\n",
            "Dataset shape:  (284373,)\n"
          ]
        }
      ],
      "source": [
        "print('Features dataset sample and shape:')\n",
        "print(Y.head())\n",
        "print('Dataset shape: ',Y.shape)"
      ]
    },
    {
      "cell_type": "markdown",
      "metadata": {
        "id": "I472kEEbZoAf"
      },
      "source": [
        "Splitting the dataset into training and test sets"
      ]
    },
    {
      "cell_type": "code",
      "execution_count": null,
      "metadata": {
        "id": "vofoitNVZoAf"
      },
      "outputs": [],
      "source": [
        "# percentage of test is 20%\n",
        "# Don't forget the stratify to maintain a similar label distribution in both sets\n",
        "\n",
        "X_train, X_test, Y_train, Y_test = train_test_split(X,Y, test_size=0.2, random_state=0,stratify=Y)"
      ]
    },
    {
      "cell_type": "markdown",
      "metadata": {
        "id": "71fH0uKRZoAf"
      },
      "source": [
        "### 2.c) Preparing Pipelines"
      ]
    },
    {
      "cell_type": "code",
      "execution_count": null,
      "metadata": {
        "id": "gU33EdojZoAf"
      },
      "outputs": [],
      "source": [
        "numeric_features = ['total_pages_visited','age']\n",
        "numeric_transormer = Pipeline(steps = [\n",
        "    ('imputer', SimpleImputer(strategy='median')),\n",
        "    ('scaler', StandardScaler())\n",
        "])\n",
        "\n"
      ]
    },
    {
      "cell_type": "code",
      "execution_count": null,
      "metadata": {
        "id": "yR8R27pmZoAf"
      },
      "outputs": [],
      "source": [
        "categorical_features =['country','source','new_user']\n",
        "categorical_transformer = Pipeline(steps = [\n",
        "    ('imputer', SimpleImputer(strategy='most_frequent')),\n",
        "    ('encoder', OneHotEncoder(drop='first'))\n",
        "\n",
        "])"
      ]
    },
    {
      "cell_type": "markdown",
      "metadata": {
        "id": "t9ZckEP4ZoAg"
      },
      "source": [
        "### 2.d) Preprocessing"
      ]
    },
    {
      "cell_type": "code",
      "execution_count": null,
      "metadata": {
        "id": "tBmQvlrZZoAg"
      },
      "outputs": [],
      "source": [
        "Preprocessor = ColumnTransformer(transformers=[\n",
        "('num', numeric_transormer, numeric_features),\n",
        "('cat', categorical_transformer, categorical_features)])"
      ]
    },
    {
      "cell_type": "code",
      "execution_count": null,
      "metadata": {
        "colab": {
          "base_uri": "https://localhost:8080/"
        },
        "id": "mqh0dqV1ZoAg",
        "outputId": "c9f5a8e1-821f-4460-ac17-a806a7a8ca1c"
      },
      "outputs": [
        {
          "name": "stdout",
          "output_type": "stream",
          "text": [
            "sample of the preprocessed x_train\n",
            "[[-0.86023819 -0.91758409  0.         ...  0.          1.\n",
            "   1.        ]\n",
            " [ 0.33670233 -0.79595433  0.         ...  0.          1.\n",
            "   1.        ]\n",
            " [-0.26176793 -1.28247339  0.         ...  0.          1.\n",
            "   1.        ]\n",
            " ...\n",
            " [ 0.33670233  0.5419731   0.         ...  1.          0.\n",
            "   1.        ]\n",
            " [-0.56100306  1.15012193  0.         ...  0.          1.\n",
            "   1.        ]\n",
            " [ 0.0374672   1.2717517   0.         ...  0.          0.\n",
            "   1.        ]]\n",
            "sample of the preprocessed x_test\n",
            "[[-0.26176793  0.42034334  0.         ...  0.          1.\n",
            "   0.        ]\n",
            " [-0.56100306 -1.03921386  0.         ...  0.          0.\n",
            "   1.        ]\n",
            " [-0.56100306 -0.06617573  0.         ...  1.          0.\n",
            "   1.        ]\n",
            " ...\n",
            " [-0.26176793 -0.06617573  0.         ...  0.          0.\n",
            "   1.        ]\n",
            " [ 0.63593746  0.1770838   0.         ...  0.          1.\n",
            "   1.        ]\n",
            " [ 0.33670233  0.78523263  0.         ...  1.          0.\n",
            "   1.        ]]\n"
          ]
        }
      ],
      "source": [
        "\n",
        "\n",
        "X_train = Preprocessor.fit_transform(X_train)\n",
        "X_test = Preprocessor.transform(X_test)\n",
        "\n",
        "print('sample of the preprocessed x_train')\n",
        "print(X_train)\n",
        "\n",
        "print('sample of the preprocessed x_test')\n",
        "print(X_test)\n"
      ]
    },
    {
      "cell_type": "markdown",
      "metadata": {
        "id": "teB84ncLZoAg"
      },
      "source": [
        "### Labeling the target & Training Y"
      ]
    },
    {
      "cell_type": "code",
      "execution_count": null,
      "metadata": {
        "colab": {
          "base_uri": "https://localhost:8080/"
        },
        "id": "8Qy2FvaJZoAg",
        "outputId": "113e7077-cff5-4d55-c1ee-aa593fd3a29f"
      },
      "outputs": [
        {
          "data": {
            "text/plain": [
              "array([0, 1])"
            ]
          },
          "execution_count": 17,
          "metadata": {},
          "output_type": "execute_result"
        }
      ],
      "source": [
        "df['converted'].unique()"
      ]
    },
    {
      "cell_type": "markdown",
      "metadata": {
        "id": "AS94c5IXZoAh"
      },
      "source": [
        "**No need to use a label encoder here since the target is already in binary numeric either zero(0) or one(1).**\n",
        "\n",
        "The lable encoder is used when we have either strings , categorical target values that need to be converted in numeric form"
      ]
    },
    {
      "cell_type": "markdown",
      "metadata": {
        "id": "Z9fcYx-CZoAh"
      },
      "source": [
        "## 3) Models"
      ]
    },
    {
      "cell_type": "markdown",
      "metadata": {
        "id": "IPjk3tNNjcg_"
      },
      "source": [
        "## - The calculate, print & save function\n",
        "it is a common function implementing the DRY 'Don't Repeat Yourself' concept"
      ]
    },
    {
      "cell_type": "markdown",
      "metadata": {
        "id": "Ea_K4wK4ZoAi"
      },
      "source": [
        "Before starting we will just set up a dataset to save the scores for each model, define a function to save the results for each model and print them"
      ]
    },
    {
      "cell_type": "code",
      "execution_count": null,
      "metadata": {
        "id": "mzSwMMHZ1nun"
      },
      "outputs": [],
      "source": [
        "# create a dataframe to save the models with their results\n",
        "\n",
        "df_scores = pd.DataFrame(columns = ['model', 'f1_score', 'set'])\n",
        "\n",
        "# A function to save the model and print the results\n",
        "#def calc_save_print(model_name, y_train , y_train_predict, y_test, y_test_predict):\n",
        "def calc_save_print(model_name,  train_f1_score,test_f1_score):\n",
        "    #calulate the f1-score\n",
        "\n",
        "    # train_f1_score = f1_score(y_train, y_train_predict)\n",
        "    # test_f1_score =  f1_score(y_test, y_test_predict)\n",
        "\n",
        "\n",
        "\n",
        "    # # printing results\n",
        "\n",
        "    # print(f\"{model_name} f1-score on train set : \", train_f1_score )\n",
        "    # print(f\"{model_name} f1-score on test set : \", test_f1_score)\n",
        "    # print()\n",
        "\n",
        "    # # print the confusion matrix\n",
        "\n",
        "    # print(\"Confusion matrix on train set : \")\n",
        "    # print(confusion_matrix(y_train, y_train_predict))\n",
        "    # print()\n",
        "    # print(\"Confusion matrix on test set : \")\n",
        "    # print(confusion_matrix(y_test, y_test_predict))\n",
        "    # print()\n",
        "\n",
        "    # saving the results\n",
        "    # first check if the record already exist to replace it with fresh results,\n",
        "    # otherwise add a new record\n",
        "\n",
        "    if model_name in df_scores['model'].values:\n",
        "      print('found old records')\n",
        "      mask = df_scores['model'] == model_name\n",
        "      filter = df_scores.loc[mask,:]\n",
        "      print(filter)\n",
        "\n",
        "      print('Replacing..')\n",
        "      df_scores.loc[mask,'train'] = train_f1_score\n",
        "      df_scores.loc[mask,'test'] = test_f1_score\n",
        "\n",
        "      # Update\n",
        "      print('REPLACED with :')\n",
        "      replaced = df_scores.loc[mask,:]\n",
        "      print(replaced)\n",
        "\n",
        "    else:\n",
        "      # Add the results\n",
        "      df_scores.loc[df_scores.shape[0],:] = [model_name, train_f1_score , 'train']\n",
        "      df_scores.loc[df_scores.shape[0],:] = [model_name, test_f1_score , 'test']\n",
        "\n",
        "\n",
        "\n",
        "\n",
        "\n",
        "\n",
        "\n",
        "\n"
      ]
    },
    {
      "cell_type": "code",
      "execution_count": null,
      "metadata": {
        "id": "J4qMIiHgZoAi"
      },
      "outputs": [],
      "source": [
        "# create a dataframe to save the models with their results\n",
        "\n",
        "df_scores = pd.DataFrame(columns = ['model', 'f1_score', 'set'])\n",
        "\n",
        "# A function to save the model and print the results\n",
        "# AND TO UPDATE OLD F1-results WHEN NECESSARY\n",
        "\n",
        "def calc_save_print(model_name, y_train , y_train_predict, y_test, y_test_predict):\n",
        "\n",
        "    # calulate the f1-score\n",
        "\n",
        "    train_f1_score = f1_score(y_train, y_train_predict)\n",
        "    test_f1_score =  f1_score(y_test, y_test_predict)\n",
        "\n",
        "\n",
        "\n",
        "    # printing results\n",
        "\n",
        "    print(f\"{model_name} f1-score on train set : \", train_f1_score )\n",
        "    print(f\"{model_name} f1-score on test set : \", test_f1_score)\n",
        "    print()\n",
        "\n",
        "    # print the confusion matrix\n",
        "\n",
        "    print(\"Confusion matrix on train set : \")\n",
        "    print(confusion_matrix(y_train, y_train_predict))\n",
        "    print()\n",
        "    print(\"Confusion matrix on test set : \")\n",
        "    print(confusion_matrix(y_test, y_test_predict))\n",
        "    print()\n",
        "\n",
        "    # saving the results:\n",
        "    # first check if the record already exist to replace it with fresh results,\n",
        "    # otherwise add a new record\n",
        "\n",
        "    if model_name in df_scores['model'].values:\n",
        "      print('found old records')\n",
        "      mask = (df_scores['model'] == model_name)\n",
        "      print(df_scores.loc[mask,:])\n",
        "\n",
        "      print('Replacing train results..')\n",
        "      mask_row = (df_scores['model'] == model_name) & (df_scores['set'] == 'train')\n",
        "      df_scores.loc[mask_row,'f1_score'] = train_f1_score\n",
        "\n",
        "      print('Replacing test resuls..')\n",
        "      mask_row = (df_scores['model'] == model_name) & (df_scores['set'] == 'test')\n",
        "      df_scores.loc[mask_row,'f1_score'] = test_f1_score\n",
        "\n",
        "      print('F1_values results replaced')\n",
        "      print(df_scores.loc[mask,:])\n",
        "\n",
        "\n",
        "\n",
        "    else:\n",
        "      print('New Record added to dataset')\n",
        "      # Add the results\n",
        "      df_scores.loc[df_scores.shape[0],:] = [model_name, train_f1_score , 'train']\n",
        "      df_scores.loc[df_scores.shape[0],:] = [model_name, test_f1_score , 'test']\n",
        "\n",
        "\n",
        "\n",
        "\n",
        "\n",
        "\n",
        "\n",
        "\n"
      ]
    },
    {
      "cell_type": "markdown",
      "metadata": {
        "id": "2TSfzvgPZoAi"
      },
      "source": [
        "### 3.1. Logictic Regression Model"
      ]
    },
    {
      "cell_type": "code",
      "execution_count": null,
      "metadata": {
        "colab": {
          "base_uri": "https://localhost:8080/"
        },
        "id": "rr6yU-NqZoAj",
        "outputId": "739d21b6-7d89-4127-a7d8-ca943c360fe7"
      },
      "outputs": [
        {
          "name": "stdout",
          "output_type": "stream",
          "text": [
            "Training model...\n",
            "...Done.\n",
            "Logistic_Regression f1-score on train set :  0.7662073639033206\n",
            "Logistic_Regression f1-score on test set :  0.7513032812020852\n",
            "\n",
            "Confusion matrix on train set : \n",
            "[[219305    851]\n",
            " [  2254   5088]]\n",
            "\n",
            "Confusion matrix on test set : \n",
            "[[54839   201]\n",
            " [  610  1225]]\n",
            "\n",
            "New Record added to dataset\n"
          ]
        }
      ],
      "source": [
        "# Train model\n",
        "model_logisticRegression = LogisticRegression()\n",
        "\n",
        "print(\"Training model...\")\n",
        "model_logisticRegression.fit(X_train, Y_train) # Training is always done on train set !!\n",
        "print(\"...Done.\")\n",
        "\n",
        "Y_train_pred = model_logisticRegression.predict(X_train)\n",
        "Y_test_pred = model_logisticRegression.predict(X_test)\n",
        "\n",
        "\n",
        "\n",
        "# train_f1_score = f1_score(Y_train, Y_train_pred)\n",
        "# test_f1_score =  f1_score(Y_test, Y_test_pred)\n",
        "\n",
        "# calling our function that will calculate F1, print the results and save them\n",
        "calc_save_print('Logistic_Regression',Y_train, Y_train_pred, Y_test, Y_test_pred)\n",
        "\n",
        "\n"
      ]
    },
    {
      "cell_type": "markdown",
      "metadata": {
        "id": "UL52hatwZoAk"
      },
      "source": [
        "### 3.2) Decision tree model"
      ]
    },
    {
      "cell_type": "code",
      "execution_count": null,
      "metadata": {
        "colab": {
          "base_uri": "https://localhost:8080/"
        },
        "id": "Rlx54wTcZoAk",
        "outputId": "0c4971ad-c56f-4650-dc89-bfa5fdd3699a"
      },
      "outputs": [
        {
          "name": "stdout",
          "output_type": "stream",
          "text": [
            "Grid search...\n",
            "...Done.\n",
            "Best hyperparameters :  {'max_depth': 8, 'min_samples_leaf': 1, 'min_samples_split': 12}\n",
            "Best validation accuracy :  0.9853405289187614\n",
            "0.7639413631555084\n",
            "0.7413316968395214\n",
            "Decision_Tree f1-score on train set :  0.7639413631555084\n",
            "Decision_Tree f1-score on test set :  0.7413316968395214\n",
            "\n",
            "Confusion matrix on train set : \n",
            "[[219319    837]\n",
            " [  2287   5055]]\n",
            "\n",
            "Confusion matrix on test set : \n",
            "[[54824   216]\n",
            " [  627  1208]]\n",
            "\n",
            "New Record added to dataset\n"
          ]
        }
      ],
      "source": [
        "# This is the a decision tree model with the default score evaluation\n",
        "print(\"Grid search...\")\n",
        "classifier = DecisionTreeClassifier()\n",
        "\n",
        "# Grid of values to be tested\n",
        "params = {\n",
        "    'max_depth': [ 4, 6, 8, 10],\n",
        "    'min_samples_leaf': [1, 2, 5],\n",
        "    'min_samples_split': [ 2, 4, 8, 10, 12] #\n",
        "}\n",
        "gridsearch_decision_tree = GridSearchCV(classifier, param_grid = params, cv = 5)\n",
        "gridsearch_decision_tree.fit(X_train, Y_train)\n",
        "print(\"...Done.\")\n",
        "print(\"Best hyperparameters : \", gridsearch_decision_tree.best_params_)\n",
        "print(\"Best validation accuracy : \", gridsearch_decision_tree.best_score_)\n",
        "\n",
        "\n",
        "# in order to calcluate the f1-score on our data we need to implement the prediciton\n",
        "Y_train_pred = gridsearch_decision_tree.predict(X_train)\n",
        "Y_test_pred = gridsearch_decision_tree.predict(X_test)\n",
        "\n",
        "train_f1_score = f1_score(Y_train, Y_train_pred)\n",
        "test_f1_score =  f1_score(Y_test, Y_test_pred)\n",
        "\n",
        "print(train_f1_score)\n",
        "print(test_f1_score)\n",
        "calc_save_print('Decision_Tree',Y_train, Y_train_pred, Y_test, Y_test_pred)\n"
      ]
    },
    {
      "cell_type": "markdown",
      "metadata": {
        "id": "aNYgFNYLhM29"
      },
      "source": [
        "Notice the fact that despice we choose min_leaf_sample = 1 as an option but with the gridsearch combination we didn't find huge trace for overfitting"
      ]
    },
    {
      "cell_type": "markdown",
      "metadata": {
        "id": "LJ1LUBCrZoAm"
      },
      "source": [
        "### 3.3) Random Forest model"
      ]
    },
    {
      "cell_type": "code",
      "execution_count": null,
      "metadata": {
        "colab": {
          "base_uri": "https://localhost:8080/"
        },
        "id": "4SOCVEetZoAm",
        "outputId": "377975f4-60eb-4003-a5d5-4a7cee05a84f"
      },
      "outputs": [
        {
          "name": "stdout",
          "output_type": "stream",
          "text": [
            "Grid search...\n",
            "...Done.\n",
            "Best hyperparameters :  {'max_depth': 10, 'min_samples_leaf': 7, 'min_samples_split': 2, 'n_estimators': 25}\n",
            "Best validation F1 scoring :  0.7612734465470613\n",
            "Random Forest f1-score on train set :  0.7756361993675651\n",
            "Random Forest f1-score on test set :  0.7469437652811737\n",
            "\n",
            "Confusion matrix on train set : \n",
            "[[219367    789]\n",
            " [  2191   5151]]\n",
            "\n",
            "Confusion matrix on test set : \n",
            "[[54825   215]\n",
            " [  613  1222]]\n",
            "\n",
            "New Record added to dataset\n"
          ]
        }
      ],
      "source": [
        "print(\"Grid search...\")\n",
        "classifier = RandomForestClassifier()\n",
        "\n",
        "# Grid of values to be tested\n",
        "params = {\n",
        "    'max_depth': [ 8, 10, 12],\n",
        "    'min_samples_leaf': [1, 2, 5,7],  # although the value (1) might cause overfitting but let's check it out\n",
        "    'min_samples_split': [2, 4, 8,10],\n",
        "    'n_estimators': [10, 20, 25]\n",
        "}\n",
        "gridsearch_random_forest = GridSearchCV(classifier, param_grid = params, scoring='f1',cv = 3,n_jobs=-1) # cv : the number of folds to be used for CV\n",
        "gridsearch_random_forest.fit(X_train, Y_train)\n",
        "print(\"...Done.\")\n",
        "\n",
        "print(\"Best hyperparameters : \", gridsearch_random_forest.best_params_)\n",
        "print(\"Best validation F1 scoring : \", gridsearch_random_forest.best_score_)\n",
        "\n",
        "\n",
        "# in order to calcluate the f1-score on our data we need to implement the prediciton\n",
        "Y_train_pred = gridsearch_random_forest.predict(X_train)\n",
        "Y_test_pred = gridsearch_random_forest.predict(X_test)\n",
        "\n",
        "calc_save_print('Random Forest',Y_train, Y_train_pred, Y_test, Y_test_pred)"
      ]
    },
    {
      "cell_type": "markdown",
      "metadata": {
        "id": "SXhWLpCmZoAr"
      },
      "source": [
        "### 3.4) Bagging with logistic regression"
      ]
    },
    {
      "cell_type": "code",
      "execution_count": null,
      "metadata": {
        "colab": {
          "base_uri": "https://localhost:8080/"
        },
        "id": "R3Cb6HSBZoAr",
        "outputId": "c31d65e4-ca96-42a7-deb9-25bb0cdf5db2"
      },
      "outputs": [
        {
          "name": "stdout",
          "output_type": "stream",
          "text": [
            "The bagging technique -Ensemble learning\n",
            "Based on logistic regression\n",
            "Starting Grid search...\n",
            "the following parameter values:\n",
            "{'base_estimator__C': [0.01, 0.05, 0.1, 0.5], 'n_estimators': [5, 10, 20, 30]}\n",
            "Starting\n"
          ]
        },
        {
          "name": "stderr",
          "output_type": "stream",
          "text": [
            "/usr/local/lib/python3.10/dist-packages/sklearn/model_selection/_search.py:905: FutureWarning:\n",
            "\n",
            "Parameter 'base_estimator' of BaggingClassifier is deprecated in favor of 'estimator'. See BaggingClassifier's docstring for more details.\n",
            "\n"
          ]
        },
        {
          "name": "stdout",
          "output_type": "stream",
          "text": [
            "...Done.\n",
            "Best hyperparameters :  {'base_estimator__C': 0.5, 'n_estimators': 5}\n",
            "Best validation F1-score :  0.7656809006005265\n",
            "\n",
            "Bagging Logistic f1-score on train set :  0.7652331098892822\n",
            "Bagging Logistic f1-score on test set :  0.7510729613733906\n",
            "\n",
            "Confusion matrix on train set : \n",
            "[[219301    855]\n",
            " [  2262   5080]]\n",
            "\n",
            "Confusion matrix on test set : \n",
            "[[54838   202]\n",
            " [  610  1225]]\n",
            "\n",
            "found old records\n",
            "              model  f1_score    set\n",
            "6  Bagging Logistic  0.765916  train\n",
            "7  Bagging Logistic  0.750998   test\n",
            "Replacing train results..\n",
            "Replacing test resuls..\n",
            "F1_values results replaced\n",
            "              model  f1_score    set\n",
            "6  Bagging Logistic  0.765233  train\n",
            "7  Bagging Logistic  0.751073   test\n"
          ]
        }
      ],
      "source": [
        "# Bagging - Logistic regression:\n",
        "\n",
        "print(\"The bagging technique -Ensemble learning\")\n",
        "print('Based on logistic regression')\n",
        "print(\"Starting Grid search...\")\n",
        "\n",
        "# The default max_iterations is 100, we will set it up to 1000\n",
        "logistic_regression = LogisticRegression(max_iter = 1000) # max_iter changed because of convergence warning\n",
        "model = BaggingClassifier(logistic_regression, n_jobs=-1)\n",
        "\n",
        "# Grid of values to be tested\n",
        "# the parameter C plays a role of regularization\n",
        "# Smaller C values specify stronger regularization.\n",
        "params = {\n",
        "    'base_estimator__C': [0.01, 0.05, 0.1, 0.5], # LogisticRegression regularization parameter\n",
        "    'n_estimators': [5, 10, 20, 30] # n_estimators is the number of the datasets on which the bagging will implement the same model\n",
        "}\n",
        "\n",
        "print('the following parameter values:')\n",
        "print(params)\n",
        "\n",
        "# Attention: Once again the grid search evaluation should be based on f1\n",
        "print('Starting')\n",
        "gridsearch_bagging_logistic = GridSearchCV(model, param_grid = params, scoring='f1' ,cv = 5, n_jobs=-1)\n",
        "gridsearch_bagging_logistic.fit(X_train, Y_train)\n",
        "print(\"...Done.\")\n",
        "\n",
        "print(\"Best hyperparameters : \", gridsearch_bagging_logistic.best_params_)\n",
        "print(\"Best validation F1-score : \", gridsearch_bagging_logistic.best_score_)\n",
        "print()\n",
        "\n",
        "# in order to calcluate the f1-score on our data we need to implement the prediciton\n",
        "Y_train_pred = gridsearch_bagging_logistic.predict(X_train)\n",
        "Y_test_pred = gridsearch_bagging_logistic.predict(X_test)\n",
        "\n",
        "# printing results\n",
        "calc_save_print('Bagging Logistic',Y_train, Y_train_pred, Y_test, Y_test_pred)\n"
      ]
    },
    {
      "cell_type": "code",
      "execution_count": null,
      "metadata": {
        "colab": {
          "base_uri": "https://localhost:8080/",
          "height": 35
        },
        "id": "hmywgNQizvJ9",
        "outputId": "7bc2cc01-c40e-41cb-ed31-713fbc430dfe"
      },
      "outputs": [
        {
          "data": {
            "application/vnd.google.colaboratory.intrinsic+json": {
              "type": "string"
            },
            "text/plain": [
              "'1.2.2'"
            ]
          },
          "execution_count": 34,
          "metadata": {},
          "output_type": "execute_result"
        }
      ],
      "source": [
        "import sklearn\n",
        "sklearn.__version__\n",
        "\n",
        "# No need to worry about the message above as becasue the sckikit document says no problem with version 1.2 it will be removed in 1.4\n",
        "# Deprecated since version 1.2: base_estimator is deprecated and will be removed in 1.4. Use estimator instead."
      ]
    },
    {
      "cell_type": "markdown",
      "metadata": {
        "id": "aFYTs45_ZoAs"
      },
      "source": [
        "### 3.4B). Bagging with decision tree estimator\n",
        "this shoud be similar to the random forest result"
      ]
    },
    {
      "cell_type": "code",
      "execution_count": null,
      "metadata": {
        "colab": {
          "base_uri": "https://localhost:8080/"
        },
        "id": "5QGqZktyZoAs",
        "outputId": "16495785-0c9b-4996-a274-ff368ed30052"
      },
      "outputs": [
        {
          "name": "stdout",
          "output_type": "stream",
          "text": [
            "Baging Decision Tree\n",
            "Starting\n"
          ]
        },
        {
          "name": "stderr",
          "output_type": "stream",
          "text": [
            "/usr/local/lib/python3.10/dist-packages/sklearn/model_selection/_search.py:905: FutureWarning:\n",
            "\n",
            "Parameter 'base_estimator' of BaggingClassifier is deprecated in favor of 'estimator'. See BaggingClassifier's docstring for more details.\n",
            "\n"
          ]
        },
        {
          "name": "stdout",
          "output_type": "stream",
          "text": [
            "...Done.\n",
            "Best hyperparameters :  {'base_estimator__max_depth': 10, 'base_estimator__min_samples_leaf': 5, 'base_estimator__min_samples_split': 2, 'n_estimators': 25}\n",
            "Best validation F1-score :  0.7592985063402842\n",
            "\n",
            "Bagging_Decision_Tree f1-score on train set :  0.7802247191011235\n",
            "Bagging_Decision_Tree f1-score on test set :  0.743417023882425\n",
            "\n",
            "Confusion matrix on train set : \n",
            "[[219356    800]\n",
            " [  2134   5208]]\n",
            "\n",
            "Confusion matrix on test set : \n",
            "[[54823   217]\n",
            " [  621  1214]]\n",
            "\n",
            "New Record added to dataset\n",
            "f1-score on train set :  0.7802247191011235\n",
            "f1-score on test set :  0.743417023882425\n"
          ]
        }
      ],
      "source": [
        "\n",
        "# Bagging - decision tree:\n",
        "print(\"Baging Decision Tree\")\n",
        "decision_tree = DecisionTreeClassifier()\n",
        "model = BaggingClassifier(decision_tree)\n",
        "\n",
        "# Grid of values to be tested\n",
        "# to prove : i have copied the same from Random-Forest above we should have the same results\n",
        "params = {\n",
        "    # Note: base_estimator are hyperparamters related to the decision tree base estimator,\n",
        "    # n_estimators are realated to the bagging classifier level where the these models will be trained in sequence\n",
        "    # one after another\n",
        "    'base_estimator__max_depth': [ 8, 10, 12],\n",
        "    'base_estimator__min_samples_leaf': [1, 2, 5,7],  # although the value (1) might cause overfitting but let's check it out\n",
        "    'base_estimator__min_samples_split': [2, 4, 8,10],\n",
        "    'n_estimators': [10, 20, 25]\n",
        "}\n",
        "\n",
        "# Attention: Once again the grid search evaluation should be based on f1\n",
        "print('Starting')\n",
        "gridsearch_bagging_tree = GridSearchCV(model, param_grid = params, scoring='f1' ,cv = 3, n_jobs=-1)\n",
        "gridsearch_bagging_tree.fit(X_train, Y_train)\n",
        "print(\"...Done.\")\n",
        "print(\"Best hyperparameters : \", gridsearch_bagging_tree.best_params_)\n",
        "print(\"Best validation F1-score : \", gridsearch_bagging_tree.best_score_)\n",
        "print()\n",
        "\n",
        "# in order to calcluate the f1-score on our data we need to implement the prediciton\n",
        "Y_train_pred = gridsearch_bagging_tree.predict(X_train)\n",
        "Y_test_pred = gridsearch_bagging_tree.predict(X_test)\n",
        "\n",
        "# printing results\n",
        "calc_save_print('Bagging_Decision_Tree',Y_train, Y_train_pred, Y_test, Y_test_pred)\n",
        "\n",
        "print(\"f1-score on train set : \", f1_score(Y_train, Y_train_pred))\n",
        "print(\"f1-score on test set : \", f1_score(Y_test, Y_test_pred))\n"
      ]
    },
    {
      "cell_type": "markdown",
      "metadata": {
        "id": "0KVcjBLvZoAt"
      },
      "source": [
        "### 3.5) Boosting ADA boost"
      ]
    },
    {
      "cell_type": "markdown",
      "metadata": {
        "id": "kGSZYjYbZoAt"
      },
      "source": [
        "### Adaboost with logistic regression as base estimator\n"
      ]
    },
    {
      "cell_type": "code",
      "execution_count": null,
      "metadata": {
        "colab": {
          "base_uri": "https://localhost:8080/"
        },
        "id": "iVMH33ZxZoAt",
        "outputId": "35e12764-3022-4154-b7bf-4420d94c690d"
      },
      "outputs": [
        {
          "name": "stdout",
          "output_type": "stream",
          "text": [
            "The AdaBoost technique -Ensemble learning\n",
            "Based on logistic regression\n",
            "Starting Grid search...\n",
            "the following parameter values:\n",
            "{'base_estimator__C': [0.01, 0.05, 0.1, 0.5], 'n_estimators': [5, 10, 20, 30]}\n",
            "Starting\n"
          ]
        },
        {
          "name": "stderr",
          "output_type": "stream",
          "text": [
            "/usr/local/lib/python3.10/dist-packages/sklearn/model_selection/_search.py:905: FutureWarning:\n",
            "\n",
            "Parameter 'base_estimator' of AdaBoostClassifier is deprecated in favor of 'estimator'. See AdaBoostClassifier's docstring for more details.\n",
            "\n"
          ]
        },
        {
          "name": "stdout",
          "output_type": "stream",
          "text": [
            "...Done.\n",
            "Best hyperparameters :  {'base_estimator__C': 0.5, 'n_estimators': 30}\n",
            "Best validation F1-score :  0.7327143067922167\n",
            "\n",
            "AdaBoost_logistic f1-score on train set :  0.7332395686826066\n",
            "AdaBoost_logistic f1-score on test set :  0.7287116176005064\n",
            "\n",
            "Confusion matrix on train set : \n",
            "[[219392    764]\n",
            " [  2650   4692]]\n",
            "\n",
            "Confusion matrix on test set : \n",
            "[[54867   173]\n",
            " [  684  1151]]\n",
            "\n",
            "New Record added to dataset\n",
            "f1-score on train set :  0.7332395686826066\n",
            "f1-score on test set :  0.7287116176005064\n"
          ]
        }
      ],
      "source": [
        "# AdaBoost - Logistic regression:\n",
        "\n",
        "print(\"The AdaBoost technique -Ensemble learning\")\n",
        "print('Based on logistic regression')\n",
        "print(\"Starting Grid search...\")\n",
        "\n",
        "# The default max_iterations is 100, we will set it up to 1000\n",
        "\n",
        "logistic_regression = LogisticRegression(max_iter = 1000) # max_iter changed because of convergence warning\n",
        "model = AdaBoostClassifier(logistic_regression)\n",
        "\n",
        "# Grid of values to be tested\n",
        "# the parameter C plays a role of regularization\n",
        "# Smaller C values specify stronger regularization.\n",
        "params = {\n",
        "    'base_estimator__C': [0.01, 0.05, 0.1, 0.5,], # LogisticRegression regularization parameter\n",
        "    'n_estimators': [5, 10, 20, 30] # n_estimators is the number of the datasets on which the bagging will implement the same model\n",
        "}\n",
        "\n",
        "print('the following parameter values:')\n",
        "print(params)\n",
        "\n",
        "# Attention: Once again the grid search evaluation should be based on f1\n",
        "print('Starting')\n",
        "gridsearch_ada_logistic = GridSearchCV(model, param_grid = params, scoring='f1' ,cv = 5,n_jobs=-1)\n",
        "gridsearch_ada_logistic.fit(X_train, Y_train)\n",
        "print(\"...Done.\")\n",
        "\n",
        "print(\"Best hyperparameters : \", gridsearch_ada_logistic.best_params_)\n",
        "print(\"Best validation F1-score : \", gridsearch_ada_logistic.best_score_)\n",
        "print()\n",
        "\n",
        "# in order to calcluate the f1-score on our data we need to implement the prediciton\n",
        "Y_train_pred = gridsearch_ada_logistic.predict(X_train)\n",
        "Y_test_pred = gridsearch_ada_logistic.predict(X_test)\n",
        "\n",
        "# printing results\n",
        "calc_save_print('AdaBoost_logistic',Y_train, Y_train_pred, Y_test, Y_test_pred)\n",
        "\n",
        "print(\"f1-score on train set : \", f1_score(Y_train, Y_train_pred))\n",
        "print(\"f1-score on test set : \", f1_score(Y_test, Y_test_pred))"
      ]
    },
    {
      "cell_type": "markdown",
      "metadata": {
        "id": "W4GPzzGfPOGP"
      },
      "source": [
        "The warning above is future warning in the upcomming versions, consequnetly no problem.\n",
        "\n",
        "it is only related to the sytnax of number of estimators"
      ]
    },
    {
      "cell_type": "markdown",
      "metadata": {
        "id": "B3BOSEPUZoAu"
      },
      "source": [
        "### Adaboost with decision tree as base estimator\n"
      ]
    },
    {
      "cell_type": "code",
      "execution_count": null,
      "metadata": {
        "colab": {
          "base_uri": "https://localhost:8080/"
        },
        "id": "tyGmzo7EZoAu",
        "outputId": "a18f7b4f-4628-4d88-b594-90f6eee2f633"
      },
      "outputs": [
        {
          "name": "stdout",
          "output_type": "stream",
          "text": [
            "AdaBoost - Decision Tree...\n",
            "Starting\n"
          ]
        },
        {
          "name": "stderr",
          "output_type": "stream",
          "text": [
            "/usr/local/lib/python3.10/dist-packages/sklearn/model_selection/_search.py:905: FutureWarning:\n",
            "\n",
            "Parameter 'base_estimator' of AdaBoostClassifier is deprecated in favor of 'estimator'. See AdaBoostClassifier's docstring for more details.\n",
            "\n"
          ]
        },
        {
          "name": "stdout",
          "output_type": "stream",
          "text": [
            "...Done.\n",
            "Best hyperparameters :  {'base_estimator__max_depth': 8, 'base_estimator__min_samples_leaf': 7, 'base_estimator__min_samples_split': 4, 'n_estimators': 10}\n",
            "Best validation F1-score :  0.7486034888618162\n",
            "\n",
            "AdaBoost_Decision_Tree f1-score on train set :  0.7332395686826066\n",
            "AdaBoost_Decision_Tree f1-score on test set :  0.7383863080684596\n",
            "\n",
            "Confusion matrix on train set : \n",
            "[[219392    764]\n",
            " [  2650   4692]]\n",
            "\n",
            "Confusion matrix on test set : \n",
            "[[54811   229]\n",
            " [  627  1208]]\n",
            "\n",
            "New Record added to dataset\n",
            "f1-score on train set :  0.7332395686826066\n",
            "f1-score on test set :  0.7383863080684596\n"
          ]
        }
      ],
      "source": [
        "# AdaBoost - Decision Tree:\n",
        "\n",
        "print(\"AdaBoost - Decision Tree...\")\n",
        "decision_tree = DecisionTreeClassifier()\n",
        "model = AdaBoostClassifier(decision_tree)\n",
        "\n",
        "# Grid of values to be tested\n",
        "\n",
        "params = {\n",
        "    'base_estimator__max_depth': [ 8, 10,12],\n",
        "    'base_estimator__min_samples_leaf': [1, 2, 5, 7],\n",
        "    'base_estimator__min_samples_split': [2, 4, 8, 10],\n",
        "    'n_estimators': [10, 20, 25]\n",
        "}\n",
        "\n",
        "# Attention: Once again the grid search evaluation should be based on f1\n",
        "print('Starting')\n",
        "gridsearch_adaboost_tree = GridSearchCV(model, param_grid = params, scoring='f1' ,cv = 3, n_jobs=-1)\n",
        "gridsearch_adaboost_tree.fit(X_train, Y_train)\n",
        "print(\"...Done.\")\n",
        "print(\"Best hyperparameters : \", gridsearch_adaboost_tree.best_params_)\n",
        "print(\"Best validation F1-score : \", gridsearch_adaboost_tree.best_score_)\n",
        "print()\n",
        "\n",
        "# in order to calcluate the f1-score on our data we need to implement the prediciton\n",
        "Y_trai_pred = gridsearch_adaboost_tree.predict(X_train)\n",
        "Y_test_pred = gridsearch_adaboost_tree.predict(X_test)\n",
        "\n",
        "# printing results\n",
        "calc_save_print('AdaBoost_Decision_Tree',Y_train, Y_train_pred, Y_test, Y_test_pred)\n",
        "\n",
        "print(\"f1-score on train set : \", f1_score(Y_train, Y_train_pred))\n",
        "print(\"f1-score on test set : \", f1_score(Y_test, Y_test_pred))\n"
      ]
    },
    {
      "cell_type": "markdown",
      "metadata": {
        "id": "adTBO2VsZoAu"
      },
      "source": [
        "### XGBoosting"
      ]
    },
    {
      "cell_type": "code",
      "execution_count": null,
      "metadata": {
        "colab": {
          "base_uri": "https://localhost:8080/"
        },
        "id": "8vhaXfvZZoAv",
        "outputId": "13ceafc2-37bc-45a8-9a17-d67762901c58"
      },
      "outputs": [
        {
          "name": "stdout",
          "output_type": "stream",
          "text": [
            "Grid search...\n",
            "Starting\n"
          ]
        },
        {
          "name": "stderr",
          "output_type": "stream",
          "text": [
            "/usr/local/lib/python3.10/dist-packages/joblib/externals/loky/process_executor.py:752: UserWarning:\n",
            "\n",
            "A worker stopped while some jobs were given to the executor. This can be caused by a too short worker timeout or by a memory leak.\n",
            "\n"
          ]
        },
        {
          "name": "stdout",
          "output_type": "stream",
          "text": [
            "...Done.\n",
            "Best hyperparameters :  {'max_depth': 6, 'min_child_weight': 2, 'n_estimators': 8}\n",
            "Best validation F1-score :  0.7601425512515784\n",
            "\n",
            "XGBoost f1-score on train set :  0.766154998128042\n",
            "XGBoost f1-score on test set :  0.7486305538648813\n",
            "\n",
            "Confusion matrix on train set : \n",
            "[[219259    897]\n",
            " [  2226   5116]]\n",
            "\n",
            "Confusion matrix on test set : \n",
            "[[54819   221]\n",
            " [  605  1230]]\n",
            "\n",
            "New Record added to dataset\n",
            "f1-score on train set :  0.766154998128042\n",
            "f1-score on test set :  0.7486305538648813\n"
          ]
        }
      ],
      "source": [
        "# Perform grid search\n",
        "print(\"Grid search...\")\n",
        "model = XGBClassifier()\n",
        "\n",
        "# Grid of values to be tested\n",
        "params = {\n",
        "    'max_depth': [2, 4, 6], # Maximum tree depth\n",
        "    'min_child_weight': [1, 2, 3], # this is exactly similar to the min-sample-leaf in the decision tree model\n",
        "                                # low values might cause overfitting however, let's see using gridsearch\n",
        "    'n_estimators': [2, 4, 6, 8,] # no of models(estimators) to use\n",
        "}\n",
        "\n",
        "# Attention: Once again the grid search evaluation should be based on f1\n",
        "print('Starting')\n",
        "gridsearch_xgboost = GridSearchCV(model, param_grid = params, scoring='f1' ,cv = 5, n_jobs=-1)\n",
        "gridsearch_xgboost.fit(X_train, Y_train)\n",
        "print(\"...Done.\")\n",
        "print(\"Best hyperparameters : \", gridsearch_xgboost.best_params_)\n",
        "print(\"Best validation F1-score : \", gridsearch_xgboost.best_score_)\n",
        "print()\n",
        "\n",
        "# in order to calcluate the f1-score on our data we need to implement the prediciton\n",
        "Y_train_pred = gridsearch_xgboost.predict(X_train)\n",
        "Y_test_pred = gridsearch_xgboost.predict(X_test)\n",
        "\n",
        "# printing results\n",
        "calc_save_print('XGBoost',Y_train, Y_train_pred, Y_test, Y_test_pred)\n",
        "\n",
        "print(\"f1-score on train set : \", f1_score(Y_train, Y_train_pred))\n",
        "print(\"f1-score on test set : \", f1_score(Y_test, Y_test_pred))\n",
        "\n"
      ]
    },
    {
      "cell_type": "markdown",
      "metadata": {
        "id": "Xo69Ege3ZoAv"
      },
      "source": [
        "### Voting"
      ]
    },
    {
      "cell_type": "code",
      "execution_count": null,
      "metadata": {
        "colab": {
          "background_save": true
        },
        "id": "wgaK2X3TZoAv",
        "outputId": "f0d06e0b-6190-4df2-aca3-4c980028a018"
      },
      "outputs": [
        {
          "name": "stdout",
          "output_type": "stream",
          "text": [
            "f1-score on train set :  0.766154998128042\n",
            "f1-score on test set :  0.7502298498314435\n",
            "Voting f1-score on train set :  0.766154998128042\n",
            "Voting f1-score on test set :  0.7502298498314435\n",
            "\n",
            "Confusion matrix on train set : \n",
            "[[219259    897]\n",
            " [  2226   5116]]\n",
            "\n",
            "Confusion matrix on test set : \n",
            "[[54836   204]\n",
            " [  611  1224]]\n",
            "\n",
            "New Record added to dataset\n"
          ]
        }
      ],
      "source": [
        "# Voting\n",
        "voting = VotingClassifier(estimators=[(\"logistic\", model_logisticRegression), (\"tree\", gridsearch_decision_tree ), (\"Random_forest\", gridsearch_random_forest)], voting='soft') # soft: use probabilities for voting\n",
        "voting.fit(X_train, Y_train)\n",
        "\n",
        "# in order to calcluate the f1-score on our data we need to implement the prediciton\n",
        "Y_train_Pred = voting.predict(X_train)\n",
        "Y_test_pred = voting.predict(X_test)\n",
        "\n",
        "# printing results\n",
        "print(\"f1-score on train set : \", f1_score(Y_train, Y_train_pred))\n",
        "print(\"f1-score on test set : \", f1_score(Y_test, Y_test_pred))\n",
        "\n",
        "calc_save_print('Voting',Y_train, Y_train_pred, Y_test, Y_test_pred)\n",
        "\n"
      ]
    },
    {
      "cell_type": "markdown",
      "metadata": {
        "id": "UaEt9DcrZoAv"
      },
      "source": [
        "## 4) Overall Results"
      ]
    },
    {
      "cell_type": "code",
      "execution_count": null,
      "metadata": {
        "colab": {
          "base_uri": "https://localhost:8080/",
          "height": 613
        },
        "id": "aDdZJFHBZoAw",
        "outputId": "5f09215c-9d22-4583-9ebc-271c0673bb1c"
      },
      "outputs": [
        {
          "output_type": "execute_result",
          "data": {
            "text/plain": [
              "                     model  f1_score    set\n",
              "8    Bagging_Decision_Tree  0.780225  train\n",
              "4            Random Forest  0.775636  train\n",
              "0      Logistic_Regression  0.766207  train\n",
              "14                 XGBoost  0.766155  train\n",
              "16                  Voting  0.766155  train\n",
              "6         Bagging Logistic  0.765233  train\n",
              "2            Decision_Tree  0.763941  train\n",
              "10       AdaBoost_logistic   0.73324  train\n",
              "12  AdaBoost_Decision_Tree   0.73324  train\n",
              "1      Logistic_Regression  0.751303   test\n",
              "7         Bagging Logistic  0.751073   test\n",
              "17                  Voting   0.75023   test\n",
              "15                 XGBoost  0.748631   test\n",
              "5            Random Forest  0.746944   test\n",
              "9    Bagging_Decision_Tree  0.743417   test\n",
              "3            Decision_Tree  0.741332   test\n",
              "13  AdaBoost_Decision_Tree  0.738386   test\n",
              "11       AdaBoost_logistic  0.728712   test"
            ],
            "text/html": [
              "\n",
              "\n",
              "  <div id=\"df-10a1c74e-6101-47bd-81a9-10db00867a49\">\n",
              "    <div class=\"colab-df-container\">\n",
              "      <div>\n",
              "<style scoped>\n",
              "    .dataframe tbody tr th:only-of-type {\n",
              "        vertical-align: middle;\n",
              "    }\n",
              "\n",
              "    .dataframe tbody tr th {\n",
              "        vertical-align: top;\n",
              "    }\n",
              "\n",
              "    .dataframe thead th {\n",
              "        text-align: right;\n",
              "    }\n",
              "</style>\n",
              "<table border=\"1\" class=\"dataframe\">\n",
              "  <thead>\n",
              "    <tr style=\"text-align: right;\">\n",
              "      <th></th>\n",
              "      <th>model</th>\n",
              "      <th>f1_score</th>\n",
              "      <th>set</th>\n",
              "    </tr>\n",
              "  </thead>\n",
              "  <tbody>\n",
              "    <tr>\n",
              "      <th>8</th>\n",
              "      <td>Bagging_Decision_Tree</td>\n",
              "      <td>0.780225</td>\n",
              "      <td>train</td>\n",
              "    </tr>\n",
              "    <tr>\n",
              "      <th>4</th>\n",
              "      <td>Random Forest</td>\n",
              "      <td>0.775636</td>\n",
              "      <td>train</td>\n",
              "    </tr>\n",
              "    <tr>\n",
              "      <th>0</th>\n",
              "      <td>Logistic_Regression</td>\n",
              "      <td>0.766207</td>\n",
              "      <td>train</td>\n",
              "    </tr>\n",
              "    <tr>\n",
              "      <th>14</th>\n",
              "      <td>XGBoost</td>\n",
              "      <td>0.766155</td>\n",
              "      <td>train</td>\n",
              "    </tr>\n",
              "    <tr>\n",
              "      <th>16</th>\n",
              "      <td>Voting</td>\n",
              "      <td>0.766155</td>\n",
              "      <td>train</td>\n",
              "    </tr>\n",
              "    <tr>\n",
              "      <th>6</th>\n",
              "      <td>Bagging Logistic</td>\n",
              "      <td>0.765233</td>\n",
              "      <td>train</td>\n",
              "    </tr>\n",
              "    <tr>\n",
              "      <th>2</th>\n",
              "      <td>Decision_Tree</td>\n",
              "      <td>0.763941</td>\n",
              "      <td>train</td>\n",
              "    </tr>\n",
              "    <tr>\n",
              "      <th>10</th>\n",
              "      <td>AdaBoost_logistic</td>\n",
              "      <td>0.73324</td>\n",
              "      <td>train</td>\n",
              "    </tr>\n",
              "    <tr>\n",
              "      <th>12</th>\n",
              "      <td>AdaBoost_Decision_Tree</td>\n",
              "      <td>0.73324</td>\n",
              "      <td>train</td>\n",
              "    </tr>\n",
              "    <tr>\n",
              "      <th>1</th>\n",
              "      <td>Logistic_Regression</td>\n",
              "      <td>0.751303</td>\n",
              "      <td>test</td>\n",
              "    </tr>\n",
              "    <tr>\n",
              "      <th>7</th>\n",
              "      <td>Bagging Logistic</td>\n",
              "      <td>0.751073</td>\n",
              "      <td>test</td>\n",
              "    </tr>\n",
              "    <tr>\n",
              "      <th>17</th>\n",
              "      <td>Voting</td>\n",
              "      <td>0.75023</td>\n",
              "      <td>test</td>\n",
              "    </tr>\n",
              "    <tr>\n",
              "      <th>15</th>\n",
              "      <td>XGBoost</td>\n",
              "      <td>0.748631</td>\n",
              "      <td>test</td>\n",
              "    </tr>\n",
              "    <tr>\n",
              "      <th>5</th>\n",
              "      <td>Random Forest</td>\n",
              "      <td>0.746944</td>\n",
              "      <td>test</td>\n",
              "    </tr>\n",
              "    <tr>\n",
              "      <th>9</th>\n",
              "      <td>Bagging_Decision_Tree</td>\n",
              "      <td>0.743417</td>\n",
              "      <td>test</td>\n",
              "    </tr>\n",
              "    <tr>\n",
              "      <th>3</th>\n",
              "      <td>Decision_Tree</td>\n",
              "      <td>0.741332</td>\n",
              "      <td>test</td>\n",
              "    </tr>\n",
              "    <tr>\n",
              "      <th>13</th>\n",
              "      <td>AdaBoost_Decision_Tree</td>\n",
              "      <td>0.738386</td>\n",
              "      <td>test</td>\n",
              "    </tr>\n",
              "    <tr>\n",
              "      <th>11</th>\n",
              "      <td>AdaBoost_logistic</td>\n",
              "      <td>0.728712</td>\n",
              "      <td>test</td>\n",
              "    </tr>\n",
              "  </tbody>\n",
              "</table>\n",
              "</div>\n",
              "      <button class=\"colab-df-convert\" onclick=\"convertToInteractive('df-10a1c74e-6101-47bd-81a9-10db00867a49')\"\n",
              "              title=\"Convert this dataframe to an interactive table.\"\n",
              "              style=\"display:none;\">\n",
              "\n",
              "  <svg xmlns=\"http://www.w3.org/2000/svg\" height=\"24px\"viewBox=\"0 0 24 24\"\n",
              "       width=\"24px\">\n",
              "    <path d=\"M0 0h24v24H0V0z\" fill=\"none\"/>\n",
              "    <path d=\"M18.56 5.44l.94 2.06.94-2.06 2.06-.94-2.06-.94-.94-2.06-.94 2.06-2.06.94zm-11 1L8.5 8.5l.94-2.06 2.06-.94-2.06-.94L8.5 2.5l-.94 2.06-2.06.94zm10 10l.94 2.06.94-2.06 2.06-.94-2.06-.94-.94-2.06-.94 2.06-2.06.94z\"/><path d=\"M17.41 7.96l-1.37-1.37c-.4-.4-.92-.59-1.43-.59-.52 0-1.04.2-1.43.59L10.3 9.45l-7.72 7.72c-.78.78-.78 2.05 0 2.83L4 21.41c.39.39.9.59 1.41.59.51 0 1.02-.2 1.41-.59l7.78-7.78 2.81-2.81c.8-.78.8-2.07 0-2.86zM5.41 20L4 18.59l7.72-7.72 1.47 1.35L5.41 20z\"/>\n",
              "  </svg>\n",
              "      </button>\n",
              "\n",
              "\n",
              "\n",
              "    <div id=\"df-3d57ec5a-1316-480c-b3eb-a89f83d861b2\">\n",
              "      <button class=\"colab-df-quickchart\" onclick=\"quickchart('df-3d57ec5a-1316-480c-b3eb-a89f83d861b2')\"\n",
              "              title=\"Suggest charts.\"\n",
              "              style=\"display:none;\">\n",
              "\n",
              "<svg xmlns=\"http://www.w3.org/2000/svg\" height=\"24px\"viewBox=\"0 0 24 24\"\n",
              "     width=\"24px\">\n",
              "    <g>\n",
              "        <path d=\"M19 3H5c-1.1 0-2 .9-2 2v14c0 1.1.9 2 2 2h14c1.1 0 2-.9 2-2V5c0-1.1-.9-2-2-2zM9 17H7v-7h2v7zm4 0h-2V7h2v10zm4 0h-2v-4h2v4z\"/>\n",
              "    </g>\n",
              "</svg>\n",
              "      </button>\n",
              "    </div>\n",
              "\n",
              "<style>\n",
              "  .colab-df-quickchart {\n",
              "    background-color: #E8F0FE;\n",
              "    border: none;\n",
              "    border-radius: 50%;\n",
              "    cursor: pointer;\n",
              "    display: none;\n",
              "    fill: #1967D2;\n",
              "    height: 32px;\n",
              "    padding: 0 0 0 0;\n",
              "    width: 32px;\n",
              "  }\n",
              "\n",
              "  .colab-df-quickchart:hover {\n",
              "    background-color: #E2EBFA;\n",
              "    box-shadow: 0px 1px 2px rgba(60, 64, 67, 0.3), 0px 1px 3px 1px rgba(60, 64, 67, 0.15);\n",
              "    fill: #174EA6;\n",
              "  }\n",
              "\n",
              "  [theme=dark] .colab-df-quickchart {\n",
              "    background-color: #3B4455;\n",
              "    fill: #D2E3FC;\n",
              "  }\n",
              "\n",
              "  [theme=dark] .colab-df-quickchart:hover {\n",
              "    background-color: #434B5C;\n",
              "    box-shadow: 0px 1px 3px 1px rgba(0, 0, 0, 0.15);\n",
              "    filter: drop-shadow(0px 1px 2px rgba(0, 0, 0, 0.3));\n",
              "    fill: #FFFFFF;\n",
              "  }\n",
              "</style>\n",
              "\n",
              "    <script>\n",
              "      async function quickchart(key) {\n",
              "        const containerElement = document.querySelector('#' + key);\n",
              "        const charts = await google.colab.kernel.invokeFunction(\n",
              "            'suggestCharts', [key], {});\n",
              "      }\n",
              "    </script>\n",
              "\n",
              "      <script>\n",
              "\n",
              "function displayQuickchartButton(domScope) {\n",
              "  let quickchartButtonEl =\n",
              "    domScope.querySelector('#df-3d57ec5a-1316-480c-b3eb-a89f83d861b2 button.colab-df-quickchart');\n",
              "  quickchartButtonEl.style.display =\n",
              "    google.colab.kernel.accessAllowed ? 'block' : 'none';\n",
              "}\n",
              "\n",
              "        displayQuickchartButton(document);\n",
              "      </script>\n",
              "      <style>\n",
              "    .colab-df-container {\n",
              "      display:flex;\n",
              "      flex-wrap:wrap;\n",
              "      gap: 12px;\n",
              "    }\n",
              "\n",
              "    .colab-df-convert {\n",
              "      background-color: #E8F0FE;\n",
              "      border: none;\n",
              "      border-radius: 50%;\n",
              "      cursor: pointer;\n",
              "      display: none;\n",
              "      fill: #1967D2;\n",
              "      height: 32px;\n",
              "      padding: 0 0 0 0;\n",
              "      width: 32px;\n",
              "    }\n",
              "\n",
              "    .colab-df-convert:hover {\n",
              "      background-color: #E2EBFA;\n",
              "      box-shadow: 0px 1px 2px rgba(60, 64, 67, 0.3), 0px 1px 3px 1px rgba(60, 64, 67, 0.15);\n",
              "      fill: #174EA6;\n",
              "    }\n",
              "\n",
              "    [theme=dark] .colab-df-convert {\n",
              "      background-color: #3B4455;\n",
              "      fill: #D2E3FC;\n",
              "    }\n",
              "\n",
              "    [theme=dark] .colab-df-convert:hover {\n",
              "      background-color: #434B5C;\n",
              "      box-shadow: 0px 1px 3px 1px rgba(0, 0, 0, 0.15);\n",
              "      filter: drop-shadow(0px 1px 2px rgba(0, 0, 0, 0.3));\n",
              "      fill: #FFFFFF;\n",
              "    }\n",
              "  </style>\n",
              "\n",
              "      <script>\n",
              "        const buttonEl =\n",
              "          document.querySelector('#df-10a1c74e-6101-47bd-81a9-10db00867a49 button.colab-df-convert');\n",
              "        buttonEl.style.display =\n",
              "          google.colab.kernel.accessAllowed ? 'block' : 'none';\n",
              "\n",
              "        async function convertToInteractive(key) {\n",
              "          const element = document.querySelector('#df-10a1c74e-6101-47bd-81a9-10db00867a49');\n",
              "          const dataTable =\n",
              "            await google.colab.kernel.invokeFunction('convertToInteractive',\n",
              "                                                     [key], {});\n",
              "          if (!dataTable) return;\n",
              "\n",
              "          const docLinkHtml = 'Like what you see? Visit the ' +\n",
              "            '<a target=\"_blank\" href=https://colab.research.google.com/notebooks/data_table.ipynb>data table notebook</a>'\n",
              "            + ' to learn more about interactive tables.';\n",
              "          element.innerHTML = '';\n",
              "          dataTable['output_type'] = 'display_data';\n",
              "          await google.colab.output.renderOutput(dataTable, element);\n",
              "          const docLink = document.createElement('div');\n",
              "          docLink.innerHTML = docLinkHtml;\n",
              "          element.appendChild(docLink);\n",
              "        }\n",
              "      </script>\n",
              "    </div>\n",
              "  </div>\n"
            ]
          },
          "metadata": {},
          "execution_count": 280
        }
      ],
      "source": [
        "df_scores = df_scores.sort_values(by = ['set', 'f1_score'], ascending = False)\n",
        "df_scores"
      ]
    },
    {
      "cell_type": "markdown",
      "source": [
        "***NOTE how the bagging decision tree as almost the same value of the random forest, in the end of the day they are the same**"
      ],
      "metadata": {
        "id": "0zNZebQSlB8d"
      }
    },
    {
      "cell_type": "markdown",
      "source": [
        "# Plot the results"
      ],
      "metadata": {
        "id": "kEFrJGHia_tR"
      }
    },
    {
      "cell_type": "code",
      "source": [
        "plt.figure(figsize=(9, 6))    # Figure size\n",
        "\n",
        "sns.barplot(data=df_scores, x='model', y='f1_score', hue='set')\n",
        "plt.xlabel('Model')\n",
        "plt.ylabel('F1 Score')\n",
        "plt.title('F1 Scores by Model')\n",
        "\n",
        "plt.xticks(rotation=45, ha='right')  # Rotate and align the x-axis labels to prevent overlap\n",
        "\n",
        "plt.legend(title='Set')\n",
        "plt.tight_layout()\n",
        "\n",
        "plt.show()"
      ],
      "metadata": {
        "colab": {
          "base_uri": "https://localhost:8080/",
          "height": 607
        },
        "id": "MRULntc6Zmkf",
        "outputId": "3c1acad3-2220-436c-effb-61a94f005adf"
      },
      "execution_count": null,
      "outputs": [
        {
          "output_type": "display_data",
          "data": {
            "text/plain": [
              "<Figure size 900x600 with 1 Axes>"
            ],
            "image/png": "[encoded data removed]"
          },
          "metadata": {}
        }
      ]
    },
    {
      "cell_type": "markdown",
      "source": [
        "# Save F1_results to a csv file"
      ],
      "metadata": {
        "id": "CVTOpim0cEOR"
      }
    },
    {
      "cell_type": "code",
      "execution_count": null,
      "metadata": {
        "id": "hxm2viF3RFi3"
      },
      "outputs": [],
      "source": [
        "df_scores.to_csv('Models_F1_results')\n"
      ]
    },
    {
      "cell_type": "markdown",
      "metadata": {
        "id": "fuMzLRMndEHQ"
      },
      "source": [
        "# 5) Coefficients impact"
      ]
    },
    {
      "cell_type": "code",
      "execution_count": null,
      "metadata": {
        "id": "_xVuH4_hdDvJ",
        "colab": {
          "base_uri": "https://localhost:8080/"
        },
        "outputId": "b0910eac-8807-40c2-d866-6007fe5c5cf3"
      },
      "outputs": [
        {
          "output_type": "stream",
          "name": "stdout",
          "text": [
            "Names of columns corresponding to each coefficient:  ['total_pages_visited', 'age', 'country_Germany', 'country_UK', 'country_US', 'source_Direct', 'source_Seo', 'new_user_1']\n"
          ]
        }
      ],
      "source": [
        "column_names = []\n",
        "\n",
        "for name, step, features_list in Preprocessor.transformers_: # loop over steps of ColumnTransformer\n",
        "    if name == 'num': # if pipeline is for numeric variables\n",
        "        features = features_list # just get the names of columns to which it has been applied\n",
        "    else: # if pipeline is for categorical variables\n",
        "        features = step.get_feature_names_out() # get output columns names from OneHotEncoder\n",
        "\n",
        "    column_names.extend(features) # concatenate features names\n",
        "\n",
        "print(\"Names of columns corresponding to each coefficient: \", column_names)\n",
        "#ridsearch_bagging_tree.best_estimator_.estimators_features_.\n",
        "# Create a pandas DataFrame\n",
        "feature_importance = pd.DataFrame(index = column_names, data = gridsearch_decision_tree.best_estimator_.feature_importances_, columns=[\"feature_importances\"])\n",
        "feature_importance = feature_importance.sort_values(by = 'feature_importances', ascending = False)\n"
      ]
    },
    {
      "cell_type": "code",
      "source": [
        "feature_importance"
      ],
      "metadata": {
        "colab": {
          "base_uri": "https://localhost:8080/",
          "height": 300
        },
        "id": "KT0mg8gFqP3d",
        "outputId": "345a5ee4-1dbc-46ba-df0e-b4e17a25f83b"
      },
      "execution_count": null,
      "outputs": [
        {
          "output_type": "execute_result",
          "data": {
            "text/plain": [
              "                     feature_importances\n",
              "total_pages_visited             0.873778\n",
              "new_user_1                      0.061182\n",
              "age                             0.029753\n",
              "country_UK                      0.012291\n",
              "country_US                      0.011998\n",
              "country_Germany                 0.008294\n",
              "source_Direct                   0.001571\n",
              "source_Seo                      0.001134"
            ],
            "text/html": [
              "\n",
              "\n",
              "  <div id=\"df-ec9aacd3-6c43-4fb7-a198-763b85c240ac\">\n",
              "    <div class=\"colab-df-container\">\n",
              "      <div>\n",
              "<style scoped>\n",
              "    .dataframe tbody tr th:only-of-type {\n",
              "        vertical-align: middle;\n",
              "    }\n",
              "\n",
              "    .dataframe tbody tr th {\n",
              "        vertical-align: top;\n",
              "    }\n",
              "\n",
              "    .dataframe thead th {\n",
              "        text-align: right;\n",
              "    }\n",
              "</style>\n",
              "<table border=\"1\" class=\"dataframe\">\n",
              "  <thead>\n",
              "    <tr style=\"text-align: right;\">\n",
              "      <th></th>\n",
              "      <th>feature_importances</th>\n",
              "    </tr>\n",
              "  </thead>\n",
              "  <tbody>\n",
              "    <tr>\n",
              "      <th>total_pages_visited</th>\n",
              "      <td>0.873778</td>\n",
              "    </tr>\n",
              "    <tr>\n",
              "      <th>new_user_1</th>\n",
              "      <td>0.061182</td>\n",
              "    </tr>\n",
              "    <tr>\n",
              "      <th>age</th>\n",
              "      <td>0.029753</td>\n",
              "    </tr>\n",
              "    <tr>\n",
              "      <th>country_UK</th>\n",
              "      <td>0.012291</td>\n",
              "    </tr>\n",
              "    <tr>\n",
              "      <th>country_US</th>\n",
              "      <td>0.011998</td>\n",
              "    </tr>\n",
              "    <tr>\n",
              "      <th>country_Germany</th>\n",
              "      <td>0.008294</td>\n",
              "    </tr>\n",
              "    <tr>\n",
              "      <th>source_Direct</th>\n",
              "      <td>0.001571</td>\n",
              "    </tr>\n",
              "    <tr>\n",
              "      <th>source_Seo</th>\n",
              "      <td>0.001134</td>\n",
              "    </tr>\n",
              "  </tbody>\n",
              "</table>\n",
              "</div>\n",
              "      <button class=\"colab-df-convert\" onclick=\"convertToInteractive('df-ec9aacd3-6c43-4fb7-a198-763b85c240ac')\"\n",
              "              title=\"Convert this dataframe to an interactive table.\"\n",
              "              style=\"display:none;\">\n",
              "\n",
              "  <svg xmlns=\"http://www.w3.org/2000/svg\" height=\"24px\"viewBox=\"0 0 24 24\"\n",
              "       width=\"24px\">\n",
              "    <path d=\"M0 0h24v24H0V0z\" fill=\"none\"/>\n",
              "    <path d=\"M18.56 5.44l.94 2.06.94-2.06 2.06-.94-2.06-.94-.94-2.06-.94 2.06-2.06.94zm-11 1L8.5 8.5l.94-2.06 2.06-.94-2.06-.94L8.5 2.5l-.94 2.06-2.06.94zm10 10l.94 2.06.94-2.06 2.06-.94-2.06-.94-.94-2.06-.94 2.06-2.06.94z\"/><path d=\"M17.41 7.96l-1.37-1.37c-.4-.4-.92-.59-1.43-.59-.52 0-1.04.2-1.43.59L10.3 9.45l-7.72 7.72c-.78.78-.78 2.05 0 2.83L4 21.41c.39.39.9.59 1.41.59.51 0 1.02-.2 1.41-.59l7.78-7.78 2.81-2.81c.8-.78.8-2.07 0-2.86zM5.41 20L4 18.59l7.72-7.72 1.47 1.35L5.41 20z\"/>\n",
              "  </svg>\n",
              "      </button>\n",
              "\n",
              "\n",
              "\n",
              "    <div id=\"df-eae78ec7-1b31-41ba-82d8-d18a1fb80267\">\n",
              "      <button class=\"colab-df-quickchart\" onclick=\"quickchart('df-eae78ec7-1b31-41ba-82d8-d18a1fb80267')\"\n",
              "              title=\"Suggest charts.\"\n",
              "              style=\"display:none;\">\n",
              "\n",
              "<svg xmlns=\"http://www.w3.org/2000/svg\" height=\"24px\"viewBox=\"0 0 24 24\"\n",
              "     width=\"24px\">\n",
              "    <g>\n",
              "        <path d=\"M19 3H5c-1.1 0-2 .9-2 2v14c0 1.1.9 2 2 2h14c1.1 0 2-.9 2-2V5c0-1.1-.9-2-2-2zM9 17H7v-7h2v7zm4 0h-2V7h2v10zm4 0h-2v-4h2v4z\"/>\n",
              "    </g>\n",
              "</svg>\n",
              "      </button>\n",
              "    </div>\n",
              "\n",
              "<style>\n",
              "  .colab-df-quickchart {\n",
              "    background-color: #E8F0FE;\n",
              "    border: none;\n",
              "    border-radius: 50%;\n",
              "    cursor: pointer;\n",
              "    display: none;\n",
              "    fill: #1967D2;\n",
              "    height: 32px;\n",
              "    padding: 0 0 0 0;\n",
              "    width: 32px;\n",
              "  }\n",
              "\n",
              "  .colab-df-quickchart:hover {\n",
              "    background-color: #E2EBFA;\n",
              "    box-shadow: 0px 1px 2px rgba(60, 64, 67, 0.3), 0px 1px 3px 1px rgba(60, 64, 67, 0.15);\n",
              "    fill: #174EA6;\n",
              "  }\n",
              "\n",
              "  [theme=dark] .colab-df-quickchart {\n",
              "    background-color: #3B4455;\n",
              "    fill: #D2E3FC;\n",
              "  }\n",
              "\n",
              "  [theme=dark] .colab-df-quickchart:hover {\n",
              "    background-color: #434B5C;\n",
              "    box-shadow: 0px 1px 3px 1px rgba(0, 0, 0, 0.15);\n",
              "    filter: drop-shadow(0px 1px 2px rgba(0, 0, 0, 0.3));\n",
              "    fill: #FFFFFF;\n",
              "  }\n",
              "</style>\n",
              "\n",
              "    <script>\n",
              "      async function quickchart(key) {\n",
              "        const containerElement = document.querySelector('#' + key);\n",
              "        const charts = await google.colab.kernel.invokeFunction(\n",
              "            'suggestCharts', [key], {});\n",
              "      }\n",
              "    </script>\n",
              "\n",
              "      <script>\n",
              "\n",
              "function displayQuickchartButton(domScope) {\n",
              "  let quickchartButtonEl =\n",
              "    domScope.querySelector('#df-eae78ec7-1b31-41ba-82d8-d18a1fb80267 button.colab-df-quickchart');\n",
              "  quickchartButtonEl.style.display =\n",
              "    google.colab.kernel.accessAllowed ? 'block' : 'none';\n",
              "}\n",
              "\n",
              "        displayQuickchartButton(document);\n",
              "      </script>\n",
              "      <style>\n",
              "    .colab-df-container {\n",
              "      display:flex;\n",
              "      flex-wrap:wrap;\n",
              "      gap: 12px;\n",
              "    }\n",
              "\n",
              "    .colab-df-convert {\n",
              "      background-color: #E8F0FE;\n",
              "      border: none;\n",
              "      border-radius: 50%;\n",
              "      cursor: pointer;\n",
              "      display: none;\n",
              "      fill: #1967D2;\n",
              "      height: 32px;\n",
              "      padding: 0 0 0 0;\n",
              "      width: 32px;\n",
              "    }\n",
              "\n",
              "    .colab-df-convert:hover {\n",
              "      background-color: #E2EBFA;\n",
              "      box-shadow: 0px 1px 2px rgba(60, 64, 67, 0.3), 0px 1px 3px 1px rgba(60, 64, 67, 0.15);\n",
              "      fill: #174EA6;\n",
              "    }\n",
              "\n",
              "    [theme=dark] .colab-df-convert {\n",
              "      background-color: #3B4455;\n",
              "      fill: #D2E3FC;\n",
              "    }\n",
              "\n",
              "    [theme=dark] .colab-df-convert:hover {\n",
              "      background-color: #434B5C;\n",
              "      box-shadow: 0px 1px 3px 1px rgba(0, 0, 0, 0.15);\n",
              "      filter: drop-shadow(0px 1px 2px rgba(0, 0, 0, 0.3));\n",
              "      fill: #FFFFFF;\n",
              "    }\n",
              "  </style>\n",
              "\n",
              "      <script>\n",
              "        const buttonEl =\n",
              "          document.querySelector('#df-ec9aacd3-6c43-4fb7-a198-763b85c240ac button.colab-df-convert');\n",
              "        buttonEl.style.display =\n",
              "          google.colab.kernel.accessAllowed ? 'block' : 'none';\n",
              "\n",
              "        async function convertToInteractive(key) {\n",
              "          const element = document.querySelector('#df-ec9aacd3-6c43-4fb7-a198-763b85c240ac');\n",
              "          const dataTable =\n",
              "            await google.colab.kernel.invokeFunction('convertToInteractive',\n",
              "                                                     [key], {});\n",
              "          if (!dataTable) return;\n",
              "\n",
              "          const docLinkHtml = 'Like what you see? Visit the ' +\n",
              "            '<a target=\"_blank\" href=https://colab.research.google.com/notebooks/data_table.ipynb>data table notebook</a>'\n",
              "            + ' to learn more about interactive tables.';\n",
              "          element.innerHTML = '';\n",
              "          dataTable['output_type'] = 'display_data';\n",
              "          await google.colab.output.renderOutput(dataTable, element);\n",
              "          const docLink = document.createElement('div');\n",
              "          docLink.innerHTML = docLinkHtml;\n",
              "          element.appendChild(docLink);\n",
              "        }\n",
              "      </script>\n",
              "    </div>\n",
              "  </div>\n"
            ]
          },
          "metadata": {},
          "execution_count": 315
        }
      ]
    },
    {
      "cell_type": "markdown",
      "source": [
        "THe featue importance as per the table below, the least important is the SEO source and the most important two are the total pages visited and if new user"
      ],
      "metadata": {
        "id": "SuclmsXZqnzb"
      }
    },
    {
      "cell_type": "markdown",
      "source": [
        "Final note on the analysis related to the features importance above, I have chosen the deicion tree to exctract the importance. if we need to do the same on the bagging decision tree for instance we need to implement a loop that goes through the whole estimators and aggregate the results. But in my opinion after observing the results above aparently the difference in weight is large and clear."
      ],
      "metadata": {
        "id": "fgxo8LLdqyhP"
      }
    },
    {
      "cell_type": "markdown",
      "metadata": {
        "id": "kPF6V3ozZoAw"
      },
      "source": [
        "# 6) Exporting the prediction results"
      ]
    },
    {
      "cell_type": "markdown",
      "source": [
        "### 6.a) importing the test set"
      ],
      "metadata": {
        "id": "DELw65szctXg"
      }
    },
    {
      "cell_type": "code",
      "execution_count": null,
      "metadata": {
        "id": "NXjjAlLcZoAw"
      },
      "outputs": [],
      "source": [
        "real_test = pd.read_csv('conversion_data_test.csv')"
      ]
    },
    {
      "cell_type": "code",
      "execution_count": null,
      "metadata": {
        "id": "tfUszMUkZoAx",
        "outputId": "f589e1a3-ce10-4146-d088-66cb86add839",
        "colab": {
          "base_uri": "https://localhost:8080/",
          "height": 206
        }
      },
      "outputs": [
        {
          "output_type": "execute_result",
          "data": {
            "text/plain": [
              "  country  age  new_user  source  total_pages_visited\n",
              "0      UK   28         0     Seo                   16\n",
              "1      UK   22         1  Direct                    5\n",
              "2   China   32         1     Seo                    1\n",
              "3      US   32         1     Ads                    6\n",
              "4   China   25         0     Seo                    3"
            ],
            "text/html": [
              "\n",
              "\n",
              "  <div id=\"df-46e6ac4c-659b-4f74-8c1a-4de40553563e\">\n",
              "    <div class=\"colab-df-container\">\n",
              "      <div>\n",
              "<style scoped>\n",
              "    .dataframe tbody tr th:only-of-type {\n",
              "        vertical-align: middle;\n",
              "    }\n",
              "\n",
              "    .dataframe tbody tr th {\n",
              "        vertical-align: top;\n",
              "    }\n",
              "\n",
              "    .dataframe thead th {\n",
              "        text-align: right;\n",
              "    }\n",
              "</style>\n",
              "<table border=\"1\" class=\"dataframe\">\n",
              "  <thead>\n",
              "    <tr style=\"text-align: right;\">\n",
              "      <th></th>\n",
              "      <th>country</th>\n",
              "      <th>age</th>\n",
              "      <th>new_user</th>\n",
              "      <th>source</th>\n",
              "      <th>total_pages_visited</th>\n",
              "    </tr>\n",
              "  </thead>\n",
              "  <tbody>\n",
              "    <tr>\n",
              "      <th>0</th>\n",
              "      <td>UK</td>\n",
              "      <td>28</td>\n",
              "      <td>0</td>\n",
              "      <td>Seo</td>\n",
              "      <td>16</td>\n",
              "    </tr>\n",
              "    <tr>\n",
              "      <th>1</th>\n",
              "      <td>UK</td>\n",
              "      <td>22</td>\n",
              "      <td>1</td>\n",
              "      <td>Direct</td>\n",
              "      <td>5</td>\n",
              "    </tr>\n",
              "    <tr>\n",
              "      <th>2</th>\n",
              "      <td>China</td>\n",
              "      <td>32</td>\n",
              "      <td>1</td>\n",
              "      <td>Seo</td>\n",
              "      <td>1</td>\n",
              "    </tr>\n",
              "    <tr>\n",
              "      <th>3</th>\n",
              "      <td>US</td>\n",
              "      <td>32</td>\n",
              "      <td>1</td>\n",
              "      <td>Ads</td>\n",
              "      <td>6</td>\n",
              "    </tr>\n",
              "    <tr>\n",
              "      <th>4</th>\n",
              "      <td>China</td>\n",
              "      <td>25</td>\n",
              "      <td>0</td>\n",
              "      <td>Seo</td>\n",
              "      <td>3</td>\n",
              "    </tr>\n",
              "  </tbody>\n",
              "</table>\n",
              "</div>\n",
              "      <button class=\"colab-df-convert\" onclick=\"convertToInteractive('df-46e6ac4c-659b-4f74-8c1a-4de40553563e')\"\n",
              "              title=\"Convert this dataframe to an interactive table.\"\n",
              "              style=\"display:none;\">\n",
              "\n",
              "  <svg xmlns=\"http://www.w3.org/2000/svg\" height=\"24px\"viewBox=\"0 0 24 24\"\n",
              "       width=\"24px\">\n",
              "    <path d=\"M0 0h24v24H0V0z\" fill=\"none\"/>\n",
              "    <path d=\"M18.56 5.44l.94 2.06.94-2.06 2.06-.94-2.06-.94-.94-2.06-.94 2.06-2.06.94zm-11 1L8.5 8.5l.94-2.06 2.06-.94-2.06-.94L8.5 2.5l-.94 2.06-2.06.94zm10 10l.94 2.06.94-2.06 2.06-.94-2.06-.94-.94-2.06-.94 2.06-2.06.94z\"/><path d=\"M17.41 7.96l-1.37-1.37c-.4-.4-.92-.59-1.43-.59-.52 0-1.04.2-1.43.59L10.3 9.45l-7.72 7.72c-.78.78-.78 2.05 0 2.83L4 21.41c.39.39.9.59 1.41.59.51 0 1.02-.2 1.41-.59l7.78-7.78 2.81-2.81c.8-.78.8-2.07 0-2.86zM5.41 20L4 18.59l7.72-7.72 1.47 1.35L5.41 20z\"/>\n",
              "  </svg>\n",
              "      </button>\n",
              "\n",
              "\n",
              "\n",
              "    <div id=\"df-04b3f7d3-ae08-4e8e-bc07-75103960d753\">\n",
              "      <button class=\"colab-df-quickchart\" onclick=\"quickchart('df-04b3f7d3-ae08-4e8e-bc07-75103960d753')\"\n",
              "              title=\"Suggest charts.\"\n",
              "              style=\"display:none;\">\n",
              "\n",
              "<svg xmlns=\"http://www.w3.org/2000/svg\" height=\"24px\"viewBox=\"0 0 24 24\"\n",
              "     width=\"24px\">\n",
              "    <g>\n",
              "        <path d=\"M19 3H5c-1.1 0-2 .9-2 2v14c0 1.1.9 2 2 2h14c1.1 0 2-.9 2-2V5c0-1.1-.9-2-2-2zM9 17H7v-7h2v7zm4 0h-2V7h2v10zm4 0h-2v-4h2v4z\"/>\n",
              "    </g>\n",
              "</svg>\n",
              "      </button>\n",
              "    </div>\n",
              "\n",
              "<style>\n",
              "  .colab-df-quickchart {\n",
              "    background-color: #E8F0FE;\n",
              "    border: none;\n",
              "    border-radius: 50%;\n",
              "    cursor: pointer;\n",
              "    display: none;\n",
              "    fill: #1967D2;\n",
              "    height: 32px;\n",
              "    padding: 0 0 0 0;\n",
              "    width: 32px;\n",
              "  }\n",
              "\n",
              "  .colab-df-quickchart:hover {\n",
              "    background-color: #E2EBFA;\n",
              "    box-shadow: 0px 1px 2px rgba(60, 64, 67, 0.3), 0px 1px 3px 1px rgba(60, 64, 67, 0.15);\n",
              "    fill: #174EA6;\n",
              "  }\n",
              "\n",
              "  [theme=dark] .colab-df-quickchart {\n",
              "    background-color: #3B4455;\n",
              "    fill: #D2E3FC;\n",
              "  }\n",
              "\n",
              "  [theme=dark] .colab-df-quickchart:hover {\n",
              "    background-color: #434B5C;\n",
              "    box-shadow: 0px 1px 3px 1px rgba(0, 0, 0, 0.15);\n",
              "    filter: drop-shadow(0px 1px 2px rgba(0, 0, 0, 0.3));\n",
              "    fill: #FFFFFF;\n",
              "  }\n",
              "</style>\n",
              "\n",
              "    <script>\n",
              "      async function quickchart(key) {\n",
              "        const containerElement = document.querySelector('#' + key);\n",
              "        const charts = await google.colab.kernel.invokeFunction(\n",
              "            'suggestCharts', [key], {});\n",
              "      }\n",
              "    </script>\n",
              "\n",
              "      <script>\n",
              "\n",
              "function displayQuickchartButton(domScope) {\n",
              "  let quickchartButtonEl =\n",
              "    domScope.querySelector('#df-04b3f7d3-ae08-4e8e-bc07-75103960d753 button.colab-df-quickchart');\n",
              "  quickchartButtonEl.style.display =\n",
              "    google.colab.kernel.accessAllowed ? 'block' : 'none';\n",
              "}\n",
              "\n",
              "        displayQuickchartButton(document);\n",
              "      </script>\n",
              "      <style>\n",
              "    .colab-df-container {\n",
              "      display:flex;\n",
              "      flex-wrap:wrap;\n",
              "      gap: 12px;\n",
              "    }\n",
              "\n",
              "    .colab-df-convert {\n",
              "      background-color: #E8F0FE;\n",
              "      border: none;\n",
              "      border-radius: 50%;\n",
              "      cursor: pointer;\n",
              "      display: none;\n",
              "      fill: #1967D2;\n",
              "      height: 32px;\n",
              "      padding: 0 0 0 0;\n",
              "      width: 32px;\n",
              "    }\n",
              "\n",
              "    .colab-df-convert:hover {\n",
              "      background-color: #E2EBFA;\n",
              "      box-shadow: 0px 1px 2px rgba(60, 64, 67, 0.3), 0px 1px 3px 1px rgba(60, 64, 67, 0.15);\n",
              "      fill: #174EA6;\n",
              "    }\n",
              "\n",
              "    [theme=dark] .colab-df-convert {\n",
              "      background-color: #3B4455;\n",
              "      fill: #D2E3FC;\n",
              "    }\n",
              "\n",
              "    [theme=dark] .colab-df-convert:hover {\n",
              "      background-color: #434B5C;\n",
              "      box-shadow: 0px 1px 3px 1px rgba(0, 0, 0, 0.15);\n",
              "      filter: drop-shadow(0px 1px 2px rgba(0, 0, 0, 0.3));\n",
              "      fill: #FFFFFF;\n",
              "    }\n",
              "  </style>\n",
              "\n",
              "      <script>\n",
              "        const buttonEl =\n",
              "          document.querySelector('#df-46e6ac4c-659b-4f74-8c1a-4de40553563e button.colab-df-convert');\n",
              "        buttonEl.style.display =\n",
              "          google.colab.kernel.accessAllowed ? 'block' : 'none';\n",
              "\n",
              "        async function convertToInteractive(key) {\n",
              "          const element = document.querySelector('#df-46e6ac4c-659b-4f74-8c1a-4de40553563e');\n",
              "          const dataTable =\n",
              "            await google.colab.kernel.invokeFunction('convertToInteractive',\n",
              "                                                     [key], {});\n",
              "          if (!dataTable) return;\n",
              "\n",
              "          const docLinkHtml = 'Like what you see? Visit the ' +\n",
              "            '<a target=\"_blank\" href=https://colab.research.google.com/notebooks/data_table.ipynb>data table notebook</a>'\n",
              "            + ' to learn more about interactive tables.';\n",
              "          element.innerHTML = '';\n",
              "          dataTable['output_type'] = 'display_data';\n",
              "          await google.colab.output.renderOutput(dataTable, element);\n",
              "          const docLink = document.createElement('div');\n",
              "          docLink.innerHTML = docLinkHtml;\n",
              "          element.appendChild(docLink);\n",
              "        }\n",
              "      </script>\n",
              "    </div>\n",
              "  </div>\n"
            ]
          },
          "metadata": {},
          "execution_count": 290
        }
      ],
      "source": [
        "real_test.head()"
      ]
    },
    {
      "cell_type": "markdown",
      "metadata": {
        "id": "SGpavmeKZoAx"
      },
      "source": [
        "### 6.b) Preprocessing"
      ]
    },
    {
      "cell_type": "code",
      "execution_count": null,
      "metadata": {
        "id": "DbQy1CLlZoAx"
      },
      "outputs": [],
      "source": [
        "real_test = Preprocessor.transform(real_test)\n",
        "\n",
        "# print(real_test)\n"
      ]
    },
    {
      "cell_type": "markdown",
      "source": [
        "6.c) Implementing prediction using the logistic regression model"
      ],
      "metadata": {
        "id": "PD4j417Dc5F4"
      }
    },
    {
      "cell_type": "code",
      "execution_count": null,
      "metadata": {
        "id": "9K_KWjtpZoAx"
      },
      "outputs": [],
      "source": [
        "real_result = model_logisticRegression.predict(real_test)"
      ]
    },
    {
      "cell_type": "code",
      "execution_count": null,
      "metadata": {
        "id": "o0OmuNNCZoAy"
      },
      "outputs": [],
      "source": [
        "# Transfer to pandas dataframe\n",
        "final = pd.DataFrame(real_result)"
      ]
    },
    {
      "cell_type": "code",
      "execution_count": null,
      "metadata": {
        "id": "R3LCLL5UZoAy",
        "outputId": "fec5f5e6-8c04-4c62-c4a2-51874109521e",
        "colab": {
          "base_uri": "https://localhost:8080/",
          "height": 206
        }
      },
      "outputs": [
        {
          "output_type": "execute_result",
          "data": {
            "text/plain": [
              "   0\n",
              "0  1\n",
              "1  0\n",
              "2  0\n",
              "3  0\n",
              "4  0"
            ],
            "text/html": [
              "\n",
              "\n",
              "  <div id=\"df-7d863e53-085f-41c4-b9c3-3592c54c01a6\">\n",
              "    <div class=\"colab-df-container\">\n",
              "      <div>\n",
              "<style scoped>\n",
              "    .dataframe tbody tr th:only-of-type {\n",
              "        vertical-align: middle;\n",
              "    }\n",
              "\n",
              "    .dataframe tbody tr th {\n",
              "        vertical-align: top;\n",
              "    }\n",
              "\n",
              "    .dataframe thead th {\n",
              "        text-align: right;\n",
              "    }\n",
              "</style>\n",
              "<table border=\"1\" class=\"dataframe\">\n",
              "  <thead>\n",
              "    <tr style=\"text-align: right;\">\n",
              "      <th></th>\n",
              "      <th>0</th>\n",
              "    </tr>\n",
              "  </thead>\n",
              "  <tbody>\n",
              "    <tr>\n",
              "      <th>0</th>\n",
              "      <td>1</td>\n",
              "    </tr>\n",
              "    <tr>\n",
              "      <th>1</th>\n",
              "      <td>0</td>\n",
              "    </tr>\n",
              "    <tr>\n",
              "      <th>2</th>\n",
              "      <td>0</td>\n",
              "    </tr>\n",
              "    <tr>\n",
              "      <th>3</th>\n",
              "      <td>0</td>\n",
              "    </tr>\n",
              "    <tr>\n",
              "      <th>4</th>\n",
              "      <td>0</td>\n",
              "    </tr>\n",
              "  </tbody>\n",
              "</table>\n",
              "</div>\n",
              "      <button class=\"colab-df-convert\" onclick=\"convertToInteractive('df-7d863e53-085f-41c4-b9c3-3592c54c01a6')\"\n",
              "              title=\"Convert this dataframe to an interactive table.\"\n",
              "              style=\"display:none;\">\n",
              "\n",
              "  <svg xmlns=\"http://www.w3.org/2000/svg\" height=\"24px\"viewBox=\"0 0 24 24\"\n",
              "       width=\"24px\">\n",
              "    <path d=\"M0 0h24v24H0V0z\" fill=\"none\"/>\n",
              "    <path d=\"M18.56 5.44l.94 2.06.94-2.06 2.06-.94-2.06-.94-.94-2.06-.94 2.06-2.06.94zm-11 1L8.5 8.5l.94-2.06 2.06-.94-2.06-.94L8.5 2.5l-.94 2.06-2.06.94zm10 10l.94 2.06.94-2.06 2.06-.94-2.06-.94-.94-2.06-.94 2.06-2.06.94z\"/><path d=\"M17.41 7.96l-1.37-1.37c-.4-.4-.92-.59-1.43-.59-.52 0-1.04.2-1.43.59L10.3 9.45l-7.72 7.72c-.78.78-.78 2.05 0 2.83L4 21.41c.39.39.9.59 1.41.59.51 0 1.02-.2 1.41-.59l7.78-7.78 2.81-2.81c.8-.78.8-2.07 0-2.86zM5.41 20L4 18.59l7.72-7.72 1.47 1.35L5.41 20z\"/>\n",
              "  </svg>\n",
              "      </button>\n",
              "\n",
              "\n",
              "\n",
              "    <div id=\"df-11b8a6d4-e5ec-44f3-8af5-eca9164c1ba9\">\n",
              "      <button class=\"colab-df-quickchart\" onclick=\"quickchart('df-11b8a6d4-e5ec-44f3-8af5-eca9164c1ba9')\"\n",
              "              title=\"Suggest charts.\"\n",
              "              style=\"display:none;\">\n",
              "\n",
              "<svg xmlns=\"http://www.w3.org/2000/svg\" height=\"24px\"viewBox=\"0 0 24 24\"\n",
              "     width=\"24px\">\n",
              "    <g>\n",
              "        <path d=\"M19 3H5c-1.1 0-2 .9-2 2v14c0 1.1.9 2 2 2h14c1.1 0 2-.9 2-2V5c0-1.1-.9-2-2-2zM9 17H7v-7h2v7zm4 0h-2V7h2v10zm4 0h-2v-4h2v4z\"/>\n",
              "    </g>\n",
              "</svg>\n",
              "      </button>\n",
              "    </div>\n",
              "\n",
              "<style>\n",
              "  .colab-df-quickchart {\n",
              "    background-color: #E8F0FE;\n",
              "    border: none;\n",
              "    border-radius: 50%;\n",
              "    cursor: pointer;\n",
              "    display: none;\n",
              "    fill: #1967D2;\n",
              "    height: 32px;\n",
              "    padding: 0 0 0 0;\n",
              "    width: 32px;\n",
              "  }\n",
              "\n",
              "  .colab-df-quickchart:hover {\n",
              "    background-color: #E2EBFA;\n",
              "    box-shadow: 0px 1px 2px rgba(60, 64, 67, 0.3), 0px 1px 3px 1px rgba(60, 64, 67, 0.15);\n",
              "    fill: #174EA6;\n",
              "  }\n",
              "\n",
              "  [theme=dark] .colab-df-quickchart {\n",
              "    background-color: #3B4455;\n",
              "    fill: #D2E3FC;\n",
              "  }\n",
              "\n",
              "  [theme=dark] .colab-df-quickchart:hover {\n",
              "    background-color: #434B5C;\n",
              "    box-shadow: 0px 1px 3px 1px rgba(0, 0, 0, 0.15);\n",
              "    filter: drop-shadow(0px 1px 2px rgba(0, 0, 0, 0.3));\n",
              "    fill: #FFFFFF;\n",
              "  }\n",
              "</style>\n",
              "\n",
              "    <script>\n",
              "      async function quickchart(key) {\n",
              "        const containerElement = document.querySelector('#' + key);\n",
              "        const charts = await google.colab.kernel.invokeFunction(\n",
              "            'suggestCharts', [key], {});\n",
              "      }\n",
              "    </script>\n",
              "\n",
              "      <script>\n",
              "\n",
              "function displayQuickchartButton(domScope) {\n",
              "  let quickchartButtonEl =\n",
              "    domScope.querySelector('#df-11b8a6d4-e5ec-44f3-8af5-eca9164c1ba9 button.colab-df-quickchart');\n",
              "  quickchartButtonEl.style.display =\n",
              "    google.colab.kernel.accessAllowed ? 'block' : 'none';\n",
              "}\n",
              "\n",
              "        displayQuickchartButton(document);\n",
              "      </script>\n",
              "      <style>\n",
              "    .colab-df-container {\n",
              "      display:flex;\n",
              "      flex-wrap:wrap;\n",
              "      gap: 12px;\n",
              "    }\n",
              "\n",
              "    .colab-df-convert {\n",
              "      background-color: #E8F0FE;\n",
              "      border: none;\n",
              "      border-radius: 50%;\n",
              "      cursor: pointer;\n",
              "      display: none;\n",
              "      fill: #1967D2;\n",
              "      height: 32px;\n",
              "      padding: 0 0 0 0;\n",
              "      width: 32px;\n",
              "    }\n",
              "\n",
              "    .colab-df-convert:hover {\n",
              "      background-color: #E2EBFA;\n",
              "      box-shadow: 0px 1px 2px rgba(60, 64, 67, 0.3), 0px 1px 3px 1px rgba(60, 64, 67, 0.15);\n",
              "      fill: #174EA6;\n",
              "    }\n",
              "\n",
              "    [theme=dark] .colab-df-convert {\n",
              "      background-color: #3B4455;\n",
              "      fill: #D2E3FC;\n",
              "    }\n",
              "\n",
              "    [theme=dark] .colab-df-convert:hover {\n",
              "      background-color: #434B5C;\n",
              "      box-shadow: 0px 1px 3px 1px rgba(0, 0, 0, 0.15);\n",
              "      filter: drop-shadow(0px 1px 2px rgba(0, 0, 0, 0.3));\n",
              "      fill: #FFFFFF;\n",
              "    }\n",
              "  </style>\n",
              "\n",
              "      <script>\n",
              "        const buttonEl =\n",
              "          document.querySelector('#df-7d863e53-085f-41c4-b9c3-3592c54c01a6 button.colab-df-convert');\n",
              "        buttonEl.style.display =\n",
              "          google.colab.kernel.accessAllowed ? 'block' : 'none';\n",
              "\n",
              "        async function convertToInteractive(key) {\n",
              "          const element = document.querySelector('#df-7d863e53-085f-41c4-b9c3-3592c54c01a6');\n",
              "          const dataTable =\n",
              "            await google.colab.kernel.invokeFunction('convertToInteractive',\n",
              "                                                     [key], {});\n",
              "          if (!dataTable) return;\n",
              "\n",
              "          const docLinkHtml = 'Like what you see? Visit the ' +\n",
              "            '<a target=\"_blank\" href=https://colab.research.google.com/notebooks/data_table.ipynb>data table notebook</a>'\n",
              "            + ' to learn more about interactive tables.';\n",
              "          element.innerHTML = '';\n",
              "          dataTable['output_type'] = 'display_data';\n",
              "          await google.colab.output.renderOutput(dataTable, element);\n",
              "          const docLink = document.createElement('div');\n",
              "          docLink.innerHTML = docLinkHtml;\n",
              "          element.appendChild(docLink);\n",
              "        }\n",
              "      </script>\n",
              "    </div>\n",
              "  </div>\n"
            ]
          },
          "metadata": {},
          "execution_count": 294
        }
      ],
      "source": [
        "final.head()"
      ]
    },
    {
      "cell_type": "markdown",
      "source": [
        "Rename the column header"
      ],
      "metadata": {
        "id": "AasmPp2sd-WP"
      }
    },
    {
      "cell_type": "code",
      "execution_count": null,
      "metadata": {
        "id": "OmP2t2F2ZoAy"
      },
      "outputs": [],
      "source": [
        "final.rename(columns={0: \"converted\"}, inplace=True)\n"
      ]
    },
    {
      "cell_type": "code",
      "execution_count": null,
      "metadata": {
        "id": "wSyGeJLIZoAy",
        "outputId": "551aaa76-c342-470b-a7a1-461a0a2d0145",
        "colab": {
          "base_uri": "https://localhost:8080/",
          "height": 206
        }
      },
      "outputs": [
        {
          "output_type": "execute_result",
          "data": {
            "text/plain": [
              "   converted\n",
              "0          1\n",
              "1          0\n",
              "2          0\n",
              "3          0\n",
              "4          0"
            ],
            "text/html": [
              "\n",
              "\n",
              "  <div id=\"df-3d0bac7d-6bd2-4669-9461-c15bdd367c3c\">\n",
              "    <div class=\"colab-df-container\">\n",
              "      <div>\n",
              "<style scoped>\n",
              "    .dataframe tbody tr th:only-of-type {\n",
              "        vertical-align: middle;\n",
              "    }\n",
              "\n",
              "    .dataframe tbody tr th {\n",
              "        vertical-align: top;\n",
              "    }\n",
              "\n",
              "    .dataframe thead th {\n",
              "        text-align: right;\n",
              "    }\n",
              "</style>\n",
              "<table border=\"1\" class=\"dataframe\">\n",
              "  <thead>\n",
              "    <tr style=\"text-align: right;\">\n",
              "      <th></th>\n",
              "      <th>converted</th>\n",
              "    </tr>\n",
              "  </thead>\n",
              "  <tbody>\n",
              "    <tr>\n",
              "      <th>0</th>\n",
              "      <td>1</td>\n",
              "    </tr>\n",
              "    <tr>\n",
              "      <th>1</th>\n",
              "      <td>0</td>\n",
              "    </tr>\n",
              "    <tr>\n",
              "      <th>2</th>\n",
              "      <td>0</td>\n",
              "    </tr>\n",
              "    <tr>\n",
              "      <th>3</th>\n",
              "      <td>0</td>\n",
              "    </tr>\n",
              "    <tr>\n",
              "      <th>4</th>\n",
              "      <td>0</td>\n",
              "    </tr>\n",
              "  </tbody>\n",
              "</table>\n",
              "</div>\n",
              "      <button class=\"colab-df-convert\" onclick=\"convertToInteractive('df-3d0bac7d-6bd2-4669-9461-c15bdd367c3c')\"\n",
              "              title=\"Convert this dataframe to an interactive table.\"\n",
              "              style=\"display:none;\">\n",
              "\n",
              "  <svg xmlns=\"http://www.w3.org/2000/svg\" height=\"24px\"viewBox=\"0 0 24 24\"\n",
              "       width=\"24px\">\n",
              "    <path d=\"M0 0h24v24H0V0z\" fill=\"none\"/>\n",
              "    <path d=\"M18.56 5.44l.94 2.06.94-2.06 2.06-.94-2.06-.94-.94-2.06-.94 2.06-2.06.94zm-11 1L8.5 8.5l.94-2.06 2.06-.94-2.06-.94L8.5 2.5l-.94 2.06-2.06.94zm10 10l.94 2.06.94-2.06 2.06-.94-2.06-.94-.94-2.06-.94 2.06-2.06.94z\"/><path d=\"M17.41 7.96l-1.37-1.37c-.4-.4-.92-.59-1.43-.59-.52 0-1.04.2-1.43.59L10.3 9.45l-7.72 7.72c-.78.78-.78 2.05 0 2.83L4 21.41c.39.39.9.59 1.41.59.51 0 1.02-.2 1.41-.59l7.78-7.78 2.81-2.81c.8-.78.8-2.07 0-2.86zM5.41 20L4 18.59l7.72-7.72 1.47 1.35L5.41 20z\"/>\n",
              "  </svg>\n",
              "      </button>\n",
              "\n",
              "\n",
              "\n",
              "    <div id=\"df-fe126a25-3c3b-48cf-bd0f-15d8bfabc746\">\n",
              "      <button class=\"colab-df-quickchart\" onclick=\"quickchart('df-fe126a25-3c3b-48cf-bd0f-15d8bfabc746')\"\n",
              "              title=\"Suggest charts.\"\n",
              "              style=\"display:none;\">\n",
              "\n",
              "<svg xmlns=\"http://www.w3.org/2000/svg\" height=\"24px\"viewBox=\"0 0 24 24\"\n",
              "     width=\"24px\">\n",
              "    <g>\n",
              "        <path d=\"M19 3H5c-1.1 0-2 .9-2 2v14c0 1.1.9 2 2 2h14c1.1 0 2-.9 2-2V5c0-1.1-.9-2-2-2zM9 17H7v-7h2v7zm4 0h-2V7h2v10zm4 0h-2v-4h2v4z\"/>\n",
              "    </g>\n",
              "</svg>\n",
              "      </button>\n",
              "    </div>\n",
              "\n",
              "<style>\n",
              "  .colab-df-quickchart {\n",
              "    background-color: #E8F0FE;\n",
              "    border: none;\n",
              "    border-radius: 50%;\n",
              "    cursor: pointer;\n",
              "    display: none;\n",
              "    fill: #1967D2;\n",
              "    height: 32px;\n",
              "    padding: 0 0 0 0;\n",
              "    width: 32px;\n",
              "  }\n",
              "\n",
              "  .colab-df-quickchart:hover {\n",
              "    background-color: #E2EBFA;\n",
              "    box-shadow: 0px 1px 2px rgba(60, 64, 67, 0.3), 0px 1px 3px 1px rgba(60, 64, 67, 0.15);\n",
              "    fill: #174EA6;\n",
              "  }\n",
              "\n",
              "  [theme=dark] .colab-df-quickchart {\n",
              "    background-color: #3B4455;\n",
              "    fill: #D2E3FC;\n",
              "  }\n",
              "\n",
              "  [theme=dark] .colab-df-quickchart:hover {\n",
              "    background-color: #434B5C;\n",
              "    box-shadow: 0px 1px 3px 1px rgba(0, 0, 0, 0.15);\n",
              "    filter: drop-shadow(0px 1px 2px rgba(0, 0, 0, 0.3));\n",
              "    fill: #FFFFFF;\n",
              "  }\n",
              "</style>\n",
              "\n",
              "    <script>\n",
              "      async function quickchart(key) {\n",
              "        const containerElement = document.querySelector('#' + key);\n",
              "        const charts = await google.colab.kernel.invokeFunction(\n",
              "            'suggestCharts', [key], {});\n",
              "      }\n",
              "    </script>\n",
              "\n",
              "      <script>\n",
              "\n",
              "function displayQuickchartButton(domScope) {\n",
              "  let quickchartButtonEl =\n",
              "    domScope.querySelector('#df-fe126a25-3c3b-48cf-bd0f-15d8bfabc746 button.colab-df-quickchart');\n",
              "  quickchartButtonEl.style.display =\n",
              "    google.colab.kernel.accessAllowed ? 'block' : 'none';\n",
              "}\n",
              "\n",
              "        displayQuickchartButton(document);\n",
              "      </script>\n",
              "      <style>\n",
              "    .colab-df-container {\n",
              "      display:flex;\n",
              "      flex-wrap:wrap;\n",
              "      gap: 12px;\n",
              "    }\n",
              "\n",
              "    .colab-df-convert {\n",
              "      background-color: #E8F0FE;\n",
              "      border: none;\n",
              "      border-radius: 50%;\n",
              "      cursor: pointer;\n",
              "      display: none;\n",
              "      fill: #1967D2;\n",
              "      height: 32px;\n",
              "      padding: 0 0 0 0;\n",
              "      width: 32px;\n",
              "    }\n",
              "\n",
              "    .colab-df-convert:hover {\n",
              "      background-color: #E2EBFA;\n",
              "      box-shadow: 0px 1px 2px rgba(60, 64, 67, 0.3), 0px 1px 3px 1px rgba(60, 64, 67, 0.15);\n",
              "      fill: #174EA6;\n",
              "    }\n",
              "\n",
              "    [theme=dark] .colab-df-convert {\n",
              "      background-color: #3B4455;\n",
              "      fill: #D2E3FC;\n",
              "    }\n",
              "\n",
              "    [theme=dark] .colab-df-convert:hover {\n",
              "      background-color: #434B5C;\n",
              "      box-shadow: 0px 1px 3px 1px rgba(0, 0, 0, 0.15);\n",
              "      filter: drop-shadow(0px 1px 2px rgba(0, 0, 0, 0.3));\n",
              "      fill: #FFFFFF;\n",
              "    }\n",
              "  </style>\n",
              "\n",
              "      <script>\n",
              "        const buttonEl =\n",
              "          document.querySelector('#df-3d0bac7d-6bd2-4669-9461-c15bdd367c3c button.colab-df-convert');\n",
              "        buttonEl.style.display =\n",
              "          google.colab.kernel.accessAllowed ? 'block' : 'none';\n",
              "\n",
              "        async function convertToInteractive(key) {\n",
              "          const element = document.querySelector('#df-3d0bac7d-6bd2-4669-9461-c15bdd367c3c');\n",
              "          const dataTable =\n",
              "            await google.colab.kernel.invokeFunction('convertToInteractive',\n",
              "                                                     [key], {});\n",
              "          if (!dataTable) return;\n",
              "\n",
              "          const docLinkHtml = 'Like what you see? Visit the ' +\n",
              "            '<a target=\"_blank\" href=https://colab.research.google.com/notebooks/data_table.ipynb>data table notebook</a>'\n",
              "            + ' to learn more about interactive tables.';\n",
              "          element.innerHTML = '';\n",
              "          dataTable['output_type'] = 'display_data';\n",
              "          await google.colab.output.renderOutput(dataTable, element);\n",
              "          const docLink = document.createElement('div');\n",
              "          docLink.innerHTML = docLinkHtml;\n",
              "          element.appendChild(docLink);\n",
              "        }\n",
              "      </script>\n",
              "    </div>\n",
              "  </div>\n"
            ]
          },
          "metadata": {},
          "execution_count": 296
        }
      ],
      "source": [
        "final.head()"
      ]
    },
    {
      "cell_type": "code",
      "execution_count": null,
      "metadata": {
        "id": "mhJEp7usZoAy"
      },
      "outputs": [],
      "source": [
        "final.to_csv('conversion_data_test_predictions_Lionel_Simple.csv', index=False)"
      ]
    },
    {
      "cell_type": "markdown",
      "source": [
        "6.d) Predicion using Bagging Decision Tree"
      ],
      "metadata": {
        "id": "xenfm1GHeC3O"
      }
    },
    {
      "cell_type": "code",
      "execution_count": null,
      "metadata": {
        "id": "kSPVayVeeXyC"
      },
      "outputs": [],
      "source": [
        "real_result = gridsearch_bagging_tree.predict(real_test)"
      ]
    },
    {
      "cell_type": "code",
      "execution_count": null,
      "metadata": {
        "id": "-uSLj8OoeXyD"
      },
      "outputs": [],
      "source": [
        "# Transfer to pandas dataframe\n",
        "final = pd.DataFrame(real_result)"
      ]
    },
    {
      "cell_type": "code",
      "execution_count": null,
      "metadata": {
        "outputId": "b7e69f2c-32f8-47ee-dae4-b3a06cd6fb76",
        "colab": {
          "base_uri": "https://localhost:8080/",
          "height": 206
        },
        "id": "II4OFlXJeXyD"
      },
      "outputs": [
        {
          "output_type": "execute_result",
          "data": {
            "text/plain": [
              "   0\n",
              "0  1\n",
              "1  0\n",
              "2  0\n",
              "3  0\n",
              "4  0"
            ],
            "text/html": [
              "\n",
              "\n",
              "  <div id=\"df-2c3e06ec-0a39-4028-a694-b36ce22e0b55\">\n",
              "    <div class=\"colab-df-container\">\n",
              "      <div>\n",
              "<style scoped>\n",
              "    .dataframe tbody tr th:only-of-type {\n",
              "        vertical-align: middle;\n",
              "    }\n",
              "\n",
              "    .dataframe tbody tr th {\n",
              "        vertical-align: top;\n",
              "    }\n",
              "\n",
              "    .dataframe thead th {\n",
              "        text-align: right;\n",
              "    }\n",
              "</style>\n",
              "<table border=\"1\" class=\"dataframe\">\n",
              "  <thead>\n",
              "    <tr style=\"text-align: right;\">\n",
              "      <th></th>\n",
              "      <th>0</th>\n",
              "    </tr>\n",
              "  </thead>\n",
              "  <tbody>\n",
              "    <tr>\n",
              "      <th>0</th>\n",
              "      <td>1</td>\n",
              "    </tr>\n",
              "    <tr>\n",
              "      <th>1</th>\n",
              "      <td>0</td>\n",
              "    </tr>\n",
              "    <tr>\n",
              "      <th>2</th>\n",
              "      <td>0</td>\n",
              "    </tr>\n",
              "    <tr>\n",
              "      <th>3</th>\n",
              "      <td>0</td>\n",
              "    </tr>\n",
              "    <tr>\n",
              "      <th>4</th>\n",
              "      <td>0</td>\n",
              "    </tr>\n",
              "  </tbody>\n",
              "</table>\n",
              "</div>\n",
              "      <button class=\"colab-df-convert\" onclick=\"convertToInteractive('df-2c3e06ec-0a39-4028-a694-b36ce22e0b55')\"\n",
              "              title=\"Convert this dataframe to an interactive table.\"\n",
              "              style=\"display:none;\">\n",
              "\n",
              "  <svg xmlns=\"http://www.w3.org/2000/svg\" height=\"24px\"viewBox=\"0 0 24 24\"\n",
              "       width=\"24px\">\n",
              "    <path d=\"M0 0h24v24H0V0z\" fill=\"none\"/>\n",
              "    <path d=\"M18.56 5.44l.94 2.06.94-2.06 2.06-.94-2.06-.94-.94-2.06-.94 2.06-2.06.94zm-11 1L8.5 8.5l.94-2.06 2.06-.94-2.06-.94L8.5 2.5l-.94 2.06-2.06.94zm10 10l.94 2.06.94-2.06 2.06-.94-2.06-.94-.94-2.06-.94 2.06-2.06.94z\"/><path d=\"M17.41 7.96l-1.37-1.37c-.4-.4-.92-.59-1.43-.59-.52 0-1.04.2-1.43.59L10.3 9.45l-7.72 7.72c-.78.78-.78 2.05 0 2.83L4 21.41c.39.39.9.59 1.41.59.51 0 1.02-.2 1.41-.59l7.78-7.78 2.81-2.81c.8-.78.8-2.07 0-2.86zM5.41 20L4 18.59l7.72-7.72 1.47 1.35L5.41 20z\"/>\n",
              "  </svg>\n",
              "      </button>\n",
              "\n",
              "\n",
              "\n",
              "    <div id=\"df-807e51b7-61cd-436b-a186-946d11dc4629\">\n",
              "      <button class=\"colab-df-quickchart\" onclick=\"quickchart('df-807e51b7-61cd-436b-a186-946d11dc4629')\"\n",
              "              title=\"Suggest charts.\"\n",
              "              style=\"display:none;\">\n",
              "\n",
              "<svg xmlns=\"http://www.w3.org/2000/svg\" height=\"24px\"viewBox=\"0 0 24 24\"\n",
              "     width=\"24px\">\n",
              "    <g>\n",
              "        <path d=\"M19 3H5c-1.1 0-2 .9-2 2v14c0 1.1.9 2 2 2h14c1.1 0 2-.9 2-2V5c0-1.1-.9-2-2-2zM9 17H7v-7h2v7zm4 0h-2V7h2v10zm4 0h-2v-4h2v4z\"/>\n",
              "    </g>\n",
              "</svg>\n",
              "      </button>\n",
              "    </div>\n",
              "\n",
              "<style>\n",
              "  .colab-df-quickchart {\n",
              "    background-color: #E8F0FE;\n",
              "    border: none;\n",
              "    border-radius: 50%;\n",
              "    cursor: pointer;\n",
              "    display: none;\n",
              "    fill: #1967D2;\n",
              "    height: 32px;\n",
              "    padding: 0 0 0 0;\n",
              "    width: 32px;\n",
              "  }\n",
              "\n",
              "  .colab-df-quickchart:hover {\n",
              "    background-color: #E2EBFA;\n",
              "    box-shadow: 0px 1px 2px rgba(60, 64, 67, 0.3), 0px 1px 3px 1px rgba(60, 64, 67, 0.15);\n",
              "    fill: #174EA6;\n",
              "  }\n",
              "\n",
              "  [theme=dark] .colab-df-quickchart {\n",
              "    background-color: #3B4455;\n",
              "    fill: #D2E3FC;\n",
              "  }\n",
              "\n",
              "  [theme=dark] .colab-df-quickchart:hover {\n",
              "    background-color: #434B5C;\n",
              "    box-shadow: 0px 1px 3px 1px rgba(0, 0, 0, 0.15);\n",
              "    filter: drop-shadow(0px 1px 2px rgba(0, 0, 0, 0.3));\n",
              "    fill: #FFFFFF;\n",
              "  }\n",
              "</style>\n",
              "\n",
              "    <script>\n",
              "      async function quickchart(key) {\n",
              "        const containerElement = document.querySelector('#' + key);\n",
              "        const charts = await google.colab.kernel.invokeFunction(\n",
              "            'suggestCharts', [key], {});\n",
              "      }\n",
              "    </script>\n",
              "\n",
              "      <script>\n",
              "\n",
              "function displayQuickchartButton(domScope) {\n",
              "  let quickchartButtonEl =\n",
              "    domScope.querySelector('#df-807e51b7-61cd-436b-a186-946d11dc4629 button.colab-df-quickchart');\n",
              "  quickchartButtonEl.style.display =\n",
              "    google.colab.kernel.accessAllowed ? 'block' : 'none';\n",
              "}\n",
              "\n",
              "        displayQuickchartButton(document);\n",
              "      </script>\n",
              "      <style>\n",
              "    .colab-df-container {\n",
              "      display:flex;\n",
              "      flex-wrap:wrap;\n",
              "      gap: 12px;\n",
              "    }\n",
              "\n",
              "    .colab-df-convert {\n",
              "      background-color: #E8F0FE;\n",
              "      border: none;\n",
              "      border-radius: 50%;\n",
              "      cursor: pointer;\n",
              "      display: none;\n",
              "      fill: #1967D2;\n",
              "      height: 32px;\n",
              "      padding: 0 0 0 0;\n",
              "      width: 32px;\n",
              "    }\n",
              "\n",
              "    .colab-df-convert:hover {\n",
              "      background-color: #E2EBFA;\n",
              "      box-shadow: 0px 1px 2px rgba(60, 64, 67, 0.3), 0px 1px 3px 1px rgba(60, 64, 67, 0.15);\n",
              "      fill: #174EA6;\n",
              "    }\n",
              "\n",
              "    [theme=dark] .colab-df-convert {\n",
              "      background-color: #3B4455;\n",
              "      fill: #D2E3FC;\n",
              "    }\n",
              "\n",
              "    [theme=dark] .colab-df-convert:hover {\n",
              "      background-color: #434B5C;\n",
              "      box-shadow: 0px 1px 3px 1px rgba(0, 0, 0, 0.15);\n",
              "      filter: drop-shadow(0px 1px 2px rgba(0, 0, 0, 0.3));\n",
              "      fill: #FFFFFF;\n",
              "    }\n",
              "  </style>\n",
              "\n",
              "      <script>\n",
              "        const buttonEl =\n",
              "          document.querySelector('#df-2c3e06ec-0a39-4028-a694-b36ce22e0b55 button.colab-df-convert');\n",
              "        buttonEl.style.display =\n",
              "          google.colab.kernel.accessAllowed ? 'block' : 'none';\n",
              "\n",
              "        async function convertToInteractive(key) {\n",
              "          const element = document.querySelector('#df-2c3e06ec-0a39-4028-a694-b36ce22e0b55');\n",
              "          const dataTable =\n",
              "            await google.colab.kernel.invokeFunction('convertToInteractive',\n",
              "                                                     [key], {});\n",
              "          if (!dataTable) return;\n",
              "\n",
              "          const docLinkHtml = 'Like what you see? Visit the ' +\n",
              "            '<a target=\"_blank\" href=https://colab.research.google.com/notebooks/data_table.ipynb>data table notebook</a>'\n",
              "            + ' to learn more about interactive tables.';\n",
              "          element.innerHTML = '';\n",
              "          dataTable['output_type'] = 'display_data';\n",
              "          await google.colab.output.renderOutput(dataTable, element);\n",
              "          const docLink = document.createElement('div');\n",
              "          docLink.innerHTML = docLinkHtml;\n",
              "          element.appendChild(docLink);\n",
              "        }\n",
              "      </script>\n",
              "    </div>\n",
              "  </div>\n"
            ]
          },
          "metadata": {},
          "execution_count": 300
        }
      ],
      "source": [
        "final.head()"
      ]
    },
    {
      "cell_type": "code",
      "execution_count": null,
      "metadata": {
        "id": "JWaql8TueXyE"
      },
      "outputs": [],
      "source": [
        "final.rename(columns={0: \"converted\"}, inplace=True)\n"
      ]
    },
    {
      "cell_type": "code",
      "execution_count": null,
      "metadata": {
        "outputId": "8b08fdd5-4d70-4c49-cf9b-779d075edcec",
        "colab": {
          "base_uri": "https://localhost:8080/",
          "height": 206
        },
        "id": "UyYUyn4JeXyE"
      },
      "outputs": [
        {
          "output_type": "execute_result",
          "data": {
            "text/plain": [
              "   converted\n",
              "0          1\n",
              "1          0\n",
              "2          0\n",
              "3          0\n",
              "4          0"
            ],
            "text/html": [
              "\n",
              "\n",
              "  <div id=\"df-78600864-30b1-44ad-8952-9197730f8808\">\n",
              "    <div class=\"colab-df-container\">\n",
              "      <div>\n",
              "<style scoped>\n",
              "    .dataframe tbody tr th:only-of-type {\n",
              "        vertical-align: middle;\n",
              "    }\n",
              "\n",
              "    .dataframe tbody tr th {\n",
              "        vertical-align: top;\n",
              "    }\n",
              "\n",
              "    .dataframe thead th {\n",
              "        text-align: right;\n",
              "    }\n",
              "</style>\n",
              "<table border=\"1\" class=\"dataframe\">\n",
              "  <thead>\n",
              "    <tr style=\"text-align: right;\">\n",
              "      <th></th>\n",
              "      <th>converted</th>\n",
              "    </tr>\n",
              "  </thead>\n",
              "  <tbody>\n",
              "    <tr>\n",
              "      <th>0</th>\n",
              "      <td>1</td>\n",
              "    </tr>\n",
              "    <tr>\n",
              "      <th>1</th>\n",
              "      <td>0</td>\n",
              "    </tr>\n",
              "    <tr>\n",
              "      <th>2</th>\n",
              "      <td>0</td>\n",
              "    </tr>\n",
              "    <tr>\n",
              "      <th>3</th>\n",
              "      <td>0</td>\n",
              "    </tr>\n",
              "    <tr>\n",
              "      <th>4</th>\n",
              "      <td>0</td>\n",
              "    </tr>\n",
              "  </tbody>\n",
              "</table>\n",
              "</div>\n",
              "      <button class=\"colab-df-convert\" onclick=\"convertToInteractive('df-78600864-30b1-44ad-8952-9197730f8808')\"\n",
              "              title=\"Convert this dataframe to an interactive table.\"\n",
              "              style=\"display:none;\">\n",
              "\n",
              "  <svg xmlns=\"http://www.w3.org/2000/svg\" height=\"24px\"viewBox=\"0 0 24 24\"\n",
              "       width=\"24px\">\n",
              "    <path d=\"M0 0h24v24H0V0z\" fill=\"none\"/>\n",
              "    <path d=\"M18.56 5.44l.94 2.06.94-2.06 2.06-.94-2.06-.94-.94-2.06-.94 2.06-2.06.94zm-11 1L8.5 8.5l.94-2.06 2.06-.94-2.06-.94L8.5 2.5l-.94 2.06-2.06.94zm10 10l.94 2.06.94-2.06 2.06-.94-2.06-.94-.94-2.06-.94 2.06-2.06.94z\"/><path d=\"M17.41 7.96l-1.37-1.37c-.4-.4-.92-.59-1.43-.59-.52 0-1.04.2-1.43.59L10.3 9.45l-7.72 7.72c-.78.78-.78 2.05 0 2.83L4 21.41c.39.39.9.59 1.41.59.51 0 1.02-.2 1.41-.59l7.78-7.78 2.81-2.81c.8-.78.8-2.07 0-2.86zM5.41 20L4 18.59l7.72-7.72 1.47 1.35L5.41 20z\"/>\n",
              "  </svg>\n",
              "      </button>\n",
              "\n",
              "\n",
              "\n",
              "    <div id=\"df-a4e3d616-9cbf-4b79-8567-13aa68ceba70\">\n",
              "      <button class=\"colab-df-quickchart\" onclick=\"quickchart('df-a4e3d616-9cbf-4b79-8567-13aa68ceba70')\"\n",
              "              title=\"Suggest charts.\"\n",
              "              style=\"display:none;\">\n",
              "\n",
              "<svg xmlns=\"http://www.w3.org/2000/svg\" height=\"24px\"viewBox=\"0 0 24 24\"\n",
              "     width=\"24px\">\n",
              "    <g>\n",
              "        <path d=\"M19 3H5c-1.1 0-2 .9-2 2v14c0 1.1.9 2 2 2h14c1.1 0 2-.9 2-2V5c0-1.1-.9-2-2-2zM9 17H7v-7h2v7zm4 0h-2V7h2v10zm4 0h-2v-4h2v4z\"/>\n",
              "    </g>\n",
              "</svg>\n",
              "      </button>\n",
              "    </div>\n",
              "\n",
              "<style>\n",
              "  .colab-df-quickchart {\n",
              "    background-color: #E8F0FE;\n",
              "    border: none;\n",
              "    border-radius: 50%;\n",
              "    cursor: pointer;\n",
              "    display: none;\n",
              "    fill: #1967D2;\n",
              "    height: 32px;\n",
              "    padding: 0 0 0 0;\n",
              "    width: 32px;\n",
              "  }\n",
              "\n",
              "  .colab-df-quickchart:hover {\n",
              "    background-color: #E2EBFA;\n",
              "    box-shadow: 0px 1px 2px rgba(60, 64, 67, 0.3), 0px 1px 3px 1px rgba(60, 64, 67, 0.15);\n",
              "    fill: #174EA6;\n",
              "  }\n",
              "\n",
              "  [theme=dark] .colab-df-quickchart {\n",
              "    background-color: #3B4455;\n",
              "    fill: #D2E3FC;\n",
              "  }\n",
              "\n",
              "  [theme=dark] .colab-df-quickchart:hover {\n",
              "    background-color: #434B5C;\n",
              "    box-shadow: 0px 1px 3px 1px rgba(0, 0, 0, 0.15);\n",
              "    filter: drop-shadow(0px 1px 2px rgba(0, 0, 0, 0.3));\n",
              "    fill: #FFFFFF;\n",
              "  }\n",
              "</style>\n",
              "\n",
              "    <script>\n",
              "      async function quickchart(key) {\n",
              "        const containerElement = document.querySelector('#' + key);\n",
              "        const charts = await google.colab.kernel.invokeFunction(\n",
              "            'suggestCharts', [key], {});\n",
              "      }\n",
              "    </script>\n",
              "\n",
              "      <script>\n",
              "\n",
              "function displayQuickchartButton(domScope) {\n",
              "  let quickchartButtonEl =\n",
              "    domScope.querySelector('#df-a4e3d616-9cbf-4b79-8567-13aa68ceba70 button.colab-df-quickchart');\n",
              "  quickchartButtonEl.style.display =\n",
              "    google.colab.kernel.accessAllowed ? 'block' : 'none';\n",
              "}\n",
              "\n",
              "        displayQuickchartButton(document);\n",
              "      </script>\n",
              "      <style>\n",
              "    .colab-df-container {\n",
              "      display:flex;\n",
              "      flex-wrap:wrap;\n",
              "      gap: 12px;\n",
              "    }\n",
              "\n",
              "    .colab-df-convert {\n",
              "      background-color: #E8F0FE;\n",
              "      border: none;\n",
              "      border-radius: 50%;\n",
              "      cursor: pointer;\n",
              "      display: none;\n",
              "      fill: #1967D2;\n",
              "      height: 32px;\n",
              "      padding: 0 0 0 0;\n",
              "      width: 32px;\n",
              "    }\n",
              "\n",
              "    .colab-df-convert:hover {\n",
              "      background-color: #E2EBFA;\n",
              "      box-shadow: 0px 1px 2px rgba(60, 64, 67, 0.3), 0px 1px 3px 1px rgba(60, 64, 67, 0.15);\n",
              "      fill: #174EA6;\n",
              "    }\n",
              "\n",
              "    [theme=dark] .colab-df-convert {\n",
              "      background-color: #3B4455;\n",
              "      fill: #D2E3FC;\n",
              "    }\n",
              "\n",
              "    [theme=dark] .colab-df-convert:hover {\n",
              "      background-color: #434B5C;\n",
              "      box-shadow: 0px 1px 3px 1px rgba(0, 0, 0, 0.15);\n",
              "      filter: drop-shadow(0px 1px 2px rgba(0, 0, 0, 0.3));\n",
              "      fill: #FFFFFF;\n",
              "    }\n",
              "  </style>\n",
              "\n",
              "      <script>\n",
              "        const buttonEl =\n",
              "          document.querySelector('#df-78600864-30b1-44ad-8952-9197730f8808 button.colab-df-convert');\n",
              "        buttonEl.style.display =\n",
              "          google.colab.kernel.accessAllowed ? 'block' : 'none';\n",
              "\n",
              "        async function convertToInteractive(key) {\n",
              "          const element = document.querySelector('#df-78600864-30b1-44ad-8952-9197730f8808');\n",
              "          const dataTable =\n",
              "            await google.colab.kernel.invokeFunction('convertToInteractive',\n",
              "                                                     [key], {});\n",
              "          if (!dataTable) return;\n",
              "\n",
              "          const docLinkHtml = 'Like what you see? Visit the ' +\n",
              "            '<a target=\"_blank\" href=https://colab.research.google.com/notebooks/data_table.ipynb>data table notebook</a>'\n",
              "            + ' to learn more about interactive tables.';\n",
              "          element.innerHTML = '';\n",
              "          dataTable['output_type'] = 'display_data';\n",
              "          await google.colab.output.renderOutput(dataTable, element);\n",
              "          const docLink = document.createElement('div');\n",
              "          docLink.innerHTML = docLinkHtml;\n",
              "          element.appendChild(docLink);\n",
              "        }\n",
              "      </script>\n",
              "    </div>\n",
              "  </div>\n"
            ]
          },
          "metadata": {},
          "execution_count": 302
        }
      ],
      "source": [
        "final.head()"
      ]
    },
    {
      "cell_type": "code",
      "execution_count": null,
      "metadata": {
        "id": "Qc3YvCNIeXyE"
      },
      "outputs": [],
      "source": [
        "final.to_csv('conversion_data_test_predictions_Bagging_Tree_Lionel.csv', index=False)"
      ]
    },
    {
      "cell_type": "markdown",
      "metadata": {
        "id": "mjNlo9MhZoAz"
      },
      "source": [
        "##########"
      ]
    },
    {
      "cell_type": "markdown",
      "source": [
        "# Appendix"
      ],
      "metadata": {
        "id": "mcH3jPB2fdtv"
      }
    },
    {
      "cell_type": "code",
      "execution_count": null,
      "metadata": {
        "id": "peHPoWvgZoAl",
        "outputId": "ab2b1dd8-789d-4557-e204-59cac5b145e7"
      },
      "outputs": [
        {
          "name": "stdout",
          "output_type": "stream",
          "text": [
            "              precision    recall  f1-score   support\n",
            "\n",
            "           0       0.99      1.00      0.99    220156\n",
            "           1       0.86      0.69      0.76      7342\n",
            "\n",
            "    accuracy                           0.99    227498\n",
            "   macro avg       0.92      0.84      0.88    227498\n",
            "weighted avg       0.99      0.99      0.99    227498\n",
            "\n",
            "              precision    recall  f1-score   support\n",
            "\n",
            "           0       0.99      1.00      0.99     55040\n",
            "           1       0.85      0.66      0.74      1835\n",
            "\n",
            "    accuracy                           0.99     56875\n",
            "   macro avg       0.92      0.83      0.87     56875\n",
            "weighted avg       0.98      0.99      0.98     56875\n",
            "\n"
          ]
        }
      ],
      "source": [
        "from sklearn.metrics import classification_report\n",
        "\n",
        "\n",
        "print(classification_report(Y_train, Y_train_pred))\n",
        "print(classification_report(Y_test, Y_test_pred))"
      ]
    },
    {
      "cell_type": "markdown",
      "metadata": {
        "id": "xlAzDHMlZoA0"
      },
      "source": [
        "# The template"
      ]
    },
    {
      "cell_type": "markdown",
      "metadata": {
        "id": "BAQMBiG9Zn_2"
      },
      "source": [
        "<img src=\"data:image/png;base64,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\" alt=\"DSW LOGO\" />"
      ]
    },
    {
      "cell_type": "markdown",
      "metadata": {
        "id": "0eiKSLYG8XvO"
      },
      "source": [
        "# Challenge : predict conversions 🏆🏆\n",
        "\n",
        "This is the template that shows the different steps of the challenge. In this notebook, all the training/predictions steps are implemented for a very basic model (logistic regression with only one variable). Please use this template and feel free to change the preprocessing/training steps to get the model with the best f1-score ! May the force be with you 🧨🧨  \n",
        "\n",
        "**For a detailed description of this project, please refer to *02-Conversion_rate_challenge.ipynb*.**"
      ]
    },
    {
      "cell_type": "code",
      "execution_count": null,
      "metadata": {
        "id": "AGhdl7Bt2xZd"
      },
      "outputs": [],
      "source": [
        "import pandas as pd\n",
        "import numpy as np\n",
        "\n",
        "from sklearn.model_selection import train_test_split\n",
        "from sklearn.impute import SimpleImputer\n",
        "from sklearn.preprocessing import StandardScaler ,  OneHotEncoder, LabelEncoder\n",
        "from sklearn.compose import ColumnTransformer\n",
        "from sklearn.linear_model import LogisticRegression\n",
        "from sklearn.metrics import f1_score, confusion_matrix\n",
        "from sklearn.pipeline import Pipeline\n",
        "\n",
        "\n",
        "\n",
        "import matplotlib.pyplot as plt\n",
        "import plotly.express as px\n",
        "import plotly.graph_objects as go\n",
        "import plotly.io as pio\n",
        "# setting Jedha color palette as default\n",
        "pio.templates[\"jedha\"] = go.layout.Template(\n",
        "    layout_colorway=[\"#4B9AC7\", \"#4BE8E0\", \"#9DD4F3\", \"#97FBF6\", \"#2A7FAF\", \"#23B1AB\", \"#0E3449\", \"#015955\"]\n",
        ")\n",
        "pio.templates.default = \"jedha\"\n",
        "pio.renderers.default = \"svg\" # to be replaced by \"iframe\" if working on JULIE\n",
        "from IPython.display import display"
      ]
    },
    {
      "cell_type": "markdown",
      "metadata": {
        "id": "LHgro65rxKF7"
      },
      "source": [
        "# Read file with labels"
      ]
    },
    {
      "cell_type": "code",
      "execution_count": null,
      "metadata": {
        "colab": {
          "base_uri": "https://localhost:8080/"
        },
        "id": "W-R7DValZoAG",
        "outputId": "84db498b-2bac-4188-eeac-f612d5f46df2"
      },
      "outputs": [
        {
          "name": "stdout",
          "output_type": "stream",
          "text": [
            "Set with labels (our train+test) : (284580, 6)\n"
          ]
        }
      ],
      "source": [
        "data = pd.read_csv('conversion_data_train.csv')\n",
        "print('Set with labels (our train+test) :', data.shape)"
      ]
    },
    {
      "cell_type": "code",
      "execution_count": null,
      "metadata": {
        "colab": {
          "base_uri": "https://localhost:8080/",
          "height": 300
        },
        "id": "Gk_ZcSwZZoAI",
        "outputId": "1909a37a-7f09-4971-b54a-e9f8de45cfa5"
      },
      "outputs": [
        {
          "data": {
            "text/html": [
              "\n",
              "  <div id=\"df-42dc443f-0280-475e-96e1-a12fa72f4cb7\">\n",
              "    <div class=\"colab-df-container\">\n",
              "      <div>\n",
              "<style scoped>\n",
              "    .dataframe tbody tr th:only-of-type {\n",
              "        vertical-align: middle;\n",
              "    }\n",
              "\n",
              "    .dataframe tbody tr th {\n",
              "        vertical-align: top;\n",
              "    }\n",
              "\n",
              "    .dataframe thead th {\n",
              "        text-align: right;\n",
              "    }\n",
              "</style>\n",
              "<table border=\"1\" class=\"dataframe\">\n",
              "  <thead>\n",
              "    <tr style=\"text-align: right;\">\n",
              "      <th></th>\n",
              "      <th>age</th>\n",
              "      <th>new_user</th>\n",
              "      <th>total_pages_visited</th>\n",
              "      <th>converted</th>\n",
              "    </tr>\n",
              "  </thead>\n",
              "  <tbody>\n",
              "    <tr>\n",
              "      <th>count</th>\n",
              "      <td>284580.000000</td>\n",
              "      <td>284580.000000</td>\n",
              "      <td>284580.000000</td>\n",
              "      <td>284580.000000</td>\n",
              "    </tr>\n",
              "    <tr>\n",
              "      <th>mean</th>\n",
              "      <td>30.564203</td>\n",
              "      <td>0.685452</td>\n",
              "      <td>4.873252</td>\n",
              "      <td>0.032258</td>\n",
              "    </tr>\n",
              "    <tr>\n",
              "      <th>std</th>\n",
              "      <td>8.266789</td>\n",
              "      <td>0.464336</td>\n",
              "      <td>3.341995</td>\n",
              "      <td>0.176685</td>\n",
              "    </tr>\n",
              "    <tr>\n",
              "      <th>min</th>\n",
              "      <td>17.000000</td>\n",
              "      <td>0.000000</td>\n",
              "      <td>1.000000</td>\n",
              "      <td>0.000000</td>\n",
              "    </tr>\n",
              "    <tr>\n",
              "      <th>25%</th>\n",
              "      <td>24.000000</td>\n",
              "      <td>0.000000</td>\n",
              "      <td>2.000000</td>\n",
              "      <td>0.000000</td>\n",
              "    </tr>\n",
              "    <tr>\n",
              "      <th>50%</th>\n",
              "      <td>30.000000</td>\n",
              "      <td>1.000000</td>\n",
              "      <td>4.000000</td>\n",
              "      <td>0.000000</td>\n",
              "    </tr>\n",
              "    <tr>\n",
              "      <th>75%</th>\n",
              "      <td>36.000000</td>\n",
              "      <td>1.000000</td>\n",
              "      <td>7.000000</td>\n",
              "      <td>0.000000</td>\n",
              "    </tr>\n",
              "    <tr>\n",
              "      <th>max</th>\n",
              "      <td>123.000000</td>\n",
              "      <td>1.000000</td>\n",
              "      <td>29.000000</td>\n",
              "      <td>1.000000</td>\n",
              "    </tr>\n",
              "  </tbody>\n",
              "</table>\n",
              "</div>\n",
              "      <button class=\"colab-df-convert\" onclick=\"convertToInteractive('df-42dc443f-0280-475e-96e1-a12fa72f4cb7')\"\n",
              "              title=\"Convert this dataframe to an interactive table.\"\n",
              "              style=\"display:none;\">\n",
              "        \n",
              "  <svg xmlns=\"http://www.w3.org/2000/svg\" height=\"24px\"viewBox=\"0 0 24 24\"\n",
              "       width=\"24px\">\n",
              "    <path d=\"M0 0h24v24H0V0z\" fill=\"none\"/>\n",
              "    <path d=\"M18.56 5.44l.94 2.06.94-2.06 2.06-.94-2.06-.94-.94-2.06-.94 2.06-2.06.94zm-11 1L8.5 8.5l.94-2.06 2.06-.94-2.06-.94L8.5 2.5l-.94 2.06-2.06.94zm10 10l.94 2.06.94-2.06 2.06-.94-2.06-.94-.94-2.06-.94 2.06-2.06.94z\"/><path d=\"M17.41 7.96l-1.37-1.37c-.4-.4-.92-.59-1.43-.59-.52 0-1.04.2-1.43.59L10.3 9.45l-7.72 7.72c-.78.78-.78 2.05 0 2.83L4 21.41c.39.39.9.59 1.41.59.51 0 1.02-.2 1.41-.59l7.78-7.78 2.81-2.81c.8-.78.8-2.07 0-2.86zM5.41 20L4 18.59l7.72-7.72 1.47 1.35L5.41 20z\"/>\n",
              "  </svg>\n",
              "      </button>\n",
              "      \n",
              "  <style>\n",
              "    .colab-df-container {\n",
              "      display:flex;\n",
              "      flex-wrap:wrap;\n",
              "      gap: 12px;\n",
              "    }\n",
              "\n",
              "    .colab-df-convert {\n",
              "      background-color: #E8F0FE;\n",
              "      border: none;\n",
              "      border-radius: 50%;\n",
              "      cursor: pointer;\n",
              "      display: none;\n",
              "      fill: #1967D2;\n",
              "      height: 32px;\n",
              "      padding: 0 0 0 0;\n",
              "      width: 32px;\n",
              "    }\n",
              "\n",
              "    .colab-df-convert:hover {\n",
              "      background-color: #E2EBFA;\n",
              "      box-shadow: 0px 1px 2px rgba(60, 64, 67, 0.3), 0px 1px 3px 1px rgba(60, 64, 67, 0.15);\n",
              "      fill: #174EA6;\n",
              "    }\n",
              "\n",
              "    [theme=dark] .colab-df-convert {\n",
              "      background-color: #3B4455;\n",
              "      fill: #D2E3FC;\n",
              "    }\n",
              "\n",
              "    [theme=dark] .colab-df-convert:hover {\n",
              "      background-color: #434B5C;\n",
              "      box-shadow: 0px 1px 3px 1px rgba(0, 0, 0, 0.15);\n",
              "      filter: drop-shadow(0px 1px 2px rgba(0, 0, 0, 0.3));\n",
              "      fill: #FFFFFF;\n",
              "    }\n",
              "  </style>\n",
              "\n",
              "      <script>\n",
              "        const buttonEl =\n",
              "          document.querySelector('#df-42dc443f-0280-475e-96e1-a12fa72f4cb7 button.colab-df-convert');\n",
              "        buttonEl.style.display =\n",
              "          google.colab.kernel.accessAllowed ? 'block' : 'none';\n",
              "\n",
              "        async function convertToInteractive(key) {\n",
              "          const element = document.querySelector('#df-42dc443f-0280-475e-96e1-a12fa72f4cb7');\n",
              "          const dataTable =\n",
              "            await google.colab.kernel.invokeFunction('convertToInteractive',\n",
              "                                                     [key], {});\n",
              "          if (!dataTable) return;\n",
              "\n",
              "          const docLinkHtml = 'Like what you see? Visit the ' +\n",
              "            '<a target=\"_blank\" href=https://colab.research.google.com/notebooks/data_table.ipynb>data table notebook</a>'\n",
              "            + ' to learn more about interactive tables.';\n",
              "          element.innerHTML = '';\n",
              "          dataTable['output_type'] = 'display_data';\n",
              "          await google.colab.output.renderOutput(dataTable, element);\n",
              "          const docLink = document.createElement('div');\n",
              "          docLink.innerHTML = docLinkHtml;\n",
              "          element.appendChild(docLink);\n",
              "        }\n",
              "      </script>\n",
              "    </div>\n",
              "  </div>\n",
              "  "
            ],
            "text/plain": [
              "                 age       new_user  total_pages_visited      converted\n",
              "count  284580.000000  284580.000000        284580.000000  284580.000000\n",
              "mean       30.564203       0.685452             4.873252       0.032258\n",
              "std         8.266789       0.464336             3.341995       0.176685\n",
              "min        17.000000       0.000000             1.000000       0.000000\n",
              "25%        24.000000       0.000000             2.000000       0.000000\n",
              "50%        30.000000       1.000000             4.000000       0.000000\n",
              "75%        36.000000       1.000000             7.000000       0.000000\n",
              "max       123.000000       1.000000            29.000000       1.000000"
            ]
          },
          "execution_count": 3,
          "metadata": {},
          "output_type": "execute_result"
        }
      ],
      "source": [
        "data.describe()"
      ]
    },
    {
      "cell_type": "code",
      "execution_count": null,
      "metadata": {
        "colab": {
          "base_uri": "https://localhost:8080/",
          "height": 206
        },
        "id": "JaK-F8Z1ZoAI",
        "outputId": "08c1279e-67f6-4c3a-c152-76d060f29f86"
      },
      "outputs": [
        {
          "data": {
            "text/html": [
              "\n",
              "  <div id=\"df-a824322d-4eb2-45a1-b6a7-9f64d02f9d86\">\n",
              "    <div class=\"colab-df-container\">\n",
              "      <div>\n",
              "<style scoped>\n",
              "    .dataframe tbody tr th:only-of-type {\n",
              "        vertical-align: middle;\n",
              "    }\n",
              "\n",
              "    .dataframe tbody tr th {\n",
              "        vertical-align: top;\n",
              "    }\n",
              "\n",
              "    .dataframe thead th {\n",
              "        text-align: right;\n",
              "    }\n",
              "</style>\n",
              "<table border=\"1\" class=\"dataframe\">\n",
              "  <thead>\n",
              "    <tr style=\"text-align: right;\">\n",
              "      <th></th>\n",
              "      <th>country</th>\n",
              "      <th>age</th>\n",
              "      <th>new_user</th>\n",
              "      <th>source</th>\n",
              "      <th>total_pages_visited</th>\n",
              "      <th>converted</th>\n",
              "    </tr>\n",
              "  </thead>\n",
              "  <tbody>\n",
              "    <tr>\n",
              "      <th>0</th>\n",
              "      <td>China</td>\n",
              "      <td>22</td>\n",
              "      <td>1</td>\n",
              "      <td>Direct</td>\n",
              "      <td>2</td>\n",
              "      <td>0</td>\n",
              "    </tr>\n",
              "    <tr>\n",
              "      <th>1</th>\n",
              "      <td>UK</td>\n",
              "      <td>21</td>\n",
              "      <td>1</td>\n",
              "      <td>Ads</td>\n",
              "      <td>3</td>\n",
              "      <td>0</td>\n",
              "    </tr>\n",
              "    <tr>\n",
              "      <th>2</th>\n",
              "      <td>Germany</td>\n",
              "      <td>20</td>\n",
              "      <td>0</td>\n",
              "      <td>Seo</td>\n",
              "      <td>14</td>\n",
              "      <td>1</td>\n",
              "    </tr>\n",
              "    <tr>\n",
              "      <th>3</th>\n",
              "      <td>US</td>\n",
              "      <td>23</td>\n",
              "      <td>1</td>\n",
              "      <td>Seo</td>\n",
              "      <td>3</td>\n",
              "      <td>0</td>\n",
              "    </tr>\n",
              "    <tr>\n",
              "      <th>4</th>\n",
              "      <td>US</td>\n",
              "      <td>28</td>\n",
              "      <td>1</td>\n",
              "      <td>Direct</td>\n",
              "      <td>3</td>\n",
              "      <td>0</td>\n",
              "    </tr>\n",
              "  </tbody>\n",
              "</table>\n",
              "</div>\n",
              "      <button class=\"colab-df-convert\" onclick=\"convertToInteractive('df-a824322d-4eb2-45a1-b6a7-9f64d02f9d86')\"\n",
              "              title=\"Convert this dataframe to an interactive table.\"\n",
              "              style=\"display:none;\">\n",
              "        \n",
              "  <svg xmlns=\"http://www.w3.org/2000/svg\" height=\"24px\"viewBox=\"0 0 24 24\"\n",
              "       width=\"24px\">\n",
              "    <path d=\"M0 0h24v24H0V0z\" fill=\"none\"/>\n",
              "    <path d=\"M18.56 5.44l.94 2.06.94-2.06 2.06-.94-2.06-.94-.94-2.06-.94 2.06-2.06.94zm-11 1L8.5 8.5l.94-2.06 2.06-.94-2.06-.94L8.5 2.5l-.94 2.06-2.06.94zm10 10l.94 2.06.94-2.06 2.06-.94-2.06-.94-.94-2.06-.94 2.06-2.06.94z\"/><path d=\"M17.41 7.96l-1.37-1.37c-.4-.4-.92-.59-1.43-.59-.52 0-1.04.2-1.43.59L10.3 9.45l-7.72 7.72c-.78.78-.78 2.05 0 2.83L4 21.41c.39.39.9.59 1.41.59.51 0 1.02-.2 1.41-.59l7.78-7.78 2.81-2.81c.8-.78.8-2.07 0-2.86zM5.41 20L4 18.59l7.72-7.72 1.47 1.35L5.41 20z\"/>\n",
              "  </svg>\n",
              "      </button>\n",
              "      \n",
              "  <style>\n",
              "    .colab-df-container {\n",
              "      display:flex;\n",
              "      flex-wrap:wrap;\n",
              "      gap: 12px;\n",
              "    }\n",
              "\n",
              "    .colab-df-convert {\n",
              "      background-color: #E8F0FE;\n",
              "      border: none;\n",
              "      border-radius: 50%;\n",
              "      cursor: pointer;\n",
              "      display: none;\n",
              "      fill: #1967D2;\n",
              "      height: 32px;\n",
              "      padding: 0 0 0 0;\n",
              "      width: 32px;\n",
              "    }\n",
              "\n",
              "    .colab-df-convert:hover {\n",
              "      background-color: #E2EBFA;\n",
              "      box-shadow: 0px 1px 2px rgba(60, 64, 67, 0.3), 0px 1px 3px 1px rgba(60, 64, 67, 0.15);\n",
              "      fill: #174EA6;\n",
              "    }\n",
              "\n",
              "    [theme=dark] .colab-df-convert {\n",
              "      background-color: #3B4455;\n",
              "      fill: #D2E3FC;\n",
              "    }\n",
              "\n",
              "    [theme=dark] .colab-df-convert:hover {\n",
              "      background-color: #434B5C;\n",
              "      box-shadow: 0px 1px 3px 1px rgba(0, 0, 0, 0.15);\n",
              "      filter: drop-shadow(0px 1px 2px rgba(0, 0, 0, 0.3));\n",
              "      fill: #FFFFFF;\n",
              "    }\n",
              "  </style>\n",
              "\n",
              "      <script>\n",
              "        const buttonEl =\n",
              "          document.querySelector('#df-a824322d-4eb2-45a1-b6a7-9f64d02f9d86 button.colab-df-convert');\n",
              "        buttonEl.style.display =\n",
              "          google.colab.kernel.accessAllowed ? 'block' : 'none';\n",
              "\n",
              "        async function convertToInteractive(key) {\n",
              "          const element = document.querySelector('#df-a824322d-4eb2-45a1-b6a7-9f64d02f9d86');\n",
              "          const dataTable =\n",
              "            await google.colab.kernel.invokeFunction('convertToInteractive',\n",
              "                                                     [key], {});\n",
              "          if (!dataTable) return;\n",
              "\n",
              "          const docLinkHtml = 'Like what you see? Visit the ' +\n",
              "            '<a target=\"_blank\" href=https://colab.research.google.com/notebooks/data_table.ipynb>data table notebook</a>'\n",
              "            + ' to learn more about interactive tables.';\n",
              "          element.innerHTML = '';\n",
              "          dataTable['output_type'] = 'display_data';\n",
              "          await google.colab.output.renderOutput(dataTable, element);\n",
              "          const docLink = document.createElement('div');\n",
              "          docLink.innerHTML = docLinkHtml;\n",
              "          element.appendChild(docLink);\n",
              "        }\n",
              "      </script>\n",
              "    </div>\n",
              "  </div>\n",
              "  "
            ],
            "text/plain": [
              "   country  age  new_user  source  total_pages_visited  converted\n",
              "0    China   22         1  Direct                    2          0\n",
              "1       UK   21         1     Ads                    3          0\n",
              "2  Germany   20         0     Seo                   14          1\n",
              "3       US   23         1     Seo                    3          0\n",
              "4       US   28         1  Direct                    3          0"
            ]
          },
          "execution_count": 4,
          "metadata": {},
          "output_type": "execute_result"
        }
      ],
      "source": [
        "data.head()"
      ]
    },
    {
      "cell_type": "markdown",
      "metadata": {
        "id": "0XwjKBc63B1n"
      },
      "source": [
        "# Explore dataset"
      ]
    },
    {
      "cell_type": "code",
      "execution_count": null,
      "metadata": {
        "id": "NM0feCss5sLZ"
      },
      "outputs": [],
      "source": [
        "# The dataset is quite big : you must create a sample of the dataset before making any visualizations !\n",
        "data_sample = data.sample(10000)"
      ]
    },
    {
      "cell_type": "markdown",
      "metadata": {
        "id": "70MwsoCS3QD5"
      },
      "source": [
        "# Make your model"
      ]
    },
    {
      "cell_type": "markdown",
      "metadata": {
        "id": "dPh1qPTf3wZU"
      },
      "source": [
        "## Choose variables to use in the model, and create train and test sets\n",
        "**From the EDA, we know that the most useful feature is total_pages_visited. Let's create a baseline model by using at first only this feature : in the next cells, we'll make preprocessings and train a simple (univariate) logistic regression.**"
      ]
    },
    {
      "cell_type": "code",
      "execution_count": null,
      "metadata": {
        "id": "sjEHMGoY3kMB"
      },
      "outputs": [],
      "source": [
        "features_list = ['total_pages_visited']\n",
        "numeric_indices = [0]\n",
        "categorical_indices = []\n",
        "target_variable = 'converted'"
      ]
    },
    {
      "cell_type": "code",
      "execution_count": null,
      "metadata": {
        "colab": {
          "base_uri": "https://localhost:8080/",
          "height": 50
        },
        "id": "SV5E9KMs4xcq",
        "outputId": "9d1ed76e-e82e-45e7-f3e5-6d47962caa5a"
      },
      "outputs": [
        {
          "name": "stdout",
          "output_type": "stream",
          "text": [
            "Explanatory variables :  Index(['total_pages_visited'], dtype='object')\n",
            "\n"
          ]
        }
      ],
      "source": [
        "X = data.loc[:, features_list]\n",
        "Y = data.loc[:, target_variable]\n",
        "\n",
        "print('Explanatory variables : ', X.columns)\n",
        "print()"
      ]
    },
    {
      "cell_type": "code",
      "execution_count": null,
      "metadata": {
        "colab": {
          "base_uri": "https://localhost:8080/",
          "height": 67
        },
        "id": "W8K5DQEvvQgl",
        "outputId": "d280ebc9-4d4b-4723-b9fe-32513f898abc"
      },
      "outputs": [
        {
          "name": "stdout",
          "output_type": "stream",
          "text": [
            "Dividing into train and test sets...\n",
            "...Done.\n",
            "\n"
          ]
        }
      ],
      "source": [
        "# Divide dataset Train set & Test set\n",
        "print(\"Dividing into train and test sets...\")\n",
        "X_train, X_test, Y_train, Y_test = train_test_split(X, Y, test_size=0.1, random_state=0)\n",
        "print(\"...Done.\")\n",
        "print()"
      ]
    },
    {
      "cell_type": "markdown",
      "metadata": {
        "id": "7b_aU7ij7K3Q"
      },
      "source": [
        "## Training pipeline"
      ]
    },
    {
      "cell_type": "code",
      "execution_count": null,
      "metadata": {
        "colab": {
          "base_uri": "https://localhost:8080/",
          "height": 235
        },
        "id": "_9bEZ5bn7I5Z",
        "outputId": "ad5c8f97-2d25-4827-f1ee-43c665a97fa0"
      },
      "outputs": [
        {
          "name": "stdout",
          "output_type": "stream",
          "text": [
            "Encoding categorical features and standardizing numerical features...\n",
            "...Done\n",
            "[[-0.26070136]\n",
            " [ 0.93728655]\n",
            " [-0.85969532]\n",
            " [-0.56019834]\n",
            " [-0.26070136]]\n"
          ]
        }
      ],
      "source": [
        "# Put here all the preprocessings\n",
        "print(\"Encoding categorical features and standardizing numerical features...\")\n",
        "\n",
        "featureencoder = StandardScaler()\n",
        "X_train = featureencoder.fit_transform(X_train)\n",
        "print(\"...Done\")\n",
        "print(X_train[0:5,:])"
      ]
    },
    {
      "cell_type": "code",
      "execution_count": null,
      "metadata": {
        "colab": {
          "base_uri": "https://localhost:8080/",
          "height": 104
        },
        "id": "1qhidLbq7o-5",
        "outputId": "6bfb746c-1ff4-41c9-b0d6-a98fd09a444d"
      },
      "outputs": [
        {
          "name": "stdout",
          "output_type": "stream",
          "text": [
            "Train model...\n"
          ]
        },
        {
          "name": "stdout",
          "output_type": "stream",
          "text": [
            "...Done.\n"
          ]
        }
      ],
      "source": [
        "# Train model\n",
        "print(\"Train model...\")\n",
        "classifier = LogisticRegression() #\n",
        "classifier.fit(X_train, Y_train)\n",
        "print(\"...Done.\")"
      ]
    },
    {
      "cell_type": "code",
      "execution_count": null,
      "metadata": {
        "colab": {
          "base_uri": "https://localhost:8080/",
          "height": 84
        },
        "id": "Au2TK_vw7rD-",
        "outputId": "702789a8-4631-4c29-f297-e4b2901f3195"
      },
      "outputs": [
        {
          "name": "stdout",
          "output_type": "stream",
          "text": [
            "Predictions on training set...\n",
            "...Done.\n",
            "[0 0 0 ... 0 0 0]\n",
            "\n"
          ]
        }
      ],
      "source": [
        "# Predictions on training set\n",
        "print(\"Predictions on training set...\")\n",
        "Y_train_pred = classifier.predict(X_train)\n",
        "print(\"...Done.\")\n",
        "print(Y_train_pred)\n",
        "print()"
      ]
    },
    {
      "cell_type": "markdown",
      "metadata": {
        "id": "7TY_v9uH_CE7"
      },
      "source": [
        "## Test pipeline"
      ]
    },
    {
      "cell_type": "code",
      "execution_count": null,
      "metadata": {
        "colab": {
          "base_uri": "https://localhost:8080/",
          "height": 134
        },
        "id": "ngOSdG6-_Cvb",
        "outputId": "1e19e8ee-222f-413b-9bc0-e9f41dcca1c0"
      },
      "outputs": [
        {
          "name": "stdout",
          "output_type": "stream",
          "text": [
            "Encoding categorical features and standardizing numerical features...\n",
            "...Done\n",
            "[[ 0.63778957]\n",
            " [ 0.03879562]\n",
            " [-0.26070136]\n",
            " [-0.26070136]\n",
            " [ 0.63778957]]\n"
          ]
        }
      ],
      "source": [
        "# Use X_test, and the same preprocessings as in training pipeline,\n",
        "# but call \"transform()\" instead of \"fit_transform\" methods (see example below)\n",
        "\n",
        "print(\"Encoding categorical features and standardizing numerical features...\")\n",
        "\n",
        "X_test = featureencoder.transform(X_test)\n",
        "print(\"...Done\")\n",
        "print(X_test[0:5,:])"
      ]
    },
    {
      "cell_type": "code",
      "execution_count": null,
      "metadata": {
        "colab": {
          "base_uri": "https://localhost:8080/",
          "height": 84
        },
        "id": "QS1XrzzE_jQI",
        "outputId": "866a96d2-4180-4bd1-ce54-ba052e75d485"
      },
      "outputs": [
        {
          "name": "stdout",
          "output_type": "stream",
          "text": [
            "Predictions on test set...\n",
            "...Done.\n",
            "[0 0 0 ... 0 0 0]\n",
            "\n"
          ]
        }
      ],
      "source": [
        "# Predictions on test set\n",
        "print(\"Predictions on test set...\")\n",
        "Y_test_pred = classifier.predict(X_test)\n",
        "print(\"...Done.\")\n",
        "print(Y_test_pred)\n",
        "print()"
      ]
    },
    {
      "cell_type": "markdown",
      "metadata": {
        "id": "zxJCTlz0_2it"
      },
      "source": [
        "## Performance assessment"
      ]
    },
    {
      "cell_type": "code",
      "execution_count": null,
      "metadata": {
        "colab": {
          "base_uri": "https://localhost:8080/",
          "height": 50
        },
        "id": "6x7p1nyr_3UV",
        "outputId": "8e5b91ba-ca06-4486-d808-37a6aaaa8cf7"
      },
      "outputs": [
        {
          "name": "stdout",
          "output_type": "stream",
          "text": [
            "f1-score on train set :  0.6938517686692869\n",
            "f1-score on test set :  0.7060240963855423\n"
          ]
        }
      ],
      "source": [
        "# WARNING : Use the same score as the one that will be used by Kaggle !\n",
        "# Here, the f1-score will be used to assess the performances on the leaderboard\n",
        "print(\"f1-score on train set : \", f1_score(Y_train, Y_train_pred))\n",
        "print(\"f1-score on test set : \", f1_score(Y_test, Y_test_pred))"
      ]
    },
    {
      "cell_type": "code",
      "execution_count": null,
      "metadata": {
        "colab": {
          "base_uri": "https://localhost:8080/",
          "height": 151
        },
        "id": "KhDTCeBy__JK",
        "outputId": "72c82d66-d765-437e-e9ef-4ccc80e7183f"
      },
      "outputs": [
        {
          "name": "stdout",
          "output_type": "stream",
          "text": [
            "Confusion matrix on train set : \n",
            "[[246817   1082]\n",
            " [  3280   4943]]\n",
            "\n",
            "Confusion matrix on test set : \n",
            "[[27384   117]\n",
            " [  371   586]]\n",
            "\n"
          ]
        }
      ],
      "source": [
        "# You can also check more performance metrics to better understand what your model is doing\n",
        "print(\"Confusion matrix on train set : \")\n",
        "print(confusion_matrix(Y_train, Y_train_pred))\n",
        "print()\n",
        "print(\"Confusion matrix on test set : \")\n",
        "print(confusion_matrix(Y_test, Y_test_pred))\n",
        "print()"
      ]
    },
    {
      "cell_type": "markdown",
      "metadata": {
        "id": "tlc8ssNkZoAO"
      },
      "source": [
        "**Our baseline model reaches a f1-score of almost 70%. Now, feel free to refine your model and try to beat this score ! 🚀🚀**"
      ]
    },
    {
      "cell_type": "markdown",
      "metadata": {
        "id": "6tVVDRABv91O"
      },
      "source": [
        "# Train best classifier on all data and use it to make predictions on X_without_labels\n",
        "**Before making predictions on the file conversion_data_test.csv, let's train our model on ALL the data that was in conversion_data_train.csv. Sometimes, this allows to make tiny improvements in the score because we're using more examples to train the model.**"
      ]
    },
    {
      "cell_type": "code",
      "execution_count": null,
      "metadata": {
        "colab": {
          "base_uri": "https://localhost:8080/",
          "height": 154
        },
        "id": "M14RHUadzE2p",
        "outputId": "abcfcfec-9461-4579-adbd-f23270f984eb"
      },
      "outputs": [
        {
          "data": {
            "text/plain": [
              "LogisticRegression()"
            ]
          },
          "execution_count": 54,
          "metadata": {},
          "output_type": "execute_result"
        }
      ],
      "source": [
        "# Concatenate our train and test set to train your best classifier on all data with labels\n",
        "X = np.append(X_train,X_test,axis=0)\n",
        "Y = np.append(Y_train,Y_test)\n",
        "\n",
        "classifier.fit(X,Y)"
      ]
    },
    {
      "cell_type": "code",
      "execution_count": null,
      "metadata": {
        "colab": {
          "base_uri": "https://localhost:8080/",
          "height": 151
        },
        "id": "Tr4CEaPzzbP-",
        "outputId": "f0d1c8ed-be4b-4974-d7b9-f23a49344d9d"
      },
      "outputs": [
        {
          "name": "stdout",
          "output_type": "stream",
          "text": [
            "Prediction set (without labels) : (31620, 5)\n",
            "Convert pandas DataFrames to numpy arrays...\n",
            "...Done\n",
            "[[16]\n",
            " [ 5]\n",
            " [ 1]\n",
            " [ 6]\n",
            " [ 3]]\n"
          ]
        }
      ],
      "source": [
        "# Read data without labels\n",
        "data_without_labels = pd.read_csv('conversion_data_test.csv')\n",
        "print('Prediction set (without labels) :', data_without_labels.shape)\n",
        "\n",
        "# Warning : check consistency of features_list (must be the same than the features\n",
        "# used by your best classifier)\n",
        "features_list = ['total_pages_visited']\n",
        "X_without_labels = data_without_labels.loc[:, features_list]\n",
        "\n",
        "# Convert pandas DataFrames to numpy arrays before using scikit-learn\n",
        "print(\"Convert pandas DataFrames to numpy arrays...\")\n",
        "X_without_labels = X_without_labels.values\n",
        "print(\"...Done\")\n",
        "\n",
        "print(X_without_labels[0:5,:])"
      ]
    },
    {
      "cell_type": "code",
      "execution_count": null,
      "metadata": {
        "colab": {
          "base_uri": "https://localhost:8080/",
          "height": 134
        },
        "id": "LoUISfsT0HMR",
        "outputId": "e42dc389-5e77-4e13-ccbc-1fef4aa2c0ca"
      },
      "outputs": [
        {
          "name": "stdout",
          "output_type": "stream",
          "text": [
            "Encoding categorical features and standardizing numerical features...\n",
            "...Done\n",
            "[[ 3.33326238]\n",
            " [ 0.03879562]\n",
            " [-1.15919229]\n",
            " [ 0.3382926 ]\n",
            " [-0.56019834]]\n"
          ]
        }
      ],
      "source": [
        "# WARNING : PUT HERE THE SAME PREPROCESSING AS FOR YOUR TEST SET\n",
        "# CHECK YOU ARE USING X_without_labels\n",
        "print(\"Encoding categorical features and standardizing numerical features...\")\n",
        "\n",
        "X_without_labels = featureencoder.transform(X_without_labels)\n",
        "print(\"...Done\")\n",
        "print(X_without_labels[0:5,:])"
      ]
    },
    {
      "cell_type": "code",
      "execution_count": null,
      "metadata": {
        "id": "7DuWSEHuwEQJ"
      },
      "outputs": [],
      "source": [
        "# Make predictions and dump to file\n",
        "# WARNING : MAKE SURE THE FILE IS A CSV WITH ONE COLUMN NAMED 'converted' AND NO INDEX !\n",
        "# WARNING : FILE NAME MUST HAVE FORMAT 'conversion_data_test_predictions_[name].csv'\n",
        "# where [name] is the name of your team/model separated by a '-'\n",
        "# For example : [name] = AURELIE-model1\n",
        "data = {\n",
        "    'converted': classifier.predict(X_without_labels)\n",
        "}\n",
        "\n",
        "Y_predictions = pd.DataFrame(columns=['converted'],data=data)\n",
        "Y_predictions.to_csv('conversion_data_test_predictions_EXAMPLE.csv', index=False)\n"
      ]
    },
    {
      "cell_type": "code",
      "execution_count": null,
      "metadata": {
        "id": "oBzrzIqoZoAQ"
      },
      "outputs": [],
      "source": []
    },
    {
      "cell_type": "markdown",
      "metadata": {
        "id": "cGw1F67jZoAQ"
      },
      "source": [
        "## Analyzing the coefficients and interpreting the result\n",
        "**In this template, we just trained a model with only one feature (total_pages_visited), so there's no analysis to be done about the feature importance 🤔**\n",
        "\n",
        "**Once you've included more features in your model, please take some time to analyze the model's parameters and try to find some lever for action to improve the newsletter's conversion rate 😎😎**"
      ]
    },
    {
      "cell_type": "code",
      "execution_count": null,
      "metadata": {
        "id": "pBDjULqwZoAQ",
        "outputId": "51e505a7-1dc6-4d2f-8b31-3ae835087c64"
      },
      "outputs": [
        {
          "data": {
            "text/plain": [
              "country                0.0\n",
              "age                    0.0\n",
              "new_user               0.0\n",
              "source                 0.0\n",
              "total_pages_visited    0.0\n",
              "converted              0.0\n",
              "dtype: float64"
            ]
          },
          "metadata": {},
          "output_type": "display_data"
        }
      ],
      "source": [
        "display(100*data.isnull().sum()/data.shape[0])\n",
        "#display(100*dataset.isnull().sum()/dataset.shape[0])\n"
      ]
    },
    {
      "cell_type": "code",
      "execution_count": null,
      "metadata": {
        "id": "ItO8WXDUZoAQ",
        "outputId": "a2c24794-3b4e-492d-8d61-bf2dfe521158"
      },
      "outputs": [
        {
          "data": {
            "text/html": [
              "<div>\n",
              "<style scoped>\n",
              "    .dataframe tbody tr th:only-of-type {\n",
              "        vertical-align: middle;\n",
              "    }\n",
              "\n",
              "    .dataframe tbody tr th {\n",
              "        vertical-align: top;\n",
              "    }\n",
              "\n",
              "    .dataframe thead th {\n",
              "        text-align: right;\n",
              "    }\n",
              "</style>\n",
              "<table border=\"1\" class=\"dataframe\">\n",
              "  <thead>\n",
              "    <tr style=\"text-align: right;\">\n",
              "      <th></th>\n",
              "      <th>country</th>\n",
              "      <th>age</th>\n",
              "      <th>new_user</th>\n",
              "      <th>source</th>\n",
              "      <th>total_pages_visited</th>\n",
              "      <th>converted</th>\n",
              "    </tr>\n",
              "  </thead>\n",
              "  <tbody>\n",
              "    <tr>\n",
              "      <th>count</th>\n",
              "      <td>284580</td>\n",
              "      <td>284580.000000</td>\n",
              "      <td>284580.000000</td>\n",
              "      <td>284580</td>\n",
              "      <td>284580.000000</td>\n",
              "      <td>284580.000000</td>\n",
              "    </tr>\n",
              "    <tr>\n",
              "      <th>unique</th>\n",
              "      <td>4</td>\n",
              "      <td>NaN</td>\n",
              "      <td>NaN</td>\n",
              "      <td>3</td>\n",
              "      <td>NaN</td>\n",
              "      <td>NaN</td>\n",
              "    </tr>\n",
              "    <tr>\n",
              "      <th>top</th>\n",
              "      <td>US</td>\n",
              "      <td>NaN</td>\n",
              "      <td>NaN</td>\n",
              "      <td>Seo</td>\n",
              "      <td>NaN</td>\n",
              "      <td>NaN</td>\n",
              "    </tr>\n",
              "    <tr>\n",
              "      <th>freq</th>\n",
              "      <td>160124</td>\n",
              "      <td>NaN</td>\n",
              "      <td>NaN</td>\n",
              "      <td>139477</td>\n",
              "      <td>NaN</td>\n",
              "      <td>NaN</td>\n",
              "    </tr>\n",
              "    <tr>\n",
              "      <th>mean</th>\n",
              "      <td>NaN</td>\n",
              "      <td>30.564203</td>\n",
              "      <td>0.685452</td>\n",
              "      <td>NaN</td>\n",
              "      <td>4.873252</td>\n",
              "      <td>0.032258</td>\n",
              "    </tr>\n",
              "    <tr>\n",
              "      <th>std</th>\n",
              "      <td>NaN</td>\n",
              "      <td>8.266789</td>\n",
              "      <td>0.464336</td>\n",
              "      <td>NaN</td>\n",
              "      <td>3.341995</td>\n",
              "      <td>0.176685</td>\n",
              "    </tr>\n",
              "    <tr>\n",
              "      <th>min</th>\n",
              "      <td>NaN</td>\n",
              "      <td>17.000000</td>\n",
              "      <td>0.000000</td>\n",
              "      <td>NaN</td>\n",
              "      <td>1.000000</td>\n",
              "      <td>0.000000</td>\n",
              "    </tr>\n",
              "    <tr>\n",
              "      <th>25%</th>\n",
              "      <td>NaN</td>\n",
              "      <td>24.000000</td>\n",
              "      <td>0.000000</td>\n",
              "      <td>NaN</td>\n",
              "      <td>2.000000</td>\n",
              "      <td>0.000000</td>\n",
              "    </tr>\n",
              "    <tr>\n",
              "      <th>50%</th>\n",
              "      <td>NaN</td>\n",
              "      <td>30.000000</td>\n",
              "      <td>1.000000</td>\n",
              "      <td>NaN</td>\n",
              "      <td>4.000000</td>\n",
              "      <td>0.000000</td>\n",
              "    </tr>\n",
              "    <tr>\n",
              "      <th>75%</th>\n",
              "      <td>NaN</td>\n",
              "      <td>36.000000</td>\n",
              "      <td>1.000000</td>\n",
              "      <td>NaN</td>\n",
              "      <td>7.000000</td>\n",
              "      <td>0.000000</td>\n",
              "    </tr>\n",
              "    <tr>\n",
              "      <th>max</th>\n",
              "      <td>NaN</td>\n",
              "      <td>123.000000</td>\n",
              "      <td>1.000000</td>\n",
              "      <td>NaN</td>\n",
              "      <td>29.000000</td>\n",
              "      <td>1.000000</td>\n",
              "    </tr>\n",
              "  </tbody>\n",
              "</table>\n",
              "</div>"
            ],
            "text/plain": [
              "       country            age       new_user  source  total_pages_visited  \\\n",
              "count   284580  284580.000000  284580.000000  284580        284580.000000   \n",
              "unique       4            NaN            NaN       3                  NaN   \n",
              "top         US            NaN            NaN     Seo                  NaN   \n",
              "freq    160124            NaN            NaN  139477                  NaN   \n",
              "mean       NaN      30.564203       0.685452     NaN             4.873252   \n",
              "std        NaN       8.266789       0.464336     NaN             3.341995   \n",
              "min        NaN      17.000000       0.000000     NaN             1.000000   \n",
              "25%        NaN      24.000000       0.000000     NaN             2.000000   \n",
              "50%        NaN      30.000000       1.000000     NaN             4.000000   \n",
              "75%        NaN      36.000000       1.000000     NaN             7.000000   \n",
              "max        NaN     123.000000       1.000000     NaN            29.000000   \n",
              "\n",
              "            converted  \n",
              "count   284580.000000  \n",
              "unique            NaN  \n",
              "top               NaN  \n",
              "freq              NaN  \n",
              "mean         0.032258  \n",
              "std          0.176685  \n",
              "min          0.000000  \n",
              "25%          0.000000  \n",
              "50%          0.000000  \n",
              "75%          0.000000  \n",
              "max          1.000000  "
            ]
          },
          "execution_count": 5,
          "metadata": {},
          "output_type": "execute_result"
        }
      ],
      "source": [
        "data.describe(include='all')"
      ]
    },
    {
      "cell_type": "code",
      "execution_count": null,
      "metadata": {
        "id": "rwHN37geZoAQ",
        "outputId": "1454b027-1007-40d4-e52f-c6ecdd397d0c"
      },
      "outputs": [
        {
          "data": {
            "text/plain": [
              "30.0"
            ]
          },
          "execution_count": 28,
          "metadata": {},
          "output_type": "execute_result"
        }
      ],
      "source": [
        "df['age'].val"
      ]
    },
    {
      "cell_type": "code",
      "execution_count": null,
      "metadata": {
        "id": "ulZstDs8ZoAR"
      },
      "outputs": [],
      "source": [
        "df = data"
      ]
    },
    {
      "cell_type": "code",
      "execution_count": null,
      "metadata": {
        "id": "mSMD5X4HZoAR"
      },
      "outputs": [],
      "source": [
        "mask = df['age'] <= 60\n",
        "df = df.loc[mask,:]"
      ]
    },
    {
      "cell_type": "code",
      "execution_count": null,
      "metadata": {
        "id": "kHjApeZSZoAR",
        "outputId": "8ab8ac4a-d1db-4042-a06f-1fdc9e7dfa18"
      },
      "outputs": [
        {
          "data": {
            "text/html": [
              "<div>\n",
              "<style scoped>\n",
              "    .dataframe tbody tr th:only-of-type {\n",
              "        vertical-align: middle;\n",
              "    }\n",
              "\n",
              "    .dataframe tbody tr th {\n",
              "        vertical-align: top;\n",
              "    }\n",
              "\n",
              "    .dataframe thead th {\n",
              "        text-align: right;\n",
              "    }\n",
              "</style>\n",
              "<table border=\"1\" class=\"dataframe\">\n",
              "  <thead>\n",
              "    <tr style=\"text-align: right;\">\n",
              "      <th></th>\n",
              "      <th>country</th>\n",
              "      <th>age</th>\n",
              "      <th>new_user</th>\n",
              "      <th>source</th>\n",
              "      <th>total_pages_visited</th>\n",
              "      <th>converted</th>\n",
              "    </tr>\n",
              "  </thead>\n",
              "  <tbody>\n",
              "    <tr>\n",
              "      <th>0</th>\n",
              "      <td>China</td>\n",
              "      <td>22</td>\n",
              "      <td>1</td>\n",
              "      <td>Direct</td>\n",
              "      <td>2</td>\n",
              "      <td>0</td>\n",
              "    </tr>\n",
              "    <tr>\n",
              "      <th>1</th>\n",
              "      <td>UK</td>\n",
              "      <td>21</td>\n",
              "      <td>1</td>\n",
              "      <td>Ads</td>\n",
              "      <td>3</td>\n",
              "      <td>0</td>\n",
              "    </tr>\n",
              "    <tr>\n",
              "      <th>2</th>\n",
              "      <td>Germany</td>\n",
              "      <td>20</td>\n",
              "      <td>0</td>\n",
              "      <td>Seo</td>\n",
              "      <td>14</td>\n",
              "      <td>1</td>\n",
              "    </tr>\n",
              "    <tr>\n",
              "      <th>3</th>\n",
              "      <td>US</td>\n",
              "      <td>23</td>\n",
              "      <td>1</td>\n",
              "      <td>Seo</td>\n",
              "      <td>3</td>\n",
              "      <td>0</td>\n",
              "    </tr>\n",
              "    <tr>\n",
              "      <th>4</th>\n",
              "      <td>US</td>\n",
              "      <td>28</td>\n",
              "      <td>1</td>\n",
              "      <td>Direct</td>\n",
              "      <td>3</td>\n",
              "      <td>0</td>\n",
              "    </tr>\n",
              "  </tbody>\n",
              "</table>\n",
              "</div>"
            ],
            "text/plain": [
              "   country  age  new_user  source  total_pages_visited  converted\n",
              "0    China   22         1  Direct                    2          0\n",
              "1       UK   21         1     Ads                    3          0\n",
              "2  Germany   20         0     Seo                   14          1\n",
              "3       US   23         1     Seo                    3          0\n",
              "4       US   28         1  Direct                    3          0"
            ]
          },
          "execution_count": 46,
          "metadata": {},
          "output_type": "execute_result"
        }
      ],
      "source": [
        "df.head()"
      ]
    },
    {
      "cell_type": "code",
      "execution_count": null,
      "metadata": {
        "id": "uajeZCc_ZoAY",
        "outputId": "345df96b-e109-487d-eb60-9a30a034da85"
      },
      "outputs": [
        {
          "data": {
            "text/html": [
              "<div>\n",
              "<style scoped>\n",
              "    .dataframe tbody tr th:only-of-type {\n",
              "        vertical-align: middle;\n",
              "    }\n",
              "\n",
              "    .dataframe tbody tr th {\n",
              "        vertical-align: top;\n",
              "    }\n",
              "\n",
              "    .dataframe thead th {\n",
              "        text-align: right;\n",
              "    }\n",
              "</style>\n",
              "<table border=\"1\" class=\"dataframe\">\n",
              "  <thead>\n",
              "    <tr style=\"text-align: right;\">\n",
              "      <th></th>\n",
              "      <th>age</th>\n",
              "      <th>new_user</th>\n",
              "      <th>total_pages_visited</th>\n",
              "      <th>converted</th>\n",
              "    </tr>\n",
              "  </thead>\n",
              "  <tbody>\n",
              "    <tr>\n",
              "      <th>count</th>\n",
              "      <td>284373.000000</td>\n",
              "      <td>284373.000000</td>\n",
              "      <td>284373.000000</td>\n",
              "      <td>284373.000000</td>\n",
              "    </tr>\n",
              "    <tr>\n",
              "      <th>mean</th>\n",
              "      <td>30.540199</td>\n",
              "      <td>0.685473</td>\n",
              "      <td>4.873437</td>\n",
              "      <td>0.032271</td>\n",
              "    </tr>\n",
              "    <tr>\n",
              "      <th>std</th>\n",
              "      <td>8.220222</td>\n",
              "      <td>0.464328</td>\n",
              "      <td>3.342442</td>\n",
              "      <td>0.176719</td>\n",
              "    </tr>\n",
              "    <tr>\n",
              "      <th>min</th>\n",
              "      <td>17.000000</td>\n",
              "      <td>0.000000</td>\n",
              "      <td>1.000000</td>\n",
              "      <td>0.000000</td>\n",
              "    </tr>\n",
              "    <tr>\n",
              "      <th>25%</th>\n",
              "      <td>24.000000</td>\n",
              "      <td>0.000000</td>\n",
              "      <td>2.000000</td>\n",
              "      <td>0.000000</td>\n",
              "    </tr>\n",
              "    <tr>\n",
              "      <th>50%</th>\n",
              "      <td>30.000000</td>\n",
              "      <td>1.000000</td>\n",
              "      <td>4.000000</td>\n",
              "      <td>0.000000</td>\n",
              "    </tr>\n",
              "    <tr>\n",
              "      <th>75%</th>\n",
              "      <td>36.000000</td>\n",
              "      <td>1.000000</td>\n",
              "      <td>7.000000</td>\n",
              "      <td>0.000000</td>\n",
              "    </tr>\n",
              "    <tr>\n",
              "      <th>max</th>\n",
              "      <td>60.000000</td>\n",
              "      <td>1.000000</td>\n",
              "      <td>29.000000</td>\n",
              "      <td>1.000000</td>\n",
              "    </tr>\n",
              "  </tbody>\n",
              "</table>\n",
              "</div>"
            ],
            "text/plain": [
              "                 age       new_user  total_pages_visited      converted\n",
              "count  284373.000000  284373.000000        284373.000000  284373.000000\n",
              "mean       30.540199       0.685473             4.873437       0.032271\n",
              "std         8.220222       0.464328             3.342442       0.176719\n",
              "min        17.000000       0.000000             1.000000       0.000000\n",
              "25%        24.000000       0.000000             2.000000       0.000000\n",
              "50%        30.000000       1.000000             4.000000       0.000000\n",
              "75%        36.000000       1.000000             7.000000       0.000000\n",
              "max        60.000000       1.000000            29.000000       1.000000"
            ]
          },
          "execution_count": 47,
          "metadata": {},
          "output_type": "execute_result"
        }
      ],
      "source": [
        "df.describe()"
      ]
    },
    {
      "cell_type": "code",
      "execution_count": null,
      "metadata": {
        "id": "tr_aC4KsZoAY"
      },
      "outputs": [],
      "source": [
        "corr_matrix = df.corr().round(2)"
      ]
    },
    {
      "cell_type": "code",
      "execution_count": null,
      "metadata": {
        "id": "1mr3i8NPZoAY"
      },
      "outputs": [],
      "source": [
        "import plotly .figure_factory as ff"
      ]
    },
    {
      "cell_type": "code",
      "execution_count": null,
      "metadata": {
        "id": "711CYXW4ZoAZ",
        "outputId": "47e184f5-8619-4502-8280-b46d0d6a40ee"
      },
      "outputs": [
        {
          "data": {
            "image/svg+xml": [
              "<svg class=\"main-svg\" xmlns=\"http://www.w3.org/2000/svg\" xmlns:xlink=\"http://www.w3.org/1999/xlink\" width=\"700\" height=\"500\" style=\"\" viewBox=\"0 0 700 500\"><rect x=\"0\" y=\"0\" width=\"700\" height=\"500\" style=\"fill: rgb(255, 255, 255); fill-opacity: 1;\"/><defs id=\"defs-6ef749\"><g class=\"clips\"><clipPath id=\"clip6ef749xyplot\" class=\"plotclip\"><rect width=\"540\" height=\"320\"/></clipPath><clipPath class=\"axesclip\" id=\"clip6ef749x\"><rect x=\"80\" y=\"0\" width=\"540\" height=\"500\"/></clipPath><clipPath class=\"axesclip\" id=\"clip6ef749y\"><rect x=\"0\" y=\"100\" width=\"700\" height=\"320\"/></clipPath><clipPath class=\"axesclip\" id=\"clip6ef749xy\"><rect x=\"80\" y=\"100\" width=\"540\" height=\"320\"/></clipPath></g><g class=\"gradients\"/><g class=\"patterns\"/></defs><g class=\"bglayer\"/><g class=\"layer-below\"><g class=\"imagelayer\"/><g class=\"shapelayer\"/></g><g class=\"cartesianlayer\"><g class=\"subplot xy\"><g class=\"layer-subplot\"><g class=\"shapelayer\"/><g class=\"imagelayer\"/></g><g class=\"minor-gridlayer\"><g class=\"x\"/><g class=\"y\"/></g><g class=\"gridlayer\"><g class=\"x\"><path class=\"xgrid crisp\" transform=\"translate(147.5,0)\" d=\"M0,100v320\" style=\"stroke: rgb(0, 0, 0); stroke-opacity: 1; stroke-width: 1px;\"/><path class=\"xgrid crisp\" transform=\"translate(282.5,0)\" d=\"M0,100v320\" style=\"stroke: rgb(0, 0, 0); stroke-opacity: 1; stroke-width: 1px;\"/><path class=\"xgrid crisp\" transform=\"translate(417.5,0)\" d=\"M0,100v320\" style=\"stroke: rgb(0, 0, 0); stroke-opacity: 1; stroke-width: 1px;\"/><path class=\"xgrid crisp\" transform=\"translate(552.5,0)\" d=\"M0,100v320\" style=\"stroke: rgb(0, 0, 0); stroke-opacity: 1; stroke-width: 1px;\"/></g><g class=\"y\"><path class=\"ygrid crisp\" transform=\"translate(0,380)\" d=\"M80,0h540\" style=\"stroke: rgb(238, 238, 238); stroke-opacity: 1; stroke-width: 1px;\"/><path class=\"ygrid crisp\" transform=\"translate(0,300)\" d=\"M80,0h540\" style=\"stroke: rgb(238, 238, 238); stroke-opacity: 1; stroke-width: 1px;\"/><path class=\"ygrid crisp\" transform=\"translate(0,220)\" d=\"M80,0h540\" style=\"stroke: rgb(238, 238, 238); stroke-opacity: 1; stroke-width: 1px;\"/><path class=\"ygrid crisp\" transform=\"translate(0,140)\" d=\"M80,0h540\" style=\"stroke: rgb(238, 238, 238); stroke-opacity: 1; stroke-width: 1px;\"/></g></g><g class=\"zerolinelayer\"/><path class=\"xlines-below\"/><path class=\"ylines-below\"/><g class=\"overlines-below\"/><g class=\"xaxislayer-below\"/><g class=\"yaxislayer-below\"/><g class=\"overaxes-below\"/><g class=\"plot\" transform=\"translate(80,100)\" clip-path=\"url(#clip6ef749xyplot)\"><g class=\"heatmaplayer mlayer\"><g class=\"hm\"><image xmlns=\"http://www.w3.org/2000/svg\" preserveAspectRatio=\"none\" height=\"320\" width=\"540\" x=\"0\" y=\"0\" xlink:href=\"data:image/png;base64,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\" style=\"opacity: 1;\"/></g></g></g><g class=\"overplot\"/><path class=\"xlines-above crisp\" d=\"M0,0\" style=\"fill: none;\"/><path class=\"ylines-above crisp\" d=\"M0,0\" style=\"fill: none;\"/><g class=\"overlines-above\"/><g class=\"xaxislayer-above\"><g class=\"xtick\"><text text-anchor=\"middle\" x=\"0\" y=\"96.6\" transform=\"translate(147.5,0)\" style=\"font-family: 'Open Sans', verdana, arial, sans-serif; font-size: 12px; fill: rgb(68, 68, 68); fill-opacity: 1; white-space: pre; opacity: 1;\">age</text></g><g class=\"xtick\"><text text-anchor=\"middle\" x=\"0\" y=\"96.6\" transform=\"translate(282.5,0)\" style=\"font-family: 'Open Sans', verdana, arial, sans-serif; font-size: 12px; fill: rgb(68, 68, 68); fill-opacity: 1; white-space: pre; opacity: 1;\">new_user</text></g><g class=\"xtick\"><text text-anchor=\"middle\" x=\"0\" y=\"96.6\" transform=\"translate(417.5,0)\" style=\"font-family: 'Open Sans', verdana, arial, sans-serif; font-size: 12px; fill: rgb(68, 68, 68); fill-opacity: 1; white-space: pre; opacity: 1;\">total_pages_visited</text></g><g class=\"xtick\"><text text-anchor=\"middle\" x=\"0\" y=\"96.6\" transform=\"translate(552.5,0)\" style=\"font-family: 'Open Sans', verdana, arial, sans-serif; font-size: 12px; fill: rgb(68, 68, 68); fill-opacity: 1; white-space: pre; opacity: 1;\">converted</text></g></g><g class=\"yaxislayer-above\"><g class=\"ytick\"><text text-anchor=\"end\" x=\"79\" y=\"4.199999999999999\" transform=\"translate(0,380)\" style=\"font-family: 'Open Sans', verdana, arial, sans-serif; font-size: 12px; fill: rgb(68, 68, 68); fill-opacity: 1; white-space: pre; opacity: 1;\">age  </text></g><g class=\"ytick\"><text text-anchor=\"end\" x=\"79\" y=\"4.199999999999999\" transform=\"translate(0,300)\" style=\"font-family: 'Open Sans', verdana, arial, sans-serif; font-size: 12px; fill: rgb(68, 68, 68); fill-opacity: 1; white-space: pre; opacity: 1;\">new_user  </text></g><g class=\"ytick\"><text text-anchor=\"end\" x=\"79\" y=\"4.199999999999999\" transform=\"translate(0,220)\" style=\"font-family: 'Open Sans', verdana, arial, sans-serif; font-size: 12px; fill: rgb(68, 68, 68); fill-opacity: 1; white-space: pre; opacity: 1;\">total_pages_visited  </text></g><g class=\"ytick\"><text text-anchor=\"end\" x=\"79\" y=\"4.199999999999999\" transform=\"translate(0,140)\" style=\"font-family: 'Open Sans', verdana, arial, sans-serif; font-size: 12px; fill: rgb(68, 68, 68); fill-opacity: 1; white-space: pre; opacity: 1;\">converted  </text></g></g><g class=\"overaxes-above\"/></g></g><g class=\"polarlayer\"/><g class=\"smithlayer\"/><g class=\"ternarylayer\"/><g class=\"geolayer\"/><g class=\"funnelarealayer\"/><g class=\"pielayer\"/><g class=\"iciclelayer\"/><g class=\"treemaplayer\"/><g class=\"sunburstlayer\"/><g class=\"glimages\"/><defs id=\"topdefs-6ef749\"><g class=\"clips\"/></defs><g class=\"layer-above\"><g class=\"imagelayer\"/><g class=\"shapelayer\"/></g><g class=\"infolayer\"><g class=\"g-gtitle\"/><g class=\"g-xtitle\"/><g class=\"g-ytitle\"/><g class=\"annotation\" data-index=\"0\" style=\"opacity: 1;\"><g class=\"annotation-text-g\" transform=\"rotate(0,147.5,380)\"><g class=\"cursor-pointer\" transform=\"translate(136,371)\"><rect class=\"bg\" x=\"0.5\" y=\"0.5\" width=\"23\" height=\"18\" style=\"stroke-width: 1px; stroke: rgb(0, 0, 0); stroke-opacity: 0; fill: rgb(0, 0, 0); fill-opacity: 0;\"/><text class=\"annotation-text\" text-anchor=\"middle\" x=\"11.8125\" y=\"14\" style=\"font-family: 'Open Sans', verdana, arial, sans-serif; font-size: 12px; fill: rgb(0, 0, 0); fill-opacity: 1; white-space: pre;\">1.0</text></g></g></g><g class=\"annotation\" data-index=\"1\" style=\"opacity: 1;\"><g class=\"annotation-text-g\" transform=\"rotate(0,282.5,380)\"><g class=\"cursor-pointer\" transform=\"translate(267,371)\"><rect class=\"bg\" x=\"0.5\" y=\"0.5\" width=\"30\" height=\"18\" style=\"stroke-width: 1px; stroke: rgb(0, 0, 0); stroke-opacity: 0; fill: rgb(0, 0, 0); fill-opacity: 0;\"/><text class=\"annotation-text\" text-anchor=\"middle\" x=\"15.640625\" y=\"14\" style=\"font-family: 'Open Sans', verdana, arial, sans-serif; font-size: 12px; fill: rgb(255, 255, 255); fill-opacity: 1; white-space: pre;\">0.01</text></g></g></g><g class=\"annotation\" data-index=\"2\" style=\"opacity: 1;\"><g class=\"annotation-text-g\" transform=\"rotate(0,417.5,380)\"><g class=\"cursor-pointer\" transform=\"translate(399,371)\"><rect class=\"bg\" x=\"0.5\" y=\"0.5\" width=\"36\" height=\"18\" style=\"stroke-width: 1px; stroke: rgb(0, 0, 0); stroke-opacity: 0; fill: rgb(0, 0, 0); fill-opacity: 0;\"/><text class=\"annotation-text\" text-anchor=\"middle\" x=\"18.359375\" y=\"14\" style=\"font-family: 'Open Sans', verdana, arial, sans-serif; font-size: 12px; fill: rgb(255, 255, 255); fill-opacity: 1; white-space: pre;\">-0.05</text></g></g></g><g class=\"annotation\" data-index=\"3\" style=\"opacity: 1;\"><g class=\"annotation-text-g\" transform=\"rotate(0,552.5,380)\"><g class=\"cursor-pointer\" transform=\"translate(534,371)\"><rect class=\"bg\" x=\"0.5\" y=\"0.5\" width=\"36\" height=\"18\" style=\"stroke-width: 1px; stroke: rgb(0, 0, 0); stroke-opacity: 0; fill: rgb(0, 0, 0); fill-opacity: 0;\"/><text class=\"annotation-text\" text-anchor=\"middle\" x=\"18.359375\" y=\"14\" style=\"font-family: 'Open Sans', verdana, arial, sans-serif; font-size: 12px; fill: rgb(255, 255, 255); fill-opacity: 1; white-space: pre;\">-0.09</text></g></g></g><g class=\"annotation\" data-index=\"4\" style=\"opacity: 1;\"><g class=\"annotation-text-g\" transform=\"rotate(0,147.5,300)\"><g class=\"cursor-pointer\" transform=\"translate(132,291)\"><rect class=\"bg\" x=\"0.5\" y=\"0.5\" width=\"30\" height=\"18\" style=\"stroke-width: 1px; stroke: rgb(0, 0, 0); stroke-opacity: 0; fill: rgb(0, 0, 0); fill-opacity: 0;\"/><text class=\"annotation-text\" text-anchor=\"middle\" x=\"15.640625\" y=\"14\" style=\"font-family: 'Open Sans', verdana, arial, sans-serif; font-size: 12px; fill: rgb(255, 255, 255); fill-opacity: 1; white-space: pre;\">0.01</text></g></g></g><g class=\"annotation\" data-index=\"5\" style=\"opacity: 1;\"><g class=\"annotation-text-g\" transform=\"rotate(0,282.5,300)\"><g class=\"cursor-pointer\" transform=\"translate(271,291)\"><rect class=\"bg\" x=\"0.5\" y=\"0.5\" width=\"23\" height=\"18\" style=\"stroke-width: 1px; stroke: rgb(0, 0, 0); stroke-opacity: 0; fill: rgb(0, 0, 0); fill-opacity: 0;\"/><text class=\"annotation-text\" text-anchor=\"middle\" x=\"11.8125\" y=\"14\" style=\"font-family: 'Open Sans', verdana, arial, sans-serif; font-size: 12px; fill: rgb(0, 0, 0); fill-opacity: 1; white-space: pre;\">1.0</text></g></g></g><g class=\"annotation\" data-index=\"6\" style=\"opacity: 1;\"><g class=\"annotation-text-g\" transform=\"rotate(0,417.5,300)\"><g class=\"cursor-pointer\" transform=\"translate(399,291)\"><rect class=\"bg\" x=\"0.5\" y=\"0.5\" width=\"36\" height=\"18\" style=\"stroke-width: 1px; stroke: rgb(0, 0, 0); stroke-opacity: 0; fill: rgb(0, 0, 0); fill-opacity: 0;\"/><text class=\"annotation-text\" text-anchor=\"middle\" x=\"18.359375\" y=\"14\" style=\"font-family: 'Open Sans', verdana, arial, sans-serif; font-size: 12px; fill: rgb(255, 255, 255); fill-opacity: 1; white-space: pre;\">-0.08</text></g></g></g><g class=\"annotation\" data-index=\"7\" style=\"opacity: 1;\"><g class=\"annotation-text-g\" transform=\"rotate(0,552.5,300)\"><g class=\"cursor-pointer\" transform=\"translate(534,291)\"><rect class=\"bg\" x=\"0.5\" y=\"0.5\" width=\"36\" height=\"18\" style=\"stroke-width: 1px; stroke: rgb(0, 0, 0); stroke-opacity: 0; fill: rgb(0, 0, 0); fill-opacity: 0;\"/><text class=\"annotation-text\" text-anchor=\"middle\" x=\"18.359375\" y=\"14\" style=\"font-family: 'Open Sans', verdana, arial, sans-serif; font-size: 12px; fill: rgb(255, 255, 255); fill-opacity: 1; white-space: pre;\">-0.15</text></g></g></g><g class=\"annotation\" data-index=\"8\" style=\"opacity: 1;\"><g class=\"annotation-text-g\" transform=\"rotate(0,147.5,220)\"><g class=\"cursor-pointer\" transform=\"translate(129,211)\"><rect class=\"bg\" x=\"0.5\" y=\"0.5\" width=\"36\" height=\"18\" style=\"stroke-width: 1px; stroke: rgb(0, 0, 0); stroke-opacity: 0; fill: rgb(0, 0, 0); fill-opacity: 0;\"/><text class=\"annotation-text\" text-anchor=\"middle\" x=\"18.359375\" y=\"14\" style=\"font-family: 'Open Sans', verdana, arial, sans-serif; font-size: 12px; fill: rgb(255, 255, 255); fill-opacity: 1; white-space: pre;\">-0.05</text></g></g></g><g class=\"annotation\" data-index=\"9\" style=\"opacity: 1;\"><g class=\"annotation-text-g\" transform=\"rotate(0,282.5,220)\"><g class=\"cursor-pointer\" transform=\"translate(264,211)\"><rect class=\"bg\" x=\"0.5\" y=\"0.5\" width=\"36\" height=\"18\" style=\"stroke-width: 1px; stroke: rgb(0, 0, 0); stroke-opacity: 0; fill: rgb(0, 0, 0); fill-opacity: 0;\"/><text class=\"annotation-text\" text-anchor=\"middle\" x=\"18.359375\" y=\"14\" style=\"font-family: 'Open Sans', verdana, arial, sans-serif; font-size: 12px; fill: rgb(255, 255, 255); fill-opacity: 1; white-space: pre;\">-0.08</text></g></g></g><g class=\"annotation\" data-index=\"10\" style=\"opacity: 1;\"><g class=\"annotation-text-g\" transform=\"rotate(0,417.5,220)\"><g class=\"cursor-pointer\" transform=\"translate(406,211)\"><rect class=\"bg\" x=\"0.5\" y=\"0.5\" width=\"23\" height=\"18\" style=\"stroke-width: 1px; stroke: rgb(0, 0, 0); stroke-opacity: 0; fill: rgb(0, 0, 0); fill-opacity: 0;\"/><text class=\"annotation-text\" text-anchor=\"middle\" x=\"11.8125\" y=\"14\" style=\"font-family: 'Open Sans', verdana, arial, sans-serif; font-size: 12px; fill: rgb(0, 0, 0); fill-opacity: 1; white-space: pre;\">1.0</text></g></g></g><g class=\"annotation\" data-index=\"11\" style=\"opacity: 1;\"><g class=\"annotation-text-g\" transform=\"rotate(0,552.5,220)\"><g class=\"cursor-pointer\" transform=\"translate(537,211)\"><rect class=\"bg\" x=\"0.5\" y=\"0.5\" width=\"30\" height=\"18\" style=\"stroke-width: 1px; stroke: rgb(0, 0, 0); stroke-opacity: 0; fill: rgb(0, 0, 0); fill-opacity: 0;\"/><text class=\"annotation-text\" text-anchor=\"middle\" x=\"15.640625\" y=\"14\" style=\"font-family: 'Open Sans', verdana, arial, sans-serif; font-size: 12px; fill: rgb(0, 0, 0); fill-opacity: 1; white-space: pre;\">0.53</text></g></g></g><g class=\"annotation\" data-index=\"12\" style=\"opacity: 1;\"><g class=\"annotation-text-g\" transform=\"rotate(0,147.5,140)\"><g class=\"cursor-pointer\" transform=\"translate(129,131)\"><rect class=\"bg\" x=\"0.5\" y=\"0.5\" width=\"36\" height=\"18\" style=\"stroke-width: 1px; stroke: rgb(0, 0, 0); stroke-opacity: 0; fill: rgb(0, 0, 0); fill-opacity: 0;\"/><text class=\"annotation-text\" text-anchor=\"middle\" x=\"18.359375\" y=\"14\" style=\"font-family: 'Open Sans', verdana, arial, sans-serif; font-size: 12px; fill: rgb(255, 255, 255); fill-opacity: 1; white-space: pre;\">-0.09</text></g></g></g><g class=\"annotation\" data-index=\"13\" style=\"opacity: 1;\"><g class=\"annotation-text-g\" transform=\"rotate(0,282.5,140)\"><g class=\"cursor-pointer\" transform=\"translate(264,131)\"><rect class=\"bg\" x=\"0.5\" y=\"0.5\" width=\"36\" height=\"18\" style=\"stroke-width: 1px; stroke: rgb(0, 0, 0); stroke-opacity: 0; fill: rgb(0, 0, 0); fill-opacity: 0;\"/><text class=\"annotation-text\" text-anchor=\"middle\" x=\"18.359375\" y=\"14\" style=\"font-family: 'Open Sans', verdana, arial, sans-serif; font-size: 12px; fill: rgb(255, 255, 255); fill-opacity: 1; white-space: pre;\">-0.15</text></g></g></g><g class=\"annotation\" data-index=\"14\" style=\"opacity: 1;\"><g class=\"annotation-text-g\" transform=\"rotate(0,417.5,140)\"><g class=\"cursor-pointer\" transform=\"translate(402,131)\"><rect class=\"bg\" x=\"0.5\" y=\"0.5\" width=\"30\" height=\"18\" style=\"stroke-width: 1px; stroke: rgb(0, 0, 0); stroke-opacity: 0; fill: rgb(0, 0, 0); fill-opacity: 0;\"/><text class=\"annotation-text\" text-anchor=\"middle\" x=\"15.640625\" y=\"14\" style=\"font-family: 'Open Sans', verdana, arial, sans-serif; font-size: 12px; fill: rgb(0, 0, 0); fill-opacity: 1; white-space: pre;\">0.53</text></g></g></g><g class=\"annotation\" data-index=\"15\" style=\"opacity: 1;\"><g class=\"annotation-text-g\" transform=\"rotate(0,552.5,140)\"><g class=\"cursor-pointer\" transform=\"translate(541,131)\"><rect class=\"bg\" x=\"0.5\" y=\"0.5\" width=\"23\" height=\"18\" style=\"stroke-width: 1px; stroke: rgb(0, 0, 0); stroke-opacity: 0; fill: rgb(0, 0, 0); fill-opacity: 0;\"/><text class=\"annotation-text\" text-anchor=\"middle\" x=\"11.8125\" y=\"14\" style=\"font-family: 'Open Sans', verdana, arial, sans-serif; font-size: 12px; fill: rgb(0, 0, 0); fill-opacity: 1; white-space: pre;\">1.0</text></g></g></g></g></svg>"
            ]
          },
          "metadata": {},
          "output_type": "display_data"
        }
      ],
      "source": [
        "fig = ff.create_annotated_heatmap(corr_matrix.values, x=corr_matrix.columns.tolist(),y=corr_matrix.index.tolist())\n",
        "fig.show()"
      ]
    }
  ],
  "metadata": {
    "colab": {
      "machine_shape": "hm",
      "toc_visible": true,
      "provenance": []
    },
    "kernelspec": {
      "display_name": "Python 3",
      "name": "python3"
    },
    "language_info": {
      "codemirror_mode": {
        "name": "ipython",
        "version": 3
      },
      "file_extension": ".py",
      "mimetype": "text/x-python",
      "name": "python",
      "nbconvert_exporter": "python",
      "pygments_lexer": "ipython3",
      "version": "3.10.7"
    },
    "vscode": {
      "interpreter": {
        "hash": "c9a9d21d1e2fbc5f241b11eeec21110a48ecbe0f03ffe029eb439c7e3fe038b7"
      }
    }
  },
  "nbformat": 4,
  "nbformat_minor": 0
}